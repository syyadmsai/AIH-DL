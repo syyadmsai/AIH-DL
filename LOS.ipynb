{
  "cells": [
    {
      "cell_type": "code",
      "execution_count": 1,
      "metadata": {
        "id": "pHCOF2Zon8I0"
      },
      "outputs": [],
      "source": [
        "# Imports\n",
        "import pandas as pd\n",
        "import numpy as np\n",
        "import matplotlib.pyplot as plt\n",
        "import seaborn as sns\n",
        "from sklearn.model_selection import train_test_split\n",
        "from sklearn.metrics import r2_score, mean_squared_error\n",
        "from sklearn.preprocessing import MinMaxScaler\n",
        "from sklearn.neighbors import KNeighborsRegressor\n",
        "from sklearn.linear_model import LinearRegression\n",
        "from sklearn.svm import SVR\n",
        "from sklearn.ensemble import RandomForestRegressor\n",
        "from sklearn.tree import DecisionTreeRegressor\n",
        "from sklearn.ensemble import GradientBoostingRegressor\n",
        "from sklearn.linear_model import SGDRegressor\n",
        "from sklearn.model_selection import GridSearchCV"
      ]
    },
    {
      "cell_type": "code",
      "execution_count": 2,
      "metadata": {},
      "outputs": [],
      "source": [
        "base_path = 'C:/Users/SYYAD/Documents/MSAI/AI in Healthcare/NLP/'"
      ]
    },
    {
      "cell_type": "markdown",
      "metadata": {
        "id": "lftojnXMBSSC"
      },
      "source": [
        "**Load Data**"
      ]
    },
    {
      "cell_type": "code",
      "execution_count": 5,
      "metadata": {
        "id": "uX-FPjC6ovts"
      },
      "outputs": [],
      "source": [
        "# Primary Admissions information\n",
        "# Add'.gz' if you uploaded .gz file\n",
        "df = pd.read_csv(base_path + \"ADMISSIONS.csv\", low_memory=False)  \n",
        "# df = pd.read_csv('ADMISSIONS.csv.gz')\n",
        "\n",
        "# Patient specific info such as gender\n",
        "df_pat = pd.read_csv(base_path + \"PATIENTS.csv\", low_memory=False)  \n",
        "\n",
        "# Diagnosis for each admission to hospital\n",
        "df_diagcode = pd.read_csv(base_path + \"DIAGNOSES_ICD.csv\", low_memory=False)  \n",
        "\n",
        "# Intensive Care Unit (ICU) for each admission to hospital\n",
        "df_icu = pd.read_csv(base_path + \"ICUSTAYS.csv\", low_memory=False)  "
      ]
    },
    {
      "cell_type": "markdown",
      "metadata": {
        "id": "GQyncmAaBnLE"
      },
      "source": [
        "**Feature Engineering: ADMISSIONS Table**"
      ]
    },
    {
      "cell_type": "code",
      "execution_count": 6,
      "metadata": {
        "colab": {
          "base_uri": "https://localhost:8080/"
        },
        "id": "WAbdC6xxaOhf",
        "outputId": "d1840613-d333-4677-cd52-2abe4ec9fe6c"
      },
      "outputs": [
        {
          "data": {
            "text/plain": [
              "['ROW_ID',\n",
              " 'SUBJECT_ID',\n",
              " 'HADM_ID',\n",
              " 'ADMITTIME',\n",
              " 'DISCHTIME',\n",
              " 'DEATHTIME',\n",
              " 'ADMISSION_TYPE',\n",
              " 'ADMISSION_LOCATION',\n",
              " 'DISCHARGE_LOCATION',\n",
              " 'INSURANCE',\n",
              " 'LANGUAGE',\n",
              " 'RELIGION',\n",
              " 'MARITAL_STATUS',\n",
              " 'ETHNICITY',\n",
              " 'EDREGTIME',\n",
              " 'EDOUTTIME',\n",
              " 'DIAGNOSIS',\n",
              " 'HOSPITAL_EXPIRE_FLAG',\n",
              " 'HAS_CHARTEVENTS_DATA']"
            ]
          },
          "execution_count": 6,
          "metadata": {},
          "output_type": "execute_result"
        }
      ],
      "source": [
        "list(df)"
      ]
    },
    {
      "cell_type": "code",
      "execution_count": 7,
      "metadata": {
        "colab": {
          "base_uri": "https://localhost:8080/"
        },
        "id": "7H0pLY2GoyTj",
        "outputId": "979720bc-cb3f-4f78-c358-e3d8d3db186f"
      },
      "outputs": [
        {
          "data": {
            "text/plain": [
              "HOSPITAL_EXPIRE_FLAG\n",
              "0    53122\n",
              "1     5854\n",
              "Name: count, dtype: int64"
            ]
          },
          "execution_count": 7,
          "metadata": {},
          "output_type": "execute_result"
        }
      ],
      "source": [
        "df[\"HOSPITAL_EXPIRE_FLAG\"].value_counts()"
      ]
    },
    {
      "cell_type": "code",
      "execution_count": 8,
      "metadata": {
        "colab": {
          "base_uri": "https://localhost:8080/"
        },
        "id": "fM4qkt_mo12p",
        "outputId": "3fa9df52-b70f-494c-cde7-51e48a472a9a"
      },
      "outputs": [
        {
          "name": "stdout",
          "output_type": "stream",
          "text": [
            "Dataset has 58976 number of unique admission events.\n",
            "Dataset has 46520 number of unique patients.\n"
          ]
        }
      ],
      "source": [
        "print('Dataset has {} number of unique admission events.'.format(df['HADM_ID'].nunique()))\n",
        "print('Dataset has {} number of unique patients.'.format(df['SUBJECT_ID'].nunique()))"
      ]
    },
    {
      "cell_type": "code",
      "execution_count": 9,
      "metadata": {
        "colab": {
          "base_uri": "https://localhost:8080/",
          "height": 400
        },
        "id": "XKeoZTMxo4c1",
        "outputId": "613271ef-eb17-4724-e8d4-a3af8b5f37e8"
      },
      "outputs": [
        {
          "data": {
            "text/html": [
              "<div>\n",
              "<style scoped>\n",
              "    .dataframe tbody tr th:only-of-type {\n",
              "        vertical-align: middle;\n",
              "    }\n",
              "\n",
              "    .dataframe tbody tr th {\n",
              "        vertical-align: top;\n",
              "    }\n",
              "\n",
              "    .dataframe thead th {\n",
              "        text-align: right;\n",
              "    }\n",
              "</style>\n",
              "<table border=\"1\" class=\"dataframe\">\n",
              "  <thead>\n",
              "    <tr style=\"text-align: right;\">\n",
              "      <th></th>\n",
              "      <th>ROW_ID</th>\n",
              "      <th>SUBJECT_ID</th>\n",
              "      <th>HADM_ID</th>\n",
              "      <th>ADMITTIME</th>\n",
              "      <th>DISCHTIME</th>\n",
              "      <th>DEATHTIME</th>\n",
              "      <th>ADMISSION_TYPE</th>\n",
              "      <th>ADMISSION_LOCATION</th>\n",
              "      <th>DISCHARGE_LOCATION</th>\n",
              "      <th>INSURANCE</th>\n",
              "      <th>LANGUAGE</th>\n",
              "      <th>RELIGION</th>\n",
              "      <th>MARITAL_STATUS</th>\n",
              "      <th>ETHNICITY</th>\n",
              "      <th>EDREGTIME</th>\n",
              "      <th>EDOUTTIME</th>\n",
              "      <th>DIAGNOSIS</th>\n",
              "      <th>HOSPITAL_EXPIRE_FLAG</th>\n",
              "      <th>HAS_CHARTEVENTS_DATA</th>\n",
              "    </tr>\n",
              "  </thead>\n",
              "  <tbody>\n",
              "    <tr>\n",
              "      <th>0</th>\n",
              "      <td>21</td>\n",
              "      <td>22</td>\n",
              "      <td>165315</td>\n",
              "      <td>2196-04-09 12:26:00</td>\n",
              "      <td>2196-04-10 15:54:00</td>\n",
              "      <td>NaN</td>\n",
              "      <td>EMERGENCY</td>\n",
              "      <td>EMERGENCY ROOM ADMIT</td>\n",
              "      <td>DISC-TRAN CANCER/CHLDRN H</td>\n",
              "      <td>Private</td>\n",
              "      <td>NaN</td>\n",
              "      <td>UNOBTAINABLE</td>\n",
              "      <td>MARRIED</td>\n",
              "      <td>WHITE</td>\n",
              "      <td>2196-04-09 10:06:00</td>\n",
              "      <td>2196-04-09 13:24:00</td>\n",
              "      <td>BENZODIAZEPINE OVERDOSE</td>\n",
              "      <td>0</td>\n",
              "      <td>1</td>\n",
              "    </tr>\n",
              "    <tr>\n",
              "      <th>1</th>\n",
              "      <td>22</td>\n",
              "      <td>23</td>\n",
              "      <td>152223</td>\n",
              "      <td>2153-09-03 07:15:00</td>\n",
              "      <td>2153-09-08 19:10:00</td>\n",
              "      <td>NaN</td>\n",
              "      <td>ELECTIVE</td>\n",
              "      <td>PHYS REFERRAL/NORMAL DELI</td>\n",
              "      <td>HOME HEALTH CARE</td>\n",
              "      <td>Medicare</td>\n",
              "      <td>NaN</td>\n",
              "      <td>CATHOLIC</td>\n",
              "      <td>MARRIED</td>\n",
              "      <td>WHITE</td>\n",
              "      <td>NaN</td>\n",
              "      <td>NaN</td>\n",
              "      <td>CORONARY ARTERY DISEASE\\CORONARY ARTERY BYPASS...</td>\n",
              "      <td>0</td>\n",
              "      <td>1</td>\n",
              "    </tr>\n",
              "    <tr>\n",
              "      <th>2</th>\n",
              "      <td>23</td>\n",
              "      <td>23</td>\n",
              "      <td>124321</td>\n",
              "      <td>2157-10-18 19:34:00</td>\n",
              "      <td>2157-10-25 14:00:00</td>\n",
              "      <td>NaN</td>\n",
              "      <td>EMERGENCY</td>\n",
              "      <td>TRANSFER FROM HOSP/EXTRAM</td>\n",
              "      <td>HOME HEALTH CARE</td>\n",
              "      <td>Medicare</td>\n",
              "      <td>ENGL</td>\n",
              "      <td>CATHOLIC</td>\n",
              "      <td>MARRIED</td>\n",
              "      <td>WHITE</td>\n",
              "      <td>NaN</td>\n",
              "      <td>NaN</td>\n",
              "      <td>BRAIN MASS</td>\n",
              "      <td>0</td>\n",
              "      <td>1</td>\n",
              "    </tr>\n",
              "    <tr>\n",
              "      <th>3</th>\n",
              "      <td>24</td>\n",
              "      <td>24</td>\n",
              "      <td>161859</td>\n",
              "      <td>2139-06-06 16:14:00</td>\n",
              "      <td>2139-06-09 12:48:00</td>\n",
              "      <td>NaN</td>\n",
              "      <td>EMERGENCY</td>\n",
              "      <td>TRANSFER FROM HOSP/EXTRAM</td>\n",
              "      <td>HOME</td>\n",
              "      <td>Private</td>\n",
              "      <td>NaN</td>\n",
              "      <td>PROTESTANT QUAKER</td>\n",
              "      <td>SINGLE</td>\n",
              "      <td>WHITE</td>\n",
              "      <td>NaN</td>\n",
              "      <td>NaN</td>\n",
              "      <td>INTERIOR MYOCARDIAL INFARCTION</td>\n",
              "      <td>0</td>\n",
              "      <td>1</td>\n",
              "    </tr>\n",
              "    <tr>\n",
              "      <th>4</th>\n",
              "      <td>25</td>\n",
              "      <td>25</td>\n",
              "      <td>129635</td>\n",
              "      <td>2160-11-02 02:06:00</td>\n",
              "      <td>2160-11-05 14:55:00</td>\n",
              "      <td>NaN</td>\n",
              "      <td>EMERGENCY</td>\n",
              "      <td>EMERGENCY ROOM ADMIT</td>\n",
              "      <td>HOME</td>\n",
              "      <td>Private</td>\n",
              "      <td>NaN</td>\n",
              "      <td>UNOBTAINABLE</td>\n",
              "      <td>MARRIED</td>\n",
              "      <td>WHITE</td>\n",
              "      <td>2160-11-02 01:01:00</td>\n",
              "      <td>2160-11-02 04:27:00</td>\n",
              "      <td>ACUTE CORONARY SYNDROME</td>\n",
              "      <td>0</td>\n",
              "      <td>1</td>\n",
              "    </tr>\n",
              "  </tbody>\n",
              "</table>\n",
              "</div>"
            ],
            "text/plain": [
              "   ROW_ID  SUBJECT_ID  HADM_ID            ADMITTIME            DISCHTIME  \\\n",
              "0      21          22   165315  2196-04-09 12:26:00  2196-04-10 15:54:00   \n",
              "1      22          23   152223  2153-09-03 07:15:00  2153-09-08 19:10:00   \n",
              "2      23          23   124321  2157-10-18 19:34:00  2157-10-25 14:00:00   \n",
              "3      24          24   161859  2139-06-06 16:14:00  2139-06-09 12:48:00   \n",
              "4      25          25   129635  2160-11-02 02:06:00  2160-11-05 14:55:00   \n",
              "\n",
              "  DEATHTIME ADMISSION_TYPE         ADMISSION_LOCATION  \\\n",
              "0       NaN      EMERGENCY       EMERGENCY ROOM ADMIT   \n",
              "1       NaN       ELECTIVE  PHYS REFERRAL/NORMAL DELI   \n",
              "2       NaN      EMERGENCY  TRANSFER FROM HOSP/EXTRAM   \n",
              "3       NaN      EMERGENCY  TRANSFER FROM HOSP/EXTRAM   \n",
              "4       NaN      EMERGENCY       EMERGENCY ROOM ADMIT   \n",
              "\n",
              "          DISCHARGE_LOCATION INSURANCE LANGUAGE           RELIGION  \\\n",
              "0  DISC-TRAN CANCER/CHLDRN H   Private      NaN       UNOBTAINABLE   \n",
              "1           HOME HEALTH CARE  Medicare      NaN           CATHOLIC   \n",
              "2           HOME HEALTH CARE  Medicare     ENGL           CATHOLIC   \n",
              "3                       HOME   Private      NaN  PROTESTANT QUAKER   \n",
              "4                       HOME   Private      NaN       UNOBTAINABLE   \n",
              "\n",
              "  MARITAL_STATUS ETHNICITY            EDREGTIME            EDOUTTIME  \\\n",
              "0        MARRIED     WHITE  2196-04-09 10:06:00  2196-04-09 13:24:00   \n",
              "1        MARRIED     WHITE                  NaN                  NaN   \n",
              "2        MARRIED     WHITE                  NaN                  NaN   \n",
              "3         SINGLE     WHITE                  NaN                  NaN   \n",
              "4        MARRIED     WHITE  2160-11-02 01:01:00  2160-11-02 04:27:00   \n",
              "\n",
              "                                           DIAGNOSIS  HOSPITAL_EXPIRE_FLAG  \\\n",
              "0                            BENZODIAZEPINE OVERDOSE                     0   \n",
              "1  CORONARY ARTERY DISEASE\\CORONARY ARTERY BYPASS...                     0   \n",
              "2                                         BRAIN MASS                     0   \n",
              "3                     INTERIOR MYOCARDIAL INFARCTION                     0   \n",
              "4                            ACUTE CORONARY SYNDROME                     0   \n",
              "\n",
              "   HAS_CHARTEVENTS_DATA  \n",
              "0                     1  \n",
              "1                     1  \n",
              "2                     1  \n",
              "3                     1  \n",
              "4                     1  "
            ]
          },
          "execution_count": 9,
          "metadata": {},
          "output_type": "execute_result"
        }
      ],
      "source": [
        "df.head()"
      ]
    },
    {
      "cell_type": "code",
      "execution_count": 10,
      "metadata": {
        "id": "gPRhxQrbo7i5"
      },
      "outputs": [],
      "source": [
        "# Convert admission and discharge times to datatime type\n",
        "df['ADMITTIME'] = pd.to_datetime(df['ADMITTIME'])\n",
        "df['DISCHTIME'] = pd.to_datetime(df['DISCHTIME'])\n",
        "\n",
        "# Convert timedelta type into float 'days', 86400 seconds in a day\n",
        "df['LOS'] = (df['DISCHTIME'] - df['ADMITTIME']).dt.total_seconds()/86400"
      ]
    },
    {
      "cell_type": "code",
      "execution_count": 11,
      "metadata": {
        "colab": {
          "base_uri": "https://localhost:8080/",
          "height": 206
        },
        "id": "HOHzkPhmo-sj",
        "outputId": "6974f249-392e-4e9c-dded-56d5a9c39ca9"
      },
      "outputs": [
        {
          "data": {
            "text/html": [
              "<div>\n",
              "<style scoped>\n",
              "    .dataframe tbody tr th:only-of-type {\n",
              "        vertical-align: middle;\n",
              "    }\n",
              "\n",
              "    .dataframe tbody tr th {\n",
              "        vertical-align: top;\n",
              "    }\n",
              "\n",
              "    .dataframe thead th {\n",
              "        text-align: right;\n",
              "    }\n",
              "</style>\n",
              "<table border=\"1\" class=\"dataframe\">\n",
              "  <thead>\n",
              "    <tr style=\"text-align: right;\">\n",
              "      <th></th>\n",
              "      <th>ADMITTIME</th>\n",
              "      <th>DISCHTIME</th>\n",
              "      <th>LOS</th>\n",
              "    </tr>\n",
              "  </thead>\n",
              "  <tbody>\n",
              "    <tr>\n",
              "      <th>0</th>\n",
              "      <td>2196-04-09 12:26:00</td>\n",
              "      <td>2196-04-10 15:54:00</td>\n",
              "      <td>1.144444</td>\n",
              "    </tr>\n",
              "    <tr>\n",
              "      <th>1</th>\n",
              "      <td>2153-09-03 07:15:00</td>\n",
              "      <td>2153-09-08 19:10:00</td>\n",
              "      <td>5.496528</td>\n",
              "    </tr>\n",
              "    <tr>\n",
              "      <th>2</th>\n",
              "      <td>2157-10-18 19:34:00</td>\n",
              "      <td>2157-10-25 14:00:00</td>\n",
              "      <td>6.768056</td>\n",
              "    </tr>\n",
              "    <tr>\n",
              "      <th>3</th>\n",
              "      <td>2139-06-06 16:14:00</td>\n",
              "      <td>2139-06-09 12:48:00</td>\n",
              "      <td>2.856944</td>\n",
              "    </tr>\n",
              "    <tr>\n",
              "      <th>4</th>\n",
              "      <td>2160-11-02 02:06:00</td>\n",
              "      <td>2160-11-05 14:55:00</td>\n",
              "      <td>3.534028</td>\n",
              "    </tr>\n",
              "  </tbody>\n",
              "</table>\n",
              "</div>"
            ],
            "text/plain": [
              "            ADMITTIME           DISCHTIME       LOS\n",
              "0 2196-04-09 12:26:00 2196-04-10 15:54:00  1.144444\n",
              "1 2153-09-03 07:15:00 2153-09-08 19:10:00  5.496528\n",
              "2 2157-10-18 19:34:00 2157-10-25 14:00:00  6.768056\n",
              "3 2139-06-06 16:14:00 2139-06-09 12:48:00  2.856944\n",
              "4 2160-11-02 02:06:00 2160-11-05 14:55:00  3.534028"
            ]
          },
          "execution_count": 11,
          "metadata": {},
          "output_type": "execute_result"
        }
      ],
      "source": [
        "# Verify\n",
        "df[['ADMITTIME', 'DISCHTIME', 'LOS']].head()"
      ]
    },
    {
      "cell_type": "code",
      "execution_count": 12,
      "metadata": {
        "colab": {
          "base_uri": "https://localhost:8080/"
        },
        "id": "4fDRgZ11pCh_",
        "outputId": "721309de-4500-40c4-8549-3967fd0d9dba"
      },
      "outputs": [
        {
          "data": {
            "text/plain": [
              "count    58976.000000\n",
              "mean        10.133916\n",
              "std         12.456682\n",
              "min         -0.945139\n",
              "25%          3.743750\n",
              "50%          6.467014\n",
              "75%         11.795139\n",
              "max        294.660417\n",
              "Name: LOS, dtype: float64"
            ]
          },
          "execution_count": 12,
          "metadata": {},
          "output_type": "execute_result"
        }
      ],
      "source": [
        "df['LOS'].describe()"
      ]
    },
    {
      "cell_type": "code",
      "execution_count": 13,
      "metadata": {
        "colab": {
          "base_uri": "https://localhost:8080/",
          "height": 808
        },
        "id": "4DINudQFpGJk",
        "outputId": "b84d597b-e942-447f-be8e-96e21e39499a"
      },
      "outputs": [
        {
          "data": {
            "text/html": [
              "<div>\n",
              "<style scoped>\n",
              "    .dataframe tbody tr th:only-of-type {\n",
              "        vertical-align: middle;\n",
              "    }\n",
              "\n",
              "    .dataframe tbody tr th {\n",
              "        vertical-align: top;\n",
              "    }\n",
              "\n",
              "    .dataframe thead th {\n",
              "        text-align: right;\n",
              "    }\n",
              "</style>\n",
              "<table border=\"1\" class=\"dataframe\">\n",
              "  <thead>\n",
              "    <tr style=\"text-align: right;\">\n",
              "      <th></th>\n",
              "      <th>ROW_ID</th>\n",
              "      <th>SUBJECT_ID</th>\n",
              "      <th>HADM_ID</th>\n",
              "      <th>ADMITTIME</th>\n",
              "      <th>DISCHTIME</th>\n",
              "      <th>DEATHTIME</th>\n",
              "      <th>ADMISSION_TYPE</th>\n",
              "      <th>ADMISSION_LOCATION</th>\n",
              "      <th>DISCHARGE_LOCATION</th>\n",
              "      <th>INSURANCE</th>\n",
              "      <th>LANGUAGE</th>\n",
              "      <th>RELIGION</th>\n",
              "      <th>MARITAL_STATUS</th>\n",
              "      <th>ETHNICITY</th>\n",
              "      <th>EDREGTIME</th>\n",
              "      <th>EDOUTTIME</th>\n",
              "      <th>DIAGNOSIS</th>\n",
              "      <th>HOSPITAL_EXPIRE_FLAG</th>\n",
              "      <th>HAS_CHARTEVENTS_DATA</th>\n",
              "      <th>LOS</th>\n",
              "    </tr>\n",
              "  </thead>\n",
              "  <tbody>\n",
              "    <tr>\n",
              "      <th>425</th>\n",
              "      <td>534</td>\n",
              "      <td>417</td>\n",
              "      <td>102633</td>\n",
              "      <td>2177-03-23 16:17:00</td>\n",
              "      <td>2177-03-23 07:20:00</td>\n",
              "      <td>2177-03-23 07:20:00</td>\n",
              "      <td>URGENT</td>\n",
              "      <td>PHYS REFERRAL/NORMAL DELI</td>\n",
              "      <td>DEAD/EXPIRED</td>\n",
              "      <td>Private</td>\n",
              "      <td>NaN</td>\n",
              "      <td>UNOBTAINABLE</td>\n",
              "      <td>MARRIED</td>\n",
              "      <td>WHITE</td>\n",
              "      <td>NaN</td>\n",
              "      <td>NaN</td>\n",
              "      <td>ORGAN DONOR ACCOUNT</td>\n",
              "      <td>1</td>\n",
              "      <td>1</td>\n",
              "      <td>-0.372917</td>\n",
              "    </tr>\n",
              "    <tr>\n",
              "      <th>456</th>\n",
              "      <td>237</td>\n",
              "      <td>181</td>\n",
              "      <td>102631</td>\n",
              "      <td>2153-10-12 09:49:00</td>\n",
              "      <td>2153-10-12 06:29:00</td>\n",
              "      <td>2153-10-12 06:29:00</td>\n",
              "      <td>EMERGENCY</td>\n",
              "      <td>EMERGENCY ROOM ADMIT</td>\n",
              "      <td>DEAD/EXPIRED</td>\n",
              "      <td>Private</td>\n",
              "      <td>NaN</td>\n",
              "      <td>PROTESTANT QUAKER</td>\n",
              "      <td>MARRIED</td>\n",
              "      <td>WHITE</td>\n",
              "      <td>2153-10-12 06:23:00</td>\n",
              "      <td>2153-10-12 07:45:00</td>\n",
              "      <td>DISSECTING ANEURYSIM</td>\n",
              "      <td>1</td>\n",
              "      <td>1</td>\n",
              "      <td>-0.138889</td>\n",
              "    </tr>\n",
              "    <tr>\n",
              "      <th>692</th>\n",
              "      <td>644</td>\n",
              "      <td>516</td>\n",
              "      <td>187482</td>\n",
              "      <td>2197-07-31 20:18:00</td>\n",
              "      <td>2197-07-31 01:10:00</td>\n",
              "      <td>2197-07-31 01:10:00</td>\n",
              "      <td>EMERGENCY</td>\n",
              "      <td>EMERGENCY ROOM ADMIT</td>\n",
              "      <td>DEAD/EXPIRED</td>\n",
              "      <td>Medicare</td>\n",
              "      <td>NaN</td>\n",
              "      <td>JEWISH</td>\n",
              "      <td>WIDOWED</td>\n",
              "      <td>UNKNOWN/NOT SPECIFIED</td>\n",
              "      <td>2197-07-31 11:31:00</td>\n",
              "      <td>2197-07-31 14:35:00</td>\n",
              "      <td>RESPIRATORY DISTRESS</td>\n",
              "      <td>1</td>\n",
              "      <td>0</td>\n",
              "      <td>-0.797222</td>\n",
              "    </tr>\n",
              "    <tr>\n",
              "      <th>1911</th>\n",
              "      <td>1640</td>\n",
              "      <td>1334</td>\n",
              "      <td>138015</td>\n",
              "      <td>2137-09-02 14:43:00</td>\n",
              "      <td>2137-09-02 12:00:00</td>\n",
              "      <td>2137-09-02 12:00:00</td>\n",
              "      <td>NEWBORN</td>\n",
              "      <td>CLINIC REFERRAL/PREMATURE</td>\n",
              "      <td>DEAD/EXPIRED</td>\n",
              "      <td>Private</td>\n",
              "      <td>NaN</td>\n",
              "      <td>PROTESTANT QUAKER</td>\n",
              "      <td>NaN</td>\n",
              "      <td>WHITE</td>\n",
              "      <td>NaN</td>\n",
              "      <td>NaN</td>\n",
              "      <td>NEWBORN</td>\n",
              "      <td>1</td>\n",
              "      <td>1</td>\n",
              "      <td>-0.113194</td>\n",
              "    </tr>\n",
              "    <tr>\n",
              "      <th>1970</th>\n",
              "      <td>1699</td>\n",
              "      <td>1381</td>\n",
              "      <td>181430</td>\n",
              "      <td>2189-01-02 14:25:00</td>\n",
              "      <td>2189-01-02 12:00:00</td>\n",
              "      <td>2189-01-02 12:00:00</td>\n",
              "      <td>EMERGENCY</td>\n",
              "      <td>EMERGENCY ROOM ADMIT</td>\n",
              "      <td>DEAD/EXPIRED</td>\n",
              "      <td>Medicare</td>\n",
              "      <td>NaN</td>\n",
              "      <td>UNOBTAINABLE</td>\n",
              "      <td>MARRIED</td>\n",
              "      <td>WHITE</td>\n",
              "      <td>2189-01-02 10:31:00</td>\n",
              "      <td>2189-01-02 15:56:00</td>\n",
              "      <td>STROKE;TELEMETRY</td>\n",
              "      <td>1</td>\n",
              "      <td>1</td>\n",
              "      <td>-0.100694</td>\n",
              "    </tr>\n",
              "    <tr>\n",
              "      <th>...</th>\n",
              "      <td>...</td>\n",
              "      <td>...</td>\n",
              "      <td>...</td>\n",
              "      <td>...</td>\n",
              "      <td>...</td>\n",
              "      <td>...</td>\n",
              "      <td>...</td>\n",
              "      <td>...</td>\n",
              "      <td>...</td>\n",
              "      <td>...</td>\n",
              "      <td>...</td>\n",
              "      <td>...</td>\n",
              "      <td>...</td>\n",
              "      <td>...</td>\n",
              "      <td>...</td>\n",
              "      <td>...</td>\n",
              "      <td>...</td>\n",
              "      <td>...</td>\n",
              "      <td>...</td>\n",
              "      <td>...</td>\n",
              "    </tr>\n",
              "    <tr>\n",
              "      <th>57233</th>\n",
              "      <td>57980</td>\n",
              "      <td>96810</td>\n",
              "      <td>165589</td>\n",
              "      <td>2103-09-25 20:38:00</td>\n",
              "      <td>2103-09-25 12:00:00</td>\n",
              "      <td>2103-09-25 12:00:00</td>\n",
              "      <td>EMERGENCY</td>\n",
              "      <td>EMERGENCY ROOM ADMIT</td>\n",
              "      <td>DEAD/EXPIRED</td>\n",
              "      <td>Medicaid</td>\n",
              "      <td>RUSS</td>\n",
              "      <td>UNOBTAINABLE</td>\n",
              "      <td>WIDOWED</td>\n",
              "      <td>WHITE</td>\n",
              "      <td>2103-09-25 19:27:00</td>\n",
              "      <td>2103-09-25 21:37:00</td>\n",
              "      <td>CARDIAC ARREST</td>\n",
              "      <td>1</td>\n",
              "      <td>1</td>\n",
              "      <td>-0.359722</td>\n",
              "    </tr>\n",
              "    <tr>\n",
              "      <th>57559</th>\n",
              "      <td>58635</td>\n",
              "      <td>98943</td>\n",
              "      <td>193747</td>\n",
              "      <td>2164-11-14 20:03:00</td>\n",
              "      <td>2164-11-14 12:00:00</td>\n",
              "      <td>2164-11-14 12:00:00</td>\n",
              "      <td>EMERGENCY</td>\n",
              "      <td>EMERGENCY ROOM ADMIT</td>\n",
              "      <td>DEAD/EXPIRED</td>\n",
              "      <td>Medicare</td>\n",
              "      <td>ENGL</td>\n",
              "      <td>UNOBTAINABLE</td>\n",
              "      <td>MARRIED</td>\n",
              "      <td>WHITE</td>\n",
              "      <td>2164-11-14 18:24:00</td>\n",
              "      <td>2164-11-14 20:54:00</td>\n",
              "      <td>INTRACRANIAL HEMORRHAGE</td>\n",
              "      <td>1</td>\n",
              "      <td>1</td>\n",
              "      <td>-0.335417</td>\n",
              "    </tr>\n",
              "    <tr>\n",
              "      <th>57902</th>\n",
              "      <td>58720</td>\n",
              "      <td>99207</td>\n",
              "      <td>191004</td>\n",
              "      <td>2143-07-06 19:59:00</td>\n",
              "      <td>2143-07-06 12:00:00</td>\n",
              "      <td>2143-07-06 12:00:00</td>\n",
              "      <td>EMERGENCY</td>\n",
              "      <td>EMERGENCY ROOM ADMIT</td>\n",
              "      <td>DEAD/EXPIRED</td>\n",
              "      <td>Medicaid</td>\n",
              "      <td>ENGL</td>\n",
              "      <td>CATHOLIC</td>\n",
              "      <td>DIVORCED</td>\n",
              "      <td>WHITE</td>\n",
              "      <td>2143-07-06 19:30:00</td>\n",
              "      <td>2143-07-06 20:05:00</td>\n",
              "      <td>GSW L. CHEST  WALL &amp; ABDOMEN</td>\n",
              "      <td>1</td>\n",
              "      <td>1</td>\n",
              "      <td>-0.332639</td>\n",
              "    </tr>\n",
              "    <tr>\n",
              "      <th>58346</th>\n",
              "      <td>55950</td>\n",
              "      <td>90642</td>\n",
              "      <td>101946</td>\n",
              "      <td>2122-04-24 14:36:00</td>\n",
              "      <td>2122-04-24 12:00:00</td>\n",
              "      <td>2122-04-24 12:00:00</td>\n",
              "      <td>EMERGENCY</td>\n",
              "      <td>TRANSFER FROM HOSP/EXTRAM</td>\n",
              "      <td>DEAD/EXPIRED</td>\n",
              "      <td>Private</td>\n",
              "      <td>NaN</td>\n",
              "      <td>CATHOLIC</td>\n",
              "      <td>MARRIED</td>\n",
              "      <td>UNABLE TO OBTAIN</td>\n",
              "      <td>NaN</td>\n",
              "      <td>NaN</td>\n",
              "      <td>ST-SEGMENT ELEVATION MYOCARDIAL INFARCTION\\CATH</td>\n",
              "      <td>1</td>\n",
              "      <td>1</td>\n",
              "      <td>-0.108333</td>\n",
              "    </tr>\n",
              "    <tr>\n",
              "      <th>58884</th>\n",
              "      <td>57477</td>\n",
              "      <td>95367</td>\n",
              "      <td>139266</td>\n",
              "      <td>2135-04-03 14:16:00</td>\n",
              "      <td>2135-04-03 12:00:00</td>\n",
              "      <td>2135-04-03 12:00:00</td>\n",
              "      <td>EMERGENCY</td>\n",
              "      <td>EMERGENCY ROOM ADMIT</td>\n",
              "      <td>DEAD/EXPIRED</td>\n",
              "      <td>Medicare</td>\n",
              "      <td>ENGL</td>\n",
              "      <td>CATHOLIC</td>\n",
              "      <td>MARRIED</td>\n",
              "      <td>WHITE</td>\n",
              "      <td>2135-04-03 12:23:00</td>\n",
              "      <td>2135-04-03 15:41:00</td>\n",
              "      <td>CHEST PAIN</td>\n",
              "      <td>1</td>\n",
              "      <td>1</td>\n",
              "      <td>-0.094444</td>\n",
              "    </tr>\n",
              "  </tbody>\n",
              "</table>\n",
              "<p>98 rows × 20 columns</p>\n",
              "</div>"
            ],
            "text/plain": [
              "       ROW_ID  SUBJECT_ID  HADM_ID           ADMITTIME           DISCHTIME  \\\n",
              "425       534         417   102633 2177-03-23 16:17:00 2177-03-23 07:20:00   \n",
              "456       237         181   102631 2153-10-12 09:49:00 2153-10-12 06:29:00   \n",
              "692       644         516   187482 2197-07-31 20:18:00 2197-07-31 01:10:00   \n",
              "1911     1640        1334   138015 2137-09-02 14:43:00 2137-09-02 12:00:00   \n",
              "1970     1699        1381   181430 2189-01-02 14:25:00 2189-01-02 12:00:00   \n",
              "...       ...         ...      ...                 ...                 ...   \n",
              "57233   57980       96810   165589 2103-09-25 20:38:00 2103-09-25 12:00:00   \n",
              "57559   58635       98943   193747 2164-11-14 20:03:00 2164-11-14 12:00:00   \n",
              "57902   58720       99207   191004 2143-07-06 19:59:00 2143-07-06 12:00:00   \n",
              "58346   55950       90642   101946 2122-04-24 14:36:00 2122-04-24 12:00:00   \n",
              "58884   57477       95367   139266 2135-04-03 14:16:00 2135-04-03 12:00:00   \n",
              "\n",
              "                 DEATHTIME ADMISSION_TYPE         ADMISSION_LOCATION  \\\n",
              "425    2177-03-23 07:20:00         URGENT  PHYS REFERRAL/NORMAL DELI   \n",
              "456    2153-10-12 06:29:00      EMERGENCY       EMERGENCY ROOM ADMIT   \n",
              "692    2197-07-31 01:10:00      EMERGENCY       EMERGENCY ROOM ADMIT   \n",
              "1911   2137-09-02 12:00:00        NEWBORN  CLINIC REFERRAL/PREMATURE   \n",
              "1970   2189-01-02 12:00:00      EMERGENCY       EMERGENCY ROOM ADMIT   \n",
              "...                    ...            ...                        ...   \n",
              "57233  2103-09-25 12:00:00      EMERGENCY       EMERGENCY ROOM ADMIT   \n",
              "57559  2164-11-14 12:00:00      EMERGENCY       EMERGENCY ROOM ADMIT   \n",
              "57902  2143-07-06 12:00:00      EMERGENCY       EMERGENCY ROOM ADMIT   \n",
              "58346  2122-04-24 12:00:00      EMERGENCY  TRANSFER FROM HOSP/EXTRAM   \n",
              "58884  2135-04-03 12:00:00      EMERGENCY       EMERGENCY ROOM ADMIT   \n",
              "\n",
              "      DISCHARGE_LOCATION INSURANCE LANGUAGE           RELIGION MARITAL_STATUS  \\\n",
              "425         DEAD/EXPIRED   Private      NaN       UNOBTAINABLE        MARRIED   \n",
              "456         DEAD/EXPIRED   Private      NaN  PROTESTANT QUAKER        MARRIED   \n",
              "692         DEAD/EXPIRED  Medicare      NaN             JEWISH        WIDOWED   \n",
              "1911        DEAD/EXPIRED   Private      NaN  PROTESTANT QUAKER            NaN   \n",
              "1970        DEAD/EXPIRED  Medicare      NaN       UNOBTAINABLE        MARRIED   \n",
              "...                  ...       ...      ...                ...            ...   \n",
              "57233       DEAD/EXPIRED  Medicaid     RUSS       UNOBTAINABLE        WIDOWED   \n",
              "57559       DEAD/EXPIRED  Medicare     ENGL       UNOBTAINABLE        MARRIED   \n",
              "57902       DEAD/EXPIRED  Medicaid     ENGL           CATHOLIC       DIVORCED   \n",
              "58346       DEAD/EXPIRED   Private      NaN           CATHOLIC        MARRIED   \n",
              "58884       DEAD/EXPIRED  Medicare     ENGL           CATHOLIC        MARRIED   \n",
              "\n",
              "                   ETHNICITY            EDREGTIME            EDOUTTIME  \\\n",
              "425                    WHITE                  NaN                  NaN   \n",
              "456                    WHITE  2153-10-12 06:23:00  2153-10-12 07:45:00   \n",
              "692    UNKNOWN/NOT SPECIFIED  2197-07-31 11:31:00  2197-07-31 14:35:00   \n",
              "1911                   WHITE                  NaN                  NaN   \n",
              "1970                   WHITE  2189-01-02 10:31:00  2189-01-02 15:56:00   \n",
              "...                      ...                  ...                  ...   \n",
              "57233                  WHITE  2103-09-25 19:27:00  2103-09-25 21:37:00   \n",
              "57559                  WHITE  2164-11-14 18:24:00  2164-11-14 20:54:00   \n",
              "57902                  WHITE  2143-07-06 19:30:00  2143-07-06 20:05:00   \n",
              "58346       UNABLE TO OBTAIN                  NaN                  NaN   \n",
              "58884                  WHITE  2135-04-03 12:23:00  2135-04-03 15:41:00   \n",
              "\n",
              "                                             DIAGNOSIS  HOSPITAL_EXPIRE_FLAG  \\\n",
              "425                                ORGAN DONOR ACCOUNT                     1   \n",
              "456                               DISSECTING ANEURYSIM                     1   \n",
              "692                               RESPIRATORY DISTRESS                     1   \n",
              "1911                                           NEWBORN                     1   \n",
              "1970                                  STROKE;TELEMETRY                     1   \n",
              "...                                                ...                   ...   \n",
              "57233                                   CARDIAC ARREST                     1   \n",
              "57559                          INTRACRANIAL HEMORRHAGE                     1   \n",
              "57902                     GSW L. CHEST  WALL & ABDOMEN                     1   \n",
              "58346  ST-SEGMENT ELEVATION MYOCARDIAL INFARCTION\\CATH                     1   \n",
              "58884                                       CHEST PAIN                     1   \n",
              "\n",
              "       HAS_CHARTEVENTS_DATA       LOS  \n",
              "425                       1 -0.372917  \n",
              "456                       1 -0.138889  \n",
              "692                       0 -0.797222  \n",
              "1911                      1 -0.113194  \n",
              "1970                      1 -0.100694  \n",
              "...                     ...       ...  \n",
              "57233                     1 -0.359722  \n",
              "57559                     1 -0.335417  \n",
              "57902                     1 -0.332639  \n",
              "58346                     1 -0.108333  \n",
              "58884                     1 -0.094444  \n",
              "\n",
              "[98 rows x 20 columns]"
            ]
          },
          "execution_count": 13,
          "metadata": {},
          "output_type": "execute_result"
        }
      ],
      "source": [
        "# Look at what is happening with negative LOS values\n",
        "df[df['LOS'] < 0]"
      ]
    },
    {
      "cell_type": "code",
      "execution_count": 14,
      "metadata": {
        "colab": {
          "base_uri": "https://localhost:8080/"
        },
        "id": "z-qiu4N0pMW-",
        "outputId": "c6984f45-cd05-4249-aaf7-c95f6563f048"
      },
      "outputs": [
        {
          "data": {
            "text/plain": [
              "count    58878.000000\n",
              "mean        10.151266\n",
              "std         12.459774\n",
              "min          0.001389\n",
              "25%          3.755556\n",
              "50%          6.489583\n",
              "75%         11.805556\n",
              "max        294.660417\n",
              "Name: LOS, dtype: float64"
            ]
          },
          "execution_count": 14,
          "metadata": {},
          "output_type": "execute_result"
        }
      ],
      "source": [
        "# Drop rows with negative LOS, usually related to a time of death before admission\n",
        "df['LOS'][df['LOS'] > 0].describe()"
      ]
    },
    {
      "cell_type": "code",
      "execution_count": 15,
      "metadata": {
        "id": "lmobRrA1pQNf"
      },
      "outputs": [],
      "source": [
        "# Drop LOS < 0\n",
        "df = df[df['LOS'] > 0]"
      ]
    },
    {
      "cell_type": "code",
      "execution_count": 16,
      "metadata": {
        "colab": {
          "base_uri": "https://localhost:8080/",
          "height": 493
        },
        "id": "KY-2Jb01pSkY",
        "outputId": "1d07455b-3cf6-441e-8721-0e751549abae"
      },
      "outputs": [
        {
          "data": {
            "image/png": "[encoded data removed]",
            "text/plain": [
              "<Figure size 640x480 with 1 Axes>"
            ]
          },
          "metadata": {},
          "output_type": "display_data"
        }
      ],
      "source": [
        "# Plot LOS Distribution\n",
        "plt.hist(df['LOS'], bins=200, color = '#55a868')\n",
        "plt.xlim(0, 50)\n",
        "plt.title('Distribution of LOS for all hospital admissions \\n incl. deceased')\n",
        "plt.ylabel('Count')\n",
        "plt.xlabel('Length-of-Stay (days)')\n",
        "plt.tick_params(top=False, right=False)\n",
        "plt.show();"
      ]
    },
    {
      "cell_type": "code",
      "execution_count": 17,
      "metadata": {
        "id": "4gY8yQPlpXQO"
      },
      "outputs": [],
      "source": [
        "# Pre-emptively drop some columns that I don't need anymore\n",
        "df.drop(columns=['DISCHTIME', 'ROW_ID',\n",
        "                'EDREGTIME', 'EDOUTTIME', 'HOSPITAL_EXPIRE_FLAG',\n",
        "                'HAS_CHARTEVENTS_DATA'], inplace=True)"
      ]
    },
    {
      "cell_type": "code",
      "execution_count": 18,
      "metadata": {
        "id": "09e8856_pcnU"
      },
      "outputs": [],
      "source": [
        "# Mark admissions where patients died in boolean column\n",
        "df['DECEASED'] = df['DEATHTIME'].notnull().map({True:1, False:0})"
      ]
    },
    {
      "cell_type": "code",
      "execution_count": 19,
      "metadata": {
        "colab": {
          "base_uri": "https://localhost:8080/"
        },
        "id": "-tPfoJ8OpftB",
        "outputId": "5ddb9d3f-7842-498a-8a00-d51bec62dd7d"
      },
      "outputs": [
        {
          "name": "stdout",
          "output_type": "stream",
          "text": [
            "5774 of 46445 patients died in the hospital\n"
          ]
        }
      ],
      "source": [
        "print(\"{} of {} patients died in the hospital\".format(df['DECEASED'].sum(),\n",
        "                                                     df['SUBJECT_ID'].nunique()))"
      ]
    },
    {
      "cell_type": "code",
      "execution_count": 20,
      "metadata": {
        "colab": {
          "base_uri": "https://localhost:8080/",
          "height": 400
        },
        "id": "M8X457foWeiU",
        "outputId": "ff86c7fb-bf7b-4d1c-bd48-d8efb962f4a6"
      },
      "outputs": [
        {
          "data": {
            "text/html": [
              "<div>\n",
              "<style scoped>\n",
              "    .dataframe tbody tr th:only-of-type {\n",
              "        vertical-align: middle;\n",
              "    }\n",
              "\n",
              "    .dataframe tbody tr th {\n",
              "        vertical-align: top;\n",
              "    }\n",
              "\n",
              "    .dataframe thead th {\n",
              "        text-align: right;\n",
              "    }\n",
              "</style>\n",
              "<table border=\"1\" class=\"dataframe\">\n",
              "  <thead>\n",
              "    <tr style=\"text-align: right;\">\n",
              "      <th></th>\n",
              "      <th>SUBJECT_ID</th>\n",
              "      <th>HADM_ID</th>\n",
              "      <th>ADMITTIME</th>\n",
              "      <th>DEATHTIME</th>\n",
              "      <th>ADMISSION_TYPE</th>\n",
              "      <th>ADMISSION_LOCATION</th>\n",
              "      <th>DISCHARGE_LOCATION</th>\n",
              "      <th>INSURANCE</th>\n",
              "      <th>LANGUAGE</th>\n",
              "      <th>RELIGION</th>\n",
              "      <th>MARITAL_STATUS</th>\n",
              "      <th>ETHNICITY</th>\n",
              "      <th>DIAGNOSIS</th>\n",
              "      <th>LOS</th>\n",
              "      <th>DECEASED</th>\n",
              "    </tr>\n",
              "  </thead>\n",
              "  <tbody>\n",
              "    <tr>\n",
              "      <th>0</th>\n",
              "      <td>22</td>\n",
              "      <td>165315</td>\n",
              "      <td>2196-04-09 12:26:00</td>\n",
              "      <td>NaN</td>\n",
              "      <td>EMERGENCY</td>\n",
              "      <td>EMERGENCY ROOM ADMIT</td>\n",
              "      <td>DISC-TRAN CANCER/CHLDRN H</td>\n",
              "      <td>Private</td>\n",
              "      <td>NaN</td>\n",
              "      <td>UNOBTAINABLE</td>\n",
              "      <td>MARRIED</td>\n",
              "      <td>WHITE</td>\n",
              "      <td>BENZODIAZEPINE OVERDOSE</td>\n",
              "      <td>1.144444</td>\n",
              "      <td>0</td>\n",
              "    </tr>\n",
              "    <tr>\n",
              "      <th>1</th>\n",
              "      <td>23</td>\n",
              "      <td>152223</td>\n",
              "      <td>2153-09-03 07:15:00</td>\n",
              "      <td>NaN</td>\n",
              "      <td>ELECTIVE</td>\n",
              "      <td>PHYS REFERRAL/NORMAL DELI</td>\n",
              "      <td>HOME HEALTH CARE</td>\n",
              "      <td>Medicare</td>\n",
              "      <td>NaN</td>\n",
              "      <td>CATHOLIC</td>\n",
              "      <td>MARRIED</td>\n",
              "      <td>WHITE</td>\n",
              "      <td>CORONARY ARTERY DISEASE\\CORONARY ARTERY BYPASS...</td>\n",
              "      <td>5.496528</td>\n",
              "      <td>0</td>\n",
              "    </tr>\n",
              "    <tr>\n",
              "      <th>2</th>\n",
              "      <td>23</td>\n",
              "      <td>124321</td>\n",
              "      <td>2157-10-18 19:34:00</td>\n",
              "      <td>NaN</td>\n",
              "      <td>EMERGENCY</td>\n",
              "      <td>TRANSFER FROM HOSP/EXTRAM</td>\n",
              "      <td>HOME HEALTH CARE</td>\n",
              "      <td>Medicare</td>\n",
              "      <td>ENGL</td>\n",
              "      <td>CATHOLIC</td>\n",
              "      <td>MARRIED</td>\n",
              "      <td>WHITE</td>\n",
              "      <td>BRAIN MASS</td>\n",
              "      <td>6.768056</td>\n",
              "      <td>0</td>\n",
              "    </tr>\n",
              "    <tr>\n",
              "      <th>3</th>\n",
              "      <td>24</td>\n",
              "      <td>161859</td>\n",
              "      <td>2139-06-06 16:14:00</td>\n",
              "      <td>NaN</td>\n",
              "      <td>EMERGENCY</td>\n",
              "      <td>TRANSFER FROM HOSP/EXTRAM</td>\n",
              "      <td>HOME</td>\n",
              "      <td>Private</td>\n",
              "      <td>NaN</td>\n",
              "      <td>PROTESTANT QUAKER</td>\n",
              "      <td>SINGLE</td>\n",
              "      <td>WHITE</td>\n",
              "      <td>INTERIOR MYOCARDIAL INFARCTION</td>\n",
              "      <td>2.856944</td>\n",
              "      <td>0</td>\n",
              "    </tr>\n",
              "    <tr>\n",
              "      <th>4</th>\n",
              "      <td>25</td>\n",
              "      <td>129635</td>\n",
              "      <td>2160-11-02 02:06:00</td>\n",
              "      <td>NaN</td>\n",
              "      <td>EMERGENCY</td>\n",
              "      <td>EMERGENCY ROOM ADMIT</td>\n",
              "      <td>HOME</td>\n",
              "      <td>Private</td>\n",
              "      <td>NaN</td>\n",
              "      <td>UNOBTAINABLE</td>\n",
              "      <td>MARRIED</td>\n",
              "      <td>WHITE</td>\n",
              "      <td>ACUTE CORONARY SYNDROME</td>\n",
              "      <td>3.534028</td>\n",
              "      <td>0</td>\n",
              "    </tr>\n",
              "  </tbody>\n",
              "</table>\n",
              "</div>"
            ],
            "text/plain": [
              "   SUBJECT_ID  HADM_ID           ADMITTIME DEATHTIME ADMISSION_TYPE  \\\n",
              "0          22   165315 2196-04-09 12:26:00       NaN      EMERGENCY   \n",
              "1          23   152223 2153-09-03 07:15:00       NaN       ELECTIVE   \n",
              "2          23   124321 2157-10-18 19:34:00       NaN      EMERGENCY   \n",
              "3          24   161859 2139-06-06 16:14:00       NaN      EMERGENCY   \n",
              "4          25   129635 2160-11-02 02:06:00       NaN      EMERGENCY   \n",
              "\n",
              "          ADMISSION_LOCATION         DISCHARGE_LOCATION INSURANCE LANGUAGE  \\\n",
              "0       EMERGENCY ROOM ADMIT  DISC-TRAN CANCER/CHLDRN H   Private      NaN   \n",
              "1  PHYS REFERRAL/NORMAL DELI           HOME HEALTH CARE  Medicare      NaN   \n",
              "2  TRANSFER FROM HOSP/EXTRAM           HOME HEALTH CARE  Medicare     ENGL   \n",
              "3  TRANSFER FROM HOSP/EXTRAM                       HOME   Private      NaN   \n",
              "4       EMERGENCY ROOM ADMIT                       HOME   Private      NaN   \n",
              "\n",
              "            RELIGION MARITAL_STATUS ETHNICITY  \\\n",
              "0       UNOBTAINABLE        MARRIED     WHITE   \n",
              "1           CATHOLIC        MARRIED     WHITE   \n",
              "2           CATHOLIC        MARRIED     WHITE   \n",
              "3  PROTESTANT QUAKER         SINGLE     WHITE   \n",
              "4       UNOBTAINABLE        MARRIED     WHITE   \n",
              "\n",
              "                                           DIAGNOSIS       LOS  DECEASED  \n",
              "0                            BENZODIAZEPINE OVERDOSE  1.144444         0  \n",
              "1  CORONARY ARTERY DISEASE\\CORONARY ARTERY BYPASS...  5.496528         0  \n",
              "2                                         BRAIN MASS  6.768056         0  \n",
              "3                     INTERIOR MYOCARDIAL INFARCTION  2.856944         0  \n",
              "4                            ACUTE CORONARY SYNDROME  3.534028         0  "
            ]
          },
          "execution_count": 20,
          "metadata": {},
          "output_type": "execute_result"
        }
      ],
      "source": [
        "df.head()\n"
      ]
    },
    {
      "cell_type": "code",
      "execution_count": 21,
      "metadata": {
        "colab": {
          "base_uri": "https://localhost:8080/"
        },
        "id": "L4R1UAzlW2UP",
        "outputId": "c60b0f7c-b4b5-4614-8b4c-2c793e79f21e"
      },
      "outputs": [
        {
          "data": {
            "text/plain": [
              "count    5774.0\n",
              "mean        1.0\n",
              "std         0.0\n",
              "min         1.0\n",
              "25%         1.0\n",
              "50%         1.0\n",
              "75%         1.0\n",
              "max         1.0\n",
              "Name: DECEASED, dtype: float64"
            ]
          },
          "execution_count": 21,
          "metadata": {},
          "output_type": "execute_result"
        }
      ],
      "source": [
        "df['DECEASED'][df['DECEASED']== 1].describe()"
      ]
    },
    {
      "cell_type": "code",
      "execution_count": 22,
      "metadata": {
        "colab": {
          "base_uri": "https://localhost:8080/",
          "height": 400
        },
        "id": "PEM8WRdYYOhI",
        "outputId": "96f888f8-a897-433c-dfb8-b8734dcc902a"
      },
      "outputs": [
        {
          "data": {
            "text/html": [
              "<div>\n",
              "<style scoped>\n",
              "    .dataframe tbody tr th:only-of-type {\n",
              "        vertical-align: middle;\n",
              "    }\n",
              "\n",
              "    .dataframe tbody tr th {\n",
              "        vertical-align: top;\n",
              "    }\n",
              "\n",
              "    .dataframe thead th {\n",
              "        text-align: right;\n",
              "    }\n",
              "</style>\n",
              "<table border=\"1\" class=\"dataframe\">\n",
              "  <thead>\n",
              "    <tr style=\"text-align: right;\">\n",
              "      <th></th>\n",
              "      <th>SUBJECT_ID</th>\n",
              "      <th>HADM_ID</th>\n",
              "      <th>ADMITTIME</th>\n",
              "      <th>DEATHTIME</th>\n",
              "      <th>ADMISSION_TYPE</th>\n",
              "      <th>ADMISSION_LOCATION</th>\n",
              "      <th>DISCHARGE_LOCATION</th>\n",
              "      <th>INSURANCE</th>\n",
              "      <th>LANGUAGE</th>\n",
              "      <th>RELIGION</th>\n",
              "      <th>MARITAL_STATUS</th>\n",
              "      <th>ETHNICITY</th>\n",
              "      <th>DIAGNOSIS</th>\n",
              "      <th>LOS</th>\n",
              "      <th>DECEASED</th>\n",
              "    </tr>\n",
              "  </thead>\n",
              "  <tbody>\n",
              "    <tr>\n",
              "      <th>9</th>\n",
              "      <td>31</td>\n",
              "      <td>128652</td>\n",
              "      <td>2108-08-22 23:27:00</td>\n",
              "      <td>2108-08-30 15:00:00</td>\n",
              "      <td>EMERGENCY</td>\n",
              "      <td>TRANSFER FROM HOSP/EXTRAM</td>\n",
              "      <td>DEAD/EXPIRED</td>\n",
              "      <td>Medicare</td>\n",
              "      <td>NaN</td>\n",
              "      <td>CATHOLIC</td>\n",
              "      <td>MARRIED</td>\n",
              "      <td>WHITE</td>\n",
              "      <td>STATUS EPILEPTICUS</td>\n",
              "      <td>7.647917</td>\n",
              "      <td>1</td>\n",
              "    </tr>\n",
              "    <tr>\n",
              "      <th>57</th>\n",
              "      <td>56</td>\n",
              "      <td>181711</td>\n",
              "      <td>2104-01-02 02:01:00</td>\n",
              "      <td>2104-01-08 10:30:00</td>\n",
              "      <td>EMERGENCY</td>\n",
              "      <td>EMERGENCY ROOM ADMIT</td>\n",
              "      <td>DEAD/EXPIRED</td>\n",
              "      <td>Medicare</td>\n",
              "      <td>NaN</td>\n",
              "      <td>NOT SPECIFIED</td>\n",
              "      <td>NaN</td>\n",
              "      <td>WHITE</td>\n",
              "      <td>HEAD BLEED</td>\n",
              "      <td>6.353472</td>\n",
              "      <td>1</td>\n",
              "    </tr>\n",
              "    <tr>\n",
              "      <th>63</th>\n",
              "      <td>61</td>\n",
              "      <td>189535</td>\n",
              "      <td>2119-01-04 18:12:00</td>\n",
              "      <td>2119-02-03 01:35:00</td>\n",
              "      <td>EMERGENCY</td>\n",
              "      <td>CLINIC REFERRAL/PREMATURE</td>\n",
              "      <td>DEAD/EXPIRED</td>\n",
              "      <td>Private</td>\n",
              "      <td>NaN</td>\n",
              "      <td>CATHOLIC</td>\n",
              "      <td>MARRIED</td>\n",
              "      <td>WHITE</td>\n",
              "      <td>NON-HODGKINS LYMPHOMA;FEBRILE;NEUTROPENIA</td>\n",
              "      <td>29.307639</td>\n",
              "      <td>1</td>\n",
              "    </tr>\n",
              "    <tr>\n",
              "      <th>70</th>\n",
              "      <td>67</td>\n",
              "      <td>155252</td>\n",
              "      <td>2157-12-02 00:45:00</td>\n",
              "      <td>2157-12-02 03:55:00</td>\n",
              "      <td>EMERGENCY</td>\n",
              "      <td>EMERGENCY ROOM ADMIT</td>\n",
              "      <td>DEAD/EXPIRED</td>\n",
              "      <td>Medicare</td>\n",
              "      <td>NaN</td>\n",
              "      <td>JEWISH</td>\n",
              "      <td>SINGLE</td>\n",
              "      <td>WHITE</td>\n",
              "      <td>SUBARACHNOID HEMORRHAGE</td>\n",
              "      <td>0.131944</td>\n",
              "      <td>1</td>\n",
              "    </tr>\n",
              "    <tr>\n",
              "      <th>88</th>\n",
              "      <td>84</td>\n",
              "      <td>166401</td>\n",
              "      <td>2196-04-14 04:02:00</td>\n",
              "      <td>2196-04-17 13:42:00</td>\n",
              "      <td>EMERGENCY</td>\n",
              "      <td>EMERGENCY ROOM ADMIT</td>\n",
              "      <td>DEAD/EXPIRED</td>\n",
              "      <td>Private</td>\n",
              "      <td>NaN</td>\n",
              "      <td>OTHER</td>\n",
              "      <td>MARRIED</td>\n",
              "      <td>WHITE</td>\n",
              "      <td>GLIOBLASTOMA,NAUSEA</td>\n",
              "      <td>3.402778</td>\n",
              "      <td>1</td>\n",
              "    </tr>\n",
              "  </tbody>\n",
              "</table>\n",
              "</div>"
            ],
            "text/plain": [
              "    SUBJECT_ID  HADM_ID           ADMITTIME            DEATHTIME  \\\n",
              "9           31   128652 2108-08-22 23:27:00  2108-08-30 15:00:00   \n",
              "57          56   181711 2104-01-02 02:01:00  2104-01-08 10:30:00   \n",
              "63          61   189535 2119-01-04 18:12:00  2119-02-03 01:35:00   \n",
              "70          67   155252 2157-12-02 00:45:00  2157-12-02 03:55:00   \n",
              "88          84   166401 2196-04-14 04:02:00  2196-04-17 13:42:00   \n",
              "\n",
              "   ADMISSION_TYPE         ADMISSION_LOCATION DISCHARGE_LOCATION INSURANCE  \\\n",
              "9       EMERGENCY  TRANSFER FROM HOSP/EXTRAM       DEAD/EXPIRED  Medicare   \n",
              "57      EMERGENCY       EMERGENCY ROOM ADMIT       DEAD/EXPIRED  Medicare   \n",
              "63      EMERGENCY  CLINIC REFERRAL/PREMATURE       DEAD/EXPIRED   Private   \n",
              "70      EMERGENCY       EMERGENCY ROOM ADMIT       DEAD/EXPIRED  Medicare   \n",
              "88      EMERGENCY       EMERGENCY ROOM ADMIT       DEAD/EXPIRED   Private   \n",
              "\n",
              "   LANGUAGE       RELIGION MARITAL_STATUS ETHNICITY  \\\n",
              "9       NaN       CATHOLIC        MARRIED     WHITE   \n",
              "57      NaN  NOT SPECIFIED            NaN     WHITE   \n",
              "63      NaN       CATHOLIC        MARRIED     WHITE   \n",
              "70      NaN         JEWISH         SINGLE     WHITE   \n",
              "88      NaN          OTHER        MARRIED     WHITE   \n",
              "\n",
              "                                    DIAGNOSIS        LOS  DECEASED  \n",
              "9                          STATUS EPILEPTICUS   7.647917         1  \n",
              "57                                 HEAD BLEED   6.353472         1  \n",
              "63  NON-HODGKINS LYMPHOMA;FEBRILE;NEUTROPENIA  29.307639         1  \n",
              "70                    SUBARACHNOID HEMORRHAGE   0.131944         1  \n",
              "88                        GLIOBLASTOMA,NAUSEA   3.402778         1  "
            ]
          },
          "execution_count": 22,
          "metadata": {},
          "output_type": "execute_result"
        }
      ],
      "source": [
        "df[df['DECEASED']==1].head()\n"
      ]
    },
    {
      "cell_type": "code",
      "execution_count": 23,
      "metadata": {
        "colab": {
          "base_uri": "https://localhost:8080/"
        },
        "id": "gACeNKGvpiLg",
        "outputId": "26101b70-4011-46dc-ce21-7ba1743cad3c"
      },
      "outputs": [
        {
          "data": {
            "text/plain": [
              "count    53104.000000\n",
              "mean        10.138174\n",
              "std         12.284461\n",
              "min          0.014583\n",
              "25%          3.866667\n",
              "50%          6.565972\n",
              "75%         11.711632\n",
              "max        294.660417\n",
              "Name: LOS, dtype: float64"
            ]
          },
          "execution_count": 23,
          "metadata": {},
          "output_type": "execute_result"
        }
      ],
      "source": [
        "# Look at statistics less admissions resulting in death\n",
        "df['LOS'].loc[df['DECEASED'] == 0].describe()"
      ]
    },
    {
      "cell_type": "code",
      "execution_count": 24,
      "metadata": {
        "colab": {
          "base_uri": "https://localhost:8080/"
        },
        "id": "Epp6mUcRppcn",
        "outputId": "b1f3497b-311d-466f-f986-71905d46f504"
      },
      "outputs": [
        {
          "name": "stdout",
          "output_type": "stream",
          "text": [
            "10.138173704219813\n",
            "6.565972222222222\n"
          ]
        }
      ],
      "source": [
        "# Hospital LOS metrics for later comparison\n",
        "actual_mean_los = df['LOS'].loc[df['DECEASED'] == 0].mean()\n",
        "actual_median_los = df['LOS'].loc[df['DECEASED'] == 0].median()\n",
        "\n",
        "print(actual_mean_los)\n",
        "print(actual_median_los)"
      ]
    },
    {
      "cell_type": "code",
      "execution_count": 25,
      "metadata": {
        "colab": {
          "base_uri": "https://localhost:8080/",
          "height": 472
        },
        "id": "1upWdxMBptEQ",
        "outputId": "8dc5ca96-1abb-426a-c278-67bdad4646c2"
      },
      "outputs": [
        {
          "data": {
            "image/png": "[encoded data removed]",
            "text/plain": [
              "<Figure size 640x480 with 1 Axes>"
            ]
          },
          "metadata": {},
          "output_type": "display_data"
        }
      ],
      "source": [
        "plt.hist(df['LOS'].loc[df['DECEASED'] == 0], bins=200, color = '#55a868')\n",
        "plt.xlim(0, 50)\n",
        "plt.title('Distribution of LOS for hospital admissions')\n",
        "plt.ylabel('Count')\n",
        "plt.xlabel('Length-of-Stay (days)')\n",
        "plt.tick_params(top=False, right=False)\n",
        "plt.show();"
      ]
    },
    {
      "cell_type": "code",
      "execution_count": 26,
      "metadata": {
        "colab": {
          "base_uri": "https://localhost:8080/"
        },
        "id": "lOnLkCuup0Ed",
        "outputId": "b39a6195-3cc3-4a75-b8ed-93d79b909cec"
      },
      "outputs": [
        {
          "data": {
            "text/plain": [
              "ETHNICITY\n",
              "WHITE                                                       40939\n",
              "BLACK/AFRICAN AMERICAN                                       5434\n",
              "UNKNOWN/NOT SPECIFIED                                        4502\n",
              "HISPANIC OR LATINO                                           1693\n",
              "ASIAN                                                        1508\n",
              "OTHER                                                        1507\n",
              "UNABLE TO OBTAIN                                              809\n",
              "PATIENT DECLINED TO ANSWER                                    559\n",
              "ASIAN - CHINESE                                               277\n",
              "HISPANIC/LATINO - PUERTO RICAN                                232\n",
              "BLACK/CAPE VERDEAN                                            200\n",
              "WHITE - RUSSIAN                                               164\n",
              "MULTI RACE ETHNICITY                                          130\n",
              "BLACK/HAITIAN                                                 101\n",
              "ASIAN - ASIAN INDIAN                                           85\n",
              "WHITE - OTHER EUROPEAN                                         81\n",
              "HISPANIC/LATINO - DOMINICAN                                    78\n",
              "PORTUGUESE                                                     61\n",
              "WHITE - BRAZILIAN                                              59\n",
              "ASIAN - VIETNAMESE                                             53\n",
              "AMERICAN INDIAN/ALASKA NATIVE                                  51\n",
              "BLACK/AFRICAN                                                  44\n",
              "MIDDLE EASTERN                                                 43\n",
              "HISPANIC/LATINO - GUATEMALAN                                   40\n",
              "WHITE - EASTERN EUROPEAN                                       25\n",
              "ASIAN - FILIPINO                                               25\n",
              "HISPANIC/LATINO - CUBAN                                        24\n",
              "HISPANIC/LATINO - SALVADORAN                                   19\n",
              "NATIVE HAWAIIAN OR OTHER PACIFIC ISLANDER                      18\n",
              "ASIAN - OTHER                                                  17\n",
              "ASIAN - CAMBODIAN                                              17\n",
              "ASIAN - KOREAN                                                 13\n",
              "HISPANIC/LATINO - CENTRAL AMERICAN (OTHER)                     13\n",
              "HISPANIC/LATINO - MEXICAN                                      13\n",
              "HISPANIC/LATINO - COLOMBIAN                                     9\n",
              "CARIBBEAN ISLAND                                                9\n",
              "SOUTH AMERICAN                                                  8\n",
              "ASIAN - JAPANESE                                                7\n",
              "ASIAN - THAI                                                    4\n",
              "HISPANIC/LATINO - HONDURAN                                      4\n",
              "AMERICAN INDIAN/ALASKA NATIVE FEDERALLY RECOGNIZED TRIBE        3\n",
              "Name: count, dtype: int64"
            ]
          },
          "execution_count": 26,
          "metadata": {},
          "output_type": "execute_result"
        }
      ],
      "source": [
        "df['ETHNICITY'].value_counts()"
      ]
    },
    {
      "cell_type": "code",
      "execution_count": 27,
      "metadata": {
        "colab": {
          "base_uri": "https://localhost:8080/"
        },
        "id": "az9Y5mCbp1ON",
        "outputId": "fa1454b6-3ba9-4f48-a50b-9d0740453630"
      },
      "outputs": [
        {
          "name": "stderr",
          "output_type": "stream",
          "text": [
            "C:\\Users\\SYYAD\\AppData\\Local\\Temp\\ipykernel_11596\\1325925633.py:2: FutureWarning: A value is trying to be set on a copy of a DataFrame or Series through chained assignment using an inplace method.\n",
            "The behavior will change in pandas 3.0. This inplace method will never work because the intermediate object on which we are setting values always behaves as a copy.\n",
            "\n",
            "For example, when doing 'df[col].method(value, inplace=True)', try using 'df.method({col: value}, inplace=True)' or df[col] = df[col].method(value) instead, to perform the operation inplace on the original object.\n",
            "\n",
            "\n",
            "  df['ETHNICITY'].replace(regex=r'^ASIAN\\D*', value='ASIAN', inplace=True)\n",
            "C:\\Users\\SYYAD\\AppData\\Local\\Temp\\ipykernel_11596\\1325925633.py:3: FutureWarning: A value is trying to be set on a copy of a DataFrame or Series through chained assignment using an inplace method.\n",
            "The behavior will change in pandas 3.0. This inplace method will never work because the intermediate object on which we are setting values always behaves as a copy.\n",
            "\n",
            "For example, when doing 'df[col].method(value, inplace=True)', try using 'df.method({col: value}, inplace=True)' or df[col] = df[col].method(value) instead, to perform the operation inplace on the original object.\n",
            "\n",
            "\n",
            "  df['ETHNICITY'].replace(regex=r'^WHITE\\D*', value='WHITE', inplace=True)\n",
            "C:\\Users\\SYYAD\\AppData\\Local\\Temp\\ipykernel_11596\\1325925633.py:4: FutureWarning: A value is trying to be set on a copy of a DataFrame or Series through chained assignment using an inplace method.\n",
            "The behavior will change in pandas 3.0. This inplace method will never work because the intermediate object on which we are setting values always behaves as a copy.\n",
            "\n",
            "For example, when doing 'df[col].method(value, inplace=True)', try using 'df.method({col: value}, inplace=True)' or df[col] = df[col].method(value) instead, to perform the operation inplace on the original object.\n",
            "\n",
            "\n",
            "  df['ETHNICITY'].replace(regex=r'^HISPANIC\\D*', value='HISPANIC/LATINO', inplace=True)\n",
            "C:\\Users\\SYYAD\\AppData\\Local\\Temp\\ipykernel_11596\\1325925633.py:5: FutureWarning: A value is trying to be set on a copy of a DataFrame or Series through chained assignment using an inplace method.\n",
            "The behavior will change in pandas 3.0. This inplace method will never work because the intermediate object on which we are setting values always behaves as a copy.\n",
            "\n",
            "For example, when doing 'df[col].method(value, inplace=True)', try using 'df.method({col: value}, inplace=True)' or df[col] = df[col].method(value) instead, to perform the operation inplace on the original object.\n",
            "\n",
            "\n",
            "  df['ETHNICITY'].replace(regex=r'^BLACK\\D*', value='BLACK/AFRICAN AMERICAN', inplace=True)\n",
            "C:\\Users\\SYYAD\\AppData\\Local\\Temp\\ipykernel_11596\\1325925633.py:6: FutureWarning: A value is trying to be set on a copy of a DataFrame or Series through chained assignment using an inplace method.\n",
            "The behavior will change in pandas 3.0. This inplace method will never work because the intermediate object on which we are setting values always behaves as a copy.\n",
            "\n",
            "For example, when doing 'df[col].method(value, inplace=True)', try using 'df.method({col: value}, inplace=True)' or df[col] = df[col].method(value) instead, to perform the operation inplace on the original object.\n",
            "\n",
            "\n",
            "  df['ETHNICITY'].replace(['UNABLE TO OBTAIN', 'OTHER', 'PATIENT DECLINED TO ANSWER',\n",
            "C:\\Users\\SYYAD\\AppData\\Local\\Temp\\ipykernel_11596\\1325925633.py:8: FutureWarning: ChainedAssignmentError: behaviour will change in pandas 3.0!\n",
            "You are setting values through chained assignment. Currently this works in certain cases, but when using Copy-on-Write (which will become the default behaviour in pandas 3.0) this will never work to update the original DataFrame or Series, because the intermediate object on which we are setting values will behave as a copy.\n",
            "A typical example is when you are setting values in a column of a DataFrame, like:\n",
            "\n",
            "df[\"col\"][row_indexer] = value\n",
            "\n",
            "Use `df.loc[row_indexer, \"col\"] = values` instead, to perform the assignment in a single step and ensure this keeps updating the original `df`.\n",
            "\n",
            "See the caveats in the documentation: https://pandas.pydata.org/pandas-docs/stable/user_guide/indexing.html#returning-a-view-versus-a-copy\n",
            "\n",
            "  df['ETHNICITY'].loc[~df['ETHNICITY'].isin(df['ETHNICITY'].value_counts().nlargest(5).index.tolist())] = 'OTHER/UNKNOWN'\n"
          ]
        },
        {
          "data": {
            "text/plain": [
              "ETHNICITY\n",
              "WHITE                     41268\n",
              "OTHER/UNKNOWN              7700\n",
              "BLACK/AFRICAN AMERICAN     5779\n",
              "HISPANIC/LATINO            2125\n",
              "ASIAN                      2006\n",
              "Name: count, dtype: int64"
            ]
          },
          "execution_count": 27,
          "metadata": {},
          "output_type": "execute_result"
        }
      ],
      "source": [
        "# Compress the number of ethnicity categories\n",
        "df['ETHNICITY'].replace(regex=r'^ASIAN\\D*', value='ASIAN', inplace=True)\n",
        "df['ETHNICITY'].replace(regex=r'^WHITE\\D*', value='WHITE', inplace=True)\n",
        "df['ETHNICITY'].replace(regex=r'^HISPANIC\\D*', value='HISPANIC/LATINO', inplace=True)\n",
        "df['ETHNICITY'].replace(regex=r'^BLACK\\D*', value='BLACK/AFRICAN AMERICAN', inplace=True)\n",
        "df['ETHNICITY'].replace(['UNABLE TO OBTAIN', 'OTHER', 'PATIENT DECLINED TO ANSWER',\n",
        "                         'UNKNOWN/NOT SPECIFIED'], value='OTHER/UNKNOWN', inplace=True)\n",
        "df['ETHNICITY'].loc[~df['ETHNICITY'].isin(df['ETHNICITY'].value_counts().nlargest(5).index.tolist())] = 'OTHER/UNKNOWN'\n",
        "df['ETHNICITY'].value_counts()"
      ]
    },
    {
      "cell_type": "code",
      "execution_count": 28,
      "metadata": {
        "colab": {
          "base_uri": "https://localhost:8080/",
          "height": 407
        },
        "id": "tIs2fJnrp_OE",
        "outputId": "fa208095-1f15-4a75-816b-c727e3470a15"
      },
      "outputs": [
        {
          "name": "stderr",
          "output_type": "stream",
          "text": [
            "C:\\Users\\SYYAD\\AppData\\Local\\Temp\\ipykernel_11596\\1364745201.py:36: MatplotlibDeprecationWarning: Passing the notch parameter of boxplot() positionally is deprecated since Matplotlib 3.9; the parameter will become keyword-only in 3.11.\n",
            "  ax.boxplot(hist_data, 0, '', vert=False)\n"
          ]
        },
        {
          "data": {
            "image/png": "[encoded data removed]",
            "text/plain": [
              "<Figure size 800x400 with 1 Axes>"
            ]
          },
          "metadata": {},
          "output_type": "display_data"
        }
      ],
      "source": [
        "# Re-usable plotting function\n",
        "def plot_los_groupby(variable, size=(7,4)):\n",
        "    '''\n",
        "    Plot Median LOS by df categorical series name\n",
        "    '''\n",
        "    results = df[[variable, 'LOS']].groupby(variable).median().reset_index()\n",
        "    values = list(results['LOS'].values)\n",
        "    labels = list(results[variable].values)\n",
        "\n",
        "    fig, ax = plt.subplots(figsize=size)\n",
        "    ind = range(len(results))\n",
        "    ax.barh(ind, values, align='center', height=0.6, color = '#55a868', alpha=0.8)\n",
        "    ax.set_yticks(ind)\n",
        "    ax.set_yticklabels(labels)\n",
        "    ax.set_xlabel('Median Length of Stay (days)')\n",
        "    ax.tick_params(left=False, top=False, right=False)\n",
        "    ax.set_title('Comparison of {} labels'.format(variable))\n",
        "\n",
        "    plt.tight_layout()\n",
        "    plt.show();\n",
        "\n",
        "# Re-usable boxplot function\n",
        "def boxplot_los_groupby(variable, los_range=(-1, 30), size=(8,4)):\n",
        "    '''\n",
        "    Boxplot of LOS by df categorical series name\n",
        "    '''\n",
        "    results = df[[variable, 'LOS']].groupby(variable).median().reset_index()\n",
        "\n",
        "    categories = results[variable].values.tolist()\n",
        "\n",
        "    hist_data = []\n",
        "    for cat in categories:\n",
        "        hist_data.append(df['LOS'].loc[df[variable]==cat].values)\n",
        "\n",
        "    fig, ax = plt.subplots(figsize=size)\n",
        "    ax.boxplot(hist_data, 0, '', vert=False)\n",
        "    ax.set_xlim(los_range)\n",
        "    ax.set_yticklabels(categories)\n",
        "    ax.set_xlabel('Length of Stay (days)')\n",
        "    ax.tick_params(left=False, right=False)\n",
        "    ax.set_title('Comparison of {} categories'.format(variable))\n",
        "    plt.tight_layout()\n",
        "    plt.show();\n",
        "\n",
        "boxplot_los_groupby('ETHNICITY', los_range=(-1, 30))"
      ]
    },
    {
      "cell_type": "code",
      "execution_count": 29,
      "metadata": {
        "colab": {
          "base_uri": "https://localhost:8080/"
        },
        "id": "7ME7vZwuqCfR",
        "outputId": "5cbe2bc2-ff70-4a7a-e22d-5b7731306585"
      },
      "outputs": [
        {
          "data": {
            "text/plain": [
              "RELIGION\n",
              "CATHOLIC                  20580\n",
              "NOT SPECIFIED             11738\n",
              "UNOBTAINABLE               8242\n",
              "PROTESTANT QUAKER          7121\n",
              "JEWISH                     5307\n",
              "OTHER                      2695\n",
              "EPISCOPALIAN                771\n",
              "GREEK ORTHODOX              459\n",
              "CHRISTIAN SCIENTIST         429\n",
              "BUDDHIST                    267\n",
              "MUSLIM                      225\n",
              "JEHOVAH'S WITNESS           139\n",
              "UNITARIAN-UNIVERSALIST      124\n",
              "HINDU                       113\n",
              "ROMANIAN EAST. ORTH          83\n",
              "7TH DAY ADVENTIST            81\n",
              "BAPTIST                      28\n",
              "HEBREW                       16\n",
              "METHODIST                     7\n",
              "LUTHERAN                      1\n",
              "Name: count, dtype: int64"
            ]
          },
          "execution_count": 29,
          "metadata": {},
          "output_type": "execute_result"
        }
      ],
      "source": [
        "df['RELIGION'].value_counts()"
      ]
    },
    {
      "cell_type": "code",
      "execution_count": 30,
      "metadata": {
        "colab": {
          "base_uri": "https://localhost:8080/",
          "height": 707
        },
        "id": "dlnfIYRaqFEl",
        "outputId": "1d00e135-e140-4bcc-e8f8-8482ae9a0bec"
      },
      "outputs": [
        {
          "name": "stderr",
          "output_type": "stream",
          "text": [
            "C:\\Users\\SYYAD\\AppData\\Local\\Temp\\ipykernel_11596\\1364745201.py:36: MatplotlibDeprecationWarning: Passing the notch parameter of boxplot() positionally is deprecated since Matplotlib 3.9; the parameter will become keyword-only in 3.11.\n",
            "  ax.boxplot(hist_data, 0, '', vert=False)\n"
          ]
        },
        {
          "data": {
            "image/png": "[encoded data removed]",
            "text/plain": [
              "<Figure size 700x700 with 1 Axes>"
            ]
          },
          "metadata": {},
          "output_type": "display_data"
        }
      ],
      "source": [
        "boxplot_los_groupby('RELIGION', los_range=(0, 30), size=(7, 7))"
      ]
    },
    {
      "cell_type": "code",
      "execution_count": 31,
      "metadata": {
        "colab": {
          "base_uri": "https://localhost:8080/"
        },
        "id": "xoJYAY3aqIGf",
        "outputId": "f66193bf-d2d8-48a3-dc42-69f41f0252d2"
      },
      "outputs": [
        {
          "name": "stdout",
          "output_type": "stream",
          "text": [
            "RELIGION\n",
            "RELIGIOUS        38898\n",
            "NOT SPECIFIED    11738\n",
            "UNOBTAINABLE      8242\n",
            "Name: count, dtype: int64\n",
            "0.6606542341791501\n",
            "0.1993613913516084\n",
            "0.13998437446924147\n"
          ]
        },
        {
          "name": "stderr",
          "output_type": "stream",
          "text": [
            "C:\\Users\\SYYAD\\AppData\\Local\\Temp\\ipykernel_11596\\2507947393.py:3: FutureWarning: ChainedAssignmentError: behaviour will change in pandas 3.0!\n",
            "You are setting values through chained assignment. Currently this works in certain cases, but when using Copy-on-Write (which will become the default behaviour in pandas 3.0) this will never work to update the original DataFrame or Series, because the intermediate object on which we are setting values will behave as a copy.\n",
            "A typical example is when you are setting values in a column of a DataFrame, like:\n",
            "\n",
            "df[\"col\"][row_indexer] = value\n",
            "\n",
            "Use `df.loc[row_indexer, \"col\"] = values` instead, to perform the assignment in a single step and ensure this keeps updating the original `df`.\n",
            "\n",
            "See the caveats in the documentation: https://pandas.pydata.org/pandas-docs/stable/user_guide/indexing.html#returning-a-view-versus-a-copy\n",
            "\n",
            "  df['RELIGION'].loc[~df['RELIGION'].isin(['NOT SPECIFIED', 'UNOBTAINABLE'])] = 'RELIGIOUS'\n",
            "C:\\Users\\SYYAD\\AppData\\Local\\Temp\\ipykernel_11596\\2507947393.py:3: SettingWithCopyWarning: \n",
            "A value is trying to be set on a copy of a slice from a DataFrame\n",
            "\n",
            "See the caveats in the documentation: https://pandas.pydata.org/pandas-docs/stable/user_guide/indexing.html#returning-a-view-versus-a-copy\n",
            "  df['RELIGION'].loc[~df['RELIGION'].isin(['NOT SPECIFIED', 'UNOBTAINABLE'])] = 'RELIGIOUS'\n",
            "C:\\Users\\SYYAD\\AppData\\Local\\Temp\\ipykernel_11596\\2507947393.py:6: FutureWarning: Series.__getitem__ treating keys as positions is deprecated. In a future version, integer keys will always be treated as labels (consistent with DataFrame behavior). To access a value by position, use `ser.iloc[pos]`\n",
            "  print(df['RELIGION'].value_counts()[0]/len(df['RELIGION']))\n",
            "C:\\Users\\SYYAD\\AppData\\Local\\Temp\\ipykernel_11596\\2507947393.py:7: FutureWarning: Series.__getitem__ treating keys as positions is deprecated. In a future version, integer keys will always be treated as labels (consistent with DataFrame behavior). To access a value by position, use `ser.iloc[pos]`\n",
            "  print(df['RELIGION'].value_counts()[1]/len(df['RELIGION']))\n",
            "C:\\Users\\SYYAD\\AppData\\Local\\Temp\\ipykernel_11596\\2507947393.py:8: FutureWarning: Series.__getitem__ treating keys as positions is deprecated. In a future version, integer keys will always be treated as labels (consistent with DataFrame behavior). To access a value by position, use `ser.iloc[pos]`\n",
            "  print(df['RELIGION'].value_counts()[2]/len(df['RELIGION']))\n"
          ]
        }
      ],
      "source": [
        "# Reduce categories to terms of religious or not\n",
        "# I tested with and without category reduction, with little change in R2 score\n",
        "df['RELIGION'].loc[~df['RELIGION'].isin(['NOT SPECIFIED', 'UNOBTAINABLE'])] = 'RELIGIOUS'\n",
        "\n",
        "print(df['RELIGION'].value_counts())\n",
        "print(df['RELIGION'].value_counts()[0]/len(df['RELIGION']))\n",
        "print(df['RELIGION'].value_counts()[1]/len(df['RELIGION']))\n",
        "print(df['RELIGION'].value_counts()[2]/len(df['RELIGION']))"
      ]
    },
    {
      "cell_type": "code",
      "execution_count": 32,
      "metadata": {
        "colab": {
          "base_uri": "https://localhost:8080/",
          "height": 400
        },
        "id": "YPy1PfqL1qmR",
        "outputId": "69c03900-2a04-494c-e40d-93214b7f5465"
      },
      "outputs": [
        {
          "data": {
            "text/html": [
              "<div>\n",
              "<style scoped>\n",
              "    .dataframe tbody tr th:only-of-type {\n",
              "        vertical-align: middle;\n",
              "    }\n",
              "\n",
              "    .dataframe tbody tr th {\n",
              "        vertical-align: top;\n",
              "    }\n",
              "\n",
              "    .dataframe thead th {\n",
              "        text-align: right;\n",
              "    }\n",
              "</style>\n",
              "<table border=\"1\" class=\"dataframe\">\n",
              "  <thead>\n",
              "    <tr style=\"text-align: right;\">\n",
              "      <th></th>\n",
              "      <th>SUBJECT_ID</th>\n",
              "      <th>HADM_ID</th>\n",
              "      <th>ADMITTIME</th>\n",
              "      <th>DEATHTIME</th>\n",
              "      <th>ADMISSION_TYPE</th>\n",
              "      <th>ADMISSION_LOCATION</th>\n",
              "      <th>DISCHARGE_LOCATION</th>\n",
              "      <th>INSURANCE</th>\n",
              "      <th>LANGUAGE</th>\n",
              "      <th>RELIGION</th>\n",
              "      <th>MARITAL_STATUS</th>\n",
              "      <th>ETHNICITY</th>\n",
              "      <th>DIAGNOSIS</th>\n",
              "      <th>LOS</th>\n",
              "      <th>DECEASED</th>\n",
              "    </tr>\n",
              "  </thead>\n",
              "  <tbody>\n",
              "    <tr>\n",
              "      <th>0</th>\n",
              "      <td>22</td>\n",
              "      <td>165315</td>\n",
              "      <td>2196-04-09 12:26:00</td>\n",
              "      <td>NaN</td>\n",
              "      <td>EMERGENCY</td>\n",
              "      <td>EMERGENCY ROOM ADMIT</td>\n",
              "      <td>DISC-TRAN CANCER/CHLDRN H</td>\n",
              "      <td>Private</td>\n",
              "      <td>NaN</td>\n",
              "      <td>UNOBTAINABLE</td>\n",
              "      <td>MARRIED</td>\n",
              "      <td>WHITE</td>\n",
              "      <td>BENZODIAZEPINE OVERDOSE</td>\n",
              "      <td>1.144444</td>\n",
              "      <td>0</td>\n",
              "    </tr>\n",
              "    <tr>\n",
              "      <th>1</th>\n",
              "      <td>23</td>\n",
              "      <td>152223</td>\n",
              "      <td>2153-09-03 07:15:00</td>\n",
              "      <td>NaN</td>\n",
              "      <td>ELECTIVE</td>\n",
              "      <td>PHYS REFERRAL/NORMAL DELI</td>\n",
              "      <td>HOME HEALTH CARE</td>\n",
              "      <td>Medicare</td>\n",
              "      <td>NaN</td>\n",
              "      <td>RELIGIOUS</td>\n",
              "      <td>MARRIED</td>\n",
              "      <td>WHITE</td>\n",
              "      <td>CORONARY ARTERY DISEASE\\CORONARY ARTERY BYPASS...</td>\n",
              "      <td>5.496528</td>\n",
              "      <td>0</td>\n",
              "    </tr>\n",
              "    <tr>\n",
              "      <th>2</th>\n",
              "      <td>23</td>\n",
              "      <td>124321</td>\n",
              "      <td>2157-10-18 19:34:00</td>\n",
              "      <td>NaN</td>\n",
              "      <td>EMERGENCY</td>\n",
              "      <td>TRANSFER FROM HOSP/EXTRAM</td>\n",
              "      <td>HOME HEALTH CARE</td>\n",
              "      <td>Medicare</td>\n",
              "      <td>ENGL</td>\n",
              "      <td>RELIGIOUS</td>\n",
              "      <td>MARRIED</td>\n",
              "      <td>WHITE</td>\n",
              "      <td>BRAIN MASS</td>\n",
              "      <td>6.768056</td>\n",
              "      <td>0</td>\n",
              "    </tr>\n",
              "    <tr>\n",
              "      <th>3</th>\n",
              "      <td>24</td>\n",
              "      <td>161859</td>\n",
              "      <td>2139-06-06 16:14:00</td>\n",
              "      <td>NaN</td>\n",
              "      <td>EMERGENCY</td>\n",
              "      <td>TRANSFER FROM HOSP/EXTRAM</td>\n",
              "      <td>HOME</td>\n",
              "      <td>Private</td>\n",
              "      <td>NaN</td>\n",
              "      <td>RELIGIOUS</td>\n",
              "      <td>SINGLE</td>\n",
              "      <td>WHITE</td>\n",
              "      <td>INTERIOR MYOCARDIAL INFARCTION</td>\n",
              "      <td>2.856944</td>\n",
              "      <td>0</td>\n",
              "    </tr>\n",
              "    <tr>\n",
              "      <th>4</th>\n",
              "      <td>25</td>\n",
              "      <td>129635</td>\n",
              "      <td>2160-11-02 02:06:00</td>\n",
              "      <td>NaN</td>\n",
              "      <td>EMERGENCY</td>\n",
              "      <td>EMERGENCY ROOM ADMIT</td>\n",
              "      <td>HOME</td>\n",
              "      <td>Private</td>\n",
              "      <td>NaN</td>\n",
              "      <td>UNOBTAINABLE</td>\n",
              "      <td>MARRIED</td>\n",
              "      <td>WHITE</td>\n",
              "      <td>ACUTE CORONARY SYNDROME</td>\n",
              "      <td>3.534028</td>\n",
              "      <td>0</td>\n",
              "    </tr>\n",
              "  </tbody>\n",
              "</table>\n",
              "</div>"
            ],
            "text/plain": [
              "   SUBJECT_ID  HADM_ID           ADMITTIME DEATHTIME ADMISSION_TYPE  \\\n",
              "0          22   165315 2196-04-09 12:26:00       NaN      EMERGENCY   \n",
              "1          23   152223 2153-09-03 07:15:00       NaN       ELECTIVE   \n",
              "2          23   124321 2157-10-18 19:34:00       NaN      EMERGENCY   \n",
              "3          24   161859 2139-06-06 16:14:00       NaN      EMERGENCY   \n",
              "4          25   129635 2160-11-02 02:06:00       NaN      EMERGENCY   \n",
              "\n",
              "          ADMISSION_LOCATION         DISCHARGE_LOCATION INSURANCE LANGUAGE  \\\n",
              "0       EMERGENCY ROOM ADMIT  DISC-TRAN CANCER/CHLDRN H   Private      NaN   \n",
              "1  PHYS REFERRAL/NORMAL DELI           HOME HEALTH CARE  Medicare      NaN   \n",
              "2  TRANSFER FROM HOSP/EXTRAM           HOME HEALTH CARE  Medicare     ENGL   \n",
              "3  TRANSFER FROM HOSP/EXTRAM                       HOME   Private      NaN   \n",
              "4       EMERGENCY ROOM ADMIT                       HOME   Private      NaN   \n",
              "\n",
              "       RELIGION MARITAL_STATUS ETHNICITY  \\\n",
              "0  UNOBTAINABLE        MARRIED     WHITE   \n",
              "1     RELIGIOUS        MARRIED     WHITE   \n",
              "2     RELIGIOUS        MARRIED     WHITE   \n",
              "3     RELIGIOUS         SINGLE     WHITE   \n",
              "4  UNOBTAINABLE        MARRIED     WHITE   \n",
              "\n",
              "                                           DIAGNOSIS       LOS  DECEASED  \n",
              "0                            BENZODIAZEPINE OVERDOSE  1.144444         0  \n",
              "1  CORONARY ARTERY DISEASE\\CORONARY ARTERY BYPASS...  5.496528         0  \n",
              "2                                         BRAIN MASS  6.768056         0  \n",
              "3                     INTERIOR MYOCARDIAL INFARCTION  2.856944         0  \n",
              "4                            ACUTE CORONARY SYNDROME  3.534028         0  "
            ]
          },
          "execution_count": 32,
          "metadata": {},
          "output_type": "execute_result"
        }
      ],
      "source": [
        "df.head()\n"
      ]
    },
    {
      "cell_type": "markdown",
      "metadata": {
        "id": "aFh1rx8v1vfB"
      },
      "source": []
    },
    {
      "cell_type": "code",
      "execution_count": 33,
      "metadata": {
        "colab": {
          "base_uri": "https://localhost:8080/",
          "height": 407
        },
        "id": "pCVkcLorqXjw",
        "outputId": "a4f64c0d-5944-4ed5-fd27-54d49bac5358"
      },
      "outputs": [
        {
          "data": {
            "image/png": "[encoded data removed]",
            "text/plain": [
              "<Figure size 500x400 with 1 Axes>"
            ]
          },
          "metadata": {},
          "output_type": "display_data"
        }
      ],
      "source": [
        "# Look at median LOS for groups\n",
        "plot_los_groupby('RELIGION', size=(5,4))"
      ]
    },
    {
      "cell_type": "code",
      "execution_count": 34,
      "metadata": {
        "colab": {
          "base_uri": "https://localhost:8080/"
        },
        "id": "LrUyuWr5qahZ",
        "outputId": "a355b61f-be0e-43cf-d170-a0003c754c5e"
      },
      "outputs": [
        {
          "data": {
            "text/plain": [
              "ADMISSION_TYPE\n",
              "EMERGENCY    41989\n",
              "NEWBORN       7854\n",
              "ELECTIVE      7702\n",
              "URGENT        1333\n",
              "Name: count, dtype: int64"
            ]
          },
          "execution_count": 34,
          "metadata": {},
          "output_type": "execute_result"
        }
      ],
      "source": [
        "df['ADMISSION_TYPE'].value_counts()"
      ]
    },
    {
      "cell_type": "code",
      "execution_count": 35,
      "metadata": {
        "colab": {
          "base_uri": "https://localhost:8080/",
          "height": 407
        },
        "id": "5wR5UEtFqdfX",
        "outputId": "fd34e511-5e8e-4015-da8a-72cacfd877f7"
      },
      "outputs": [
        {
          "name": "stderr",
          "output_type": "stream",
          "text": [
            "C:\\Users\\SYYAD\\AppData\\Local\\Temp\\ipykernel_11596\\1364745201.py:36: MatplotlibDeprecationWarning: Passing the notch parameter of boxplot() positionally is deprecated since Matplotlib 3.9; the parameter will become keyword-only in 3.11.\n",
            "  ax.boxplot(hist_data, 0, '', vert=False)\n"
          ]
        },
        {
          "data": {
            "image/png": "[encoded data removed]",
            "text/plain": [
              "<Figure size 700x400 with 1 Axes>"
            ]
          },
          "metadata": {},
          "output_type": "display_data"
        }
      ],
      "source": [
        "boxplot_los_groupby('ADMISSION_TYPE', los_range=(-5, 35), size=(7, 4))"
      ]
    },
    {
      "cell_type": "code",
      "execution_count": 36,
      "metadata": {
        "colab": {
          "base_uri": "https://localhost:8080/"
        },
        "id": "GO9HNKCmqgLv",
        "outputId": "0bf8b944-d664-45b8-a36c-d19af792df19"
      },
      "outputs": [
        {
          "data": {
            "text/plain": [
              "INSURANCE\n",
              "Medicare      28174\n",
              "Private       22542\n",
              "Medicaid       5778\n",
              "Government     1781\n",
              "Self Pay        603\n",
              "Name: count, dtype: int64"
            ]
          },
          "execution_count": 36,
          "metadata": {},
          "output_type": "execute_result"
        }
      ],
      "source": [
        "df['INSURANCE'].value_counts()"
      ]
    },
    {
      "cell_type": "code",
      "execution_count": 37,
      "metadata": {
        "colab": {
          "base_uri": "https://localhost:8080/",
          "height": 407
        },
        "id": "0DOFnglHqivn",
        "outputId": "a5548362-aea5-40a1-b41e-bca92d6e05e4"
      },
      "outputs": [
        {
          "name": "stderr",
          "output_type": "stream",
          "text": [
            "C:\\Users\\SYYAD\\AppData\\Local\\Temp\\ipykernel_11596\\1364745201.py:36: MatplotlibDeprecationWarning: Passing the notch parameter of boxplot() positionally is deprecated since Matplotlib 3.9; the parameter will become keyword-only in 3.11.\n",
            "  ax.boxplot(hist_data, 0, '', vert=False)\n"
          ]
        },
        {
          "data": {
            "image/png": "[encoded data removed]",
            "text/plain": [
              "<Figure size 700x400 with 1 Axes>"
            ]
          },
          "metadata": {},
          "output_type": "display_data"
        }
      ],
      "source": [
        "boxplot_los_groupby('INSURANCE', los_range=(-5, 30), size=(7, 4))"
      ]
    },
    {
      "cell_type": "code",
      "execution_count": 38,
      "metadata": {
        "colab": {
          "base_uri": "https://localhost:8080/"
        },
        "id": "D4SuYVvxqllt",
        "outputId": "5c3cf44a-8972-4c73-dd57-9aef55e7d828"
      },
      "outputs": [
        {
          "data": {
            "text/plain": [
              "MARITAL_STATUS\n",
              "MARRIED              24199\n",
              "SINGLE               13238\n",
              "NaN                  10097\n",
              "WIDOWED               7204\n",
              "DIVORCED              3211\n",
              "SEPARATED              571\n",
              "UNKNOWN (DEFAULT)      343\n",
              "LIFE PARTNER            15\n",
              "Name: count, dtype: int64"
            ]
          },
          "execution_count": 38,
          "metadata": {},
          "output_type": "execute_result"
        }
      ],
      "source": [
        "df['MARITAL_STATUS'].value_counts(dropna=False)"
      ]
    },
    {
      "cell_type": "code",
      "execution_count": 39,
      "metadata": {
        "colab": {
          "base_uri": "https://localhost:8080/"
        },
        "id": "dDrIR6fyqogq",
        "outputId": "5a0d3348-dca7-4391-b624-f4246ea4cf31"
      },
      "outputs": [
        {
          "data": {
            "text/plain": [
              "MARITAL_STATUS\n",
              "MARRIED              24199\n",
              "SINGLE               13238\n",
              "UNKNOWN (DEFAULT)    10440\n",
              "WIDOWED               7204\n",
              "DIVORCED              3211\n",
              "SEPARATED              571\n",
              "LIFE PARTNER            15\n",
              "Name: count, dtype: int64"
            ]
          },
          "execution_count": 39,
          "metadata": {},
          "output_type": "execute_result"
        }
      ],
      "source": [
        "# Fix NaNs and file under 'UNKNOWN'\n",
        "df['MARITAL_STATUS'] = df['MARITAL_STATUS'].fillna('UNKNOWN (DEFAULT)')\n",
        "df['MARITAL_STATUS'].value_counts(dropna=False)"
      ]
    },
    {
      "cell_type": "code",
      "execution_count": 40,
      "metadata": {
        "colab": {
          "base_uri": "https://localhost:8080/",
          "height": 407
        },
        "id": "My7XwenGqsFx",
        "outputId": "5c253498-b50d-4836-817d-c8ec00534cba"
      },
      "outputs": [
        {
          "data": {
            "image/png": "[encoded data removed]",
            "text/plain": [
              "<Figure size 700x400 with 1 Axes>"
            ]
          },
          "metadata": {},
          "output_type": "display_data"
        }
      ],
      "source": [
        "plot_los_groupby('MARITAL_STATUS')"
      ]
    },
    {
      "cell_type": "code",
      "execution_count": 41,
      "metadata": {
        "colab": {
          "base_uri": "https://localhost:8080/",
          "height": 407
        },
        "id": "efVNqt35qupi",
        "outputId": "77e1e533-de4a-426e-c0a6-034ce362303b"
      },
      "outputs": [
        {
          "name": "stderr",
          "output_type": "stream",
          "text": [
            "C:\\Users\\SYYAD\\AppData\\Local\\Temp\\ipykernel_11596\\1364745201.py:36: MatplotlibDeprecationWarning: Passing the notch parameter of boxplot() positionally is deprecated since Matplotlib 3.9; the parameter will become keyword-only in 3.11.\n",
            "  ax.boxplot(hist_data, 0, '', vert=False)\n"
          ]
        },
        {
          "data": {
            "image/png": "[encoded data removed]",
            "text/plain": [
              "<Figure size 800x400 with 1 Axes>"
            ]
          },
          "metadata": {},
          "output_type": "display_data"
        }
      ],
      "source": [
        "boxplot_los_groupby('MARITAL_STATUS')"
      ]
    },
    {
      "cell_type": "markdown",
      "metadata": {
        "id": "gqdwIzCEB3E6"
      },
      "source": [
        "**Feature Engineering: DIAGNOSES_ICD Table**"
      ]
    },
    {
      "cell_type": "code",
      "execution_count": 43,
      "metadata": {
        "id": "G2Lisf2aGdia"
      },
      "outputs": [],
      "source": [
        "df_diagcode = pd.read_csv(base_path + \"DIAGNOSES_ICD.csv\", low_memory=False)"
      ]
    },
    {
      "cell_type": "code",
      "execution_count": 44,
      "metadata": {
        "colab": {
          "base_uri": "https://localhost:8080/"
        },
        "id": "yh2S-2apqxVy",
        "outputId": "1b88211f-3cfe-49c2-b8de-7729c169a552"
      },
      "outputs": [
        {
          "name": "stdout",
          "output_type": "stream",
          "text": [
            "<class 'pandas.core.frame.DataFrame'>\n",
            "RangeIndex: 651047 entries, 0 to 651046\n",
            "Data columns (total 5 columns):\n",
            " #   Column      Non-Null Count   Dtype  \n",
            "---  ------      --------------   -----  \n",
            " 0   ROW_ID      651047 non-null  int64  \n",
            " 1   SUBJECT_ID  651047 non-null  int64  \n",
            " 2   HADM_ID     651047 non-null  int64  \n",
            " 3   SEQ_NUM     651000 non-null  float64\n",
            " 4   ICD9_CODE   651000 non-null  object \n",
            "dtypes: float64(1), int64(3), object(1)\n",
            "memory usage: 24.8+ MB\n"
          ]
        }
      ],
      "source": [
        "df_diagcode.info()"
      ]
    },
    {
      "cell_type": "code",
      "execution_count": 45,
      "metadata": {
        "colab": {
          "base_uri": "https://localhost:8080/"
        },
        "id": "W7e7w07Gq0I7",
        "outputId": "c14c7f68-6759-4767-ee42-3d74387da36a"
      },
      "outputs": [
        {
          "name": "stdout",
          "output_type": "stream",
          "text": [
            "There are 6984 unique ICD9 codes in this dataset.\n"
          ]
        }
      ],
      "source": [
        "print('There are {} unique ICD9 codes in this dataset.'.format(df_diagcode['ICD9_CODE'].value_counts().count()))"
      ]
    },
    {
      "cell_type": "code",
      "execution_count": 46,
      "metadata": {
        "colab": {
          "base_uri": "https://localhost:8080/",
          "height": 206
        },
        "id": "TE-V5mXVa6nv",
        "outputId": "fa1a5822-306d-430f-e0c6-d5deadc9ede7"
      },
      "outputs": [
        {
          "data": {
            "text/html": [
              "<div>\n",
              "<style scoped>\n",
              "    .dataframe tbody tr th:only-of-type {\n",
              "        vertical-align: middle;\n",
              "    }\n",
              "\n",
              "    .dataframe tbody tr th {\n",
              "        vertical-align: top;\n",
              "    }\n",
              "\n",
              "    .dataframe thead th {\n",
              "        text-align: right;\n",
              "    }\n",
              "</style>\n",
              "<table border=\"1\" class=\"dataframe\">\n",
              "  <thead>\n",
              "    <tr style=\"text-align: right;\">\n",
              "      <th></th>\n",
              "      <th>ROW_ID</th>\n",
              "      <th>SUBJECT_ID</th>\n",
              "      <th>HADM_ID</th>\n",
              "      <th>SEQ_NUM</th>\n",
              "      <th>ICD9_CODE</th>\n",
              "    </tr>\n",
              "  </thead>\n",
              "  <tbody>\n",
              "    <tr>\n",
              "      <th>0</th>\n",
              "      <td>1297</td>\n",
              "      <td>109</td>\n",
              "      <td>172335</td>\n",
              "      <td>1.0</td>\n",
              "      <td>40301</td>\n",
              "    </tr>\n",
              "    <tr>\n",
              "      <th>1</th>\n",
              "      <td>1298</td>\n",
              "      <td>109</td>\n",
              "      <td>172335</td>\n",
              "      <td>2.0</td>\n",
              "      <td>486</td>\n",
              "    </tr>\n",
              "    <tr>\n",
              "      <th>2</th>\n",
              "      <td>1299</td>\n",
              "      <td>109</td>\n",
              "      <td>172335</td>\n",
              "      <td>3.0</td>\n",
              "      <td>58281</td>\n",
              "    </tr>\n",
              "    <tr>\n",
              "      <th>3</th>\n",
              "      <td>1300</td>\n",
              "      <td>109</td>\n",
              "      <td>172335</td>\n",
              "      <td>4.0</td>\n",
              "      <td>5855</td>\n",
              "    </tr>\n",
              "    <tr>\n",
              "      <th>4</th>\n",
              "      <td>1301</td>\n",
              "      <td>109</td>\n",
              "      <td>172335</td>\n",
              "      <td>5.0</td>\n",
              "      <td>4254</td>\n",
              "    </tr>\n",
              "  </tbody>\n",
              "</table>\n",
              "</div>"
            ],
            "text/plain": [
              "   ROW_ID  SUBJECT_ID  HADM_ID  SEQ_NUM ICD9_CODE\n",
              "0    1297         109   172335      1.0     40301\n",
              "1    1298         109   172335      2.0       486\n",
              "2    1299         109   172335      3.0     58281\n",
              "3    1300         109   172335      4.0      5855\n",
              "4    1301         109   172335      5.0      4254"
            ]
          },
          "execution_count": 46,
          "metadata": {},
          "output_type": "execute_result"
        }
      ],
      "source": [
        "df_diagcode.head()"
      ]
    },
    {
      "cell_type": "code",
      "execution_count": 47,
      "metadata": {
        "id": "9m7JTDz2q3oO"
      },
      "outputs": [
        {
          "name": "stderr",
          "output_type": "stream",
          "text": [
            "C:\\Users\\SYYAD\\AppData\\Local\\Temp\\ipykernel_11596\\534943549.py:3: FutureWarning: Downcasting object dtype arrays on .fillna, .ffill, .bfill is deprecated and will change in a future version. Call result.infer_objects(copy=False) instead. To opt-in to the future behavior, set `pd.set_option('future.no_silent_downcasting', True)`\n",
            "  df_diagcode['recode'] = df_diagcode['recode'][~df_diagcode['recode'].str.contains(\"[a-zA-Z]\").fillna(False)]\n",
            "C:\\Users\\SYYAD\\AppData\\Local\\Temp\\ipykernel_11596\\534943549.py:4: FutureWarning: A value is trying to be set on a copy of a DataFrame or Series through chained assignment using an inplace method.\n",
            "The behavior will change in pandas 3.0. This inplace method will never work because the intermediate object on which we are setting values always behaves as a copy.\n",
            "\n",
            "For example, when doing 'df[col].method(value, inplace=True)', try using 'df.method({col: value}, inplace=True)' or df[col] = df[col].method(value) instead, to perform the operation inplace on the original object.\n",
            "\n",
            "\n",
            "  df_diagcode['recode'].fillna(value='999', inplace=True)\n"
          ]
        }
      ],
      "source": [
        "# Filter out E and V codes since processing will be done on the numeric first 3 values\n",
        "df_diagcode['recode'] = df_diagcode['ICD9_CODE']\n",
        "df_diagcode['recode'] = df_diagcode['recode'][~df_diagcode['recode'].str.contains(\"[a-zA-Z]\").fillna(False)]\n",
        "df_diagcode['recode'].fillna(value='999', inplace=True)"
      ]
    },
    {
      "cell_type": "code",
      "execution_count": 48,
      "metadata": {
        "id": "xT_Sobqkq6P2"
      },
      "outputs": [],
      "source": [
        "# https://stackoverflow.com/questions/46168450/replace-specific-range-of-values-in-data-frame-pandas\n",
        "df_diagcode['recode'] = df_diagcode['recode'].str.slice(start=0, stop=3, step=1)\n",
        "df_diagcode['recode'] = df_diagcode['recode'].astype(int)"
      ]
    },
    {
      "cell_type": "code",
      "execution_count": 49,
      "metadata": {
        "colab": {
          "base_uri": "https://localhost:8080/"
        },
        "id": "At7EX_Qv6e-Q",
        "outputId": "c68821d4-35ca-4f1e-8339-0163ea76201c"
      },
      "outputs": [
        {
          "data": {
            "text/plain": [
              "['ROW_ID', 'SUBJECT_ID', 'HADM_ID', 'SEQ_NUM', 'ICD9_CODE', 'recode']"
            ]
          },
          "execution_count": 49,
          "metadata": {},
          "output_type": "execute_result"
        }
      ],
      "source": [
        "list(df_diagcode)"
      ]
    },
    {
      "cell_type": "code",
      "execution_count": 50,
      "metadata": {
        "colab": {
          "base_uri": "https://localhost:8080/",
          "height": 206
        },
        "id": "Z1INNSWe6_St",
        "outputId": "07f9f686-ab5b-46d2-aca5-d4a9438e76c3"
      },
      "outputs": [
        {
          "data": {
            "text/html": [
              "<div>\n",
              "<style scoped>\n",
              "    .dataframe tbody tr th:only-of-type {\n",
              "        vertical-align: middle;\n",
              "    }\n",
              "\n",
              "    .dataframe tbody tr th {\n",
              "        vertical-align: top;\n",
              "    }\n",
              "\n",
              "    .dataframe thead th {\n",
              "        text-align: right;\n",
              "    }\n",
              "</style>\n",
              "<table border=\"1\" class=\"dataframe\">\n",
              "  <thead>\n",
              "    <tr style=\"text-align: right;\">\n",
              "      <th></th>\n",
              "      <th>ROW_ID</th>\n",
              "      <th>SUBJECT_ID</th>\n",
              "      <th>HADM_ID</th>\n",
              "      <th>SEQ_NUM</th>\n",
              "      <th>ICD9_CODE</th>\n",
              "      <th>recode</th>\n",
              "    </tr>\n",
              "  </thead>\n",
              "  <tbody>\n",
              "    <tr>\n",
              "      <th>0</th>\n",
              "      <td>1297</td>\n",
              "      <td>109</td>\n",
              "      <td>172335</td>\n",
              "      <td>1.0</td>\n",
              "      <td>40301</td>\n",
              "      <td>403</td>\n",
              "    </tr>\n",
              "    <tr>\n",
              "      <th>1</th>\n",
              "      <td>1298</td>\n",
              "      <td>109</td>\n",
              "      <td>172335</td>\n",
              "      <td>2.0</td>\n",
              "      <td>486</td>\n",
              "      <td>486</td>\n",
              "    </tr>\n",
              "    <tr>\n",
              "      <th>2</th>\n",
              "      <td>1299</td>\n",
              "      <td>109</td>\n",
              "      <td>172335</td>\n",
              "      <td>3.0</td>\n",
              "      <td>58281</td>\n",
              "      <td>582</td>\n",
              "    </tr>\n",
              "    <tr>\n",
              "      <th>3</th>\n",
              "      <td>1300</td>\n",
              "      <td>109</td>\n",
              "      <td>172335</td>\n",
              "      <td>4.0</td>\n",
              "      <td>5855</td>\n",
              "      <td>585</td>\n",
              "    </tr>\n",
              "    <tr>\n",
              "      <th>4</th>\n",
              "      <td>1301</td>\n",
              "      <td>109</td>\n",
              "      <td>172335</td>\n",
              "      <td>5.0</td>\n",
              "      <td>4254</td>\n",
              "      <td>425</td>\n",
              "    </tr>\n",
              "  </tbody>\n",
              "</table>\n",
              "</div>"
            ],
            "text/plain": [
              "   ROW_ID  SUBJECT_ID  HADM_ID  SEQ_NUM ICD9_CODE  recode\n",
              "0    1297         109   172335      1.0     40301     403\n",
              "1    1298         109   172335      2.0       486     486\n",
              "2    1299         109   172335      3.0     58281     582\n",
              "3    1300         109   172335      4.0      5855     585\n",
              "4    1301         109   172335      5.0      4254     425"
            ]
          },
          "execution_count": 50,
          "metadata": {},
          "output_type": "execute_result"
        }
      ],
      "source": [
        "df_diagcode.head()\n"
      ]
    },
    {
      "cell_type": "code",
      "execution_count": 51,
      "metadata": {
        "id": "GMDZYC5Kq-Xu"
      },
      "outputs": [],
      "source": [
        "# ICD-9 Main Category ranges\n",
        "icd9_ranges = [(1, 140), (140, 240), (240, 280), (280, 290), (290, 320), (320, 390),\n",
        "               (390, 460), (460, 520), (520, 580), (580, 630), (630, 680), (680, 710),\n",
        "               (710, 740), (740, 760), (760, 780), (780, 800), (800, 1000), (1000, 2000)]\n",
        "\n",
        "# Associated category names\n",
        "diag_dict = {0: 'infectious', 1: 'neoplasms', 2: 'endocrine', 3: 'blood',\n",
        "             4: 'mental', 5: 'nervous', 6: 'circulatory', 7: 'respiratory',\n",
        "             8: 'digestive', 9: 'genitourinary', 10: 'pregnancy', 11: 'skin',\n",
        "             12: 'muscular', 13: 'congenital', 14: 'prenatal', 15: 'misc',\n",
        "             16: 'injury', 17: 'misc'}\n",
        "\n",
        "# Re-code in terms of integer\n",
        "for num, cat_range in enumerate(icd9_ranges):\n",
        "    df_diagcode['recode'] = np.where(df_diagcode['recode'].between(cat_range[0],cat_range[1]),\n",
        "            num, df_diagcode['recode'])\n",
        "\n",
        "# Convert integer to category name using diag_dict\n",
        "df_diagcode['recode'] = df_diagcode['recode']\n",
        "df_diagcode['cat'] = df_diagcode['recode'].replace(diag_dict)"
      ]
    },
    {
      "cell_type": "code",
      "execution_count": 52,
      "metadata": {
        "colab": {
          "base_uri": "https://localhost:8080/",
          "height": 206
        },
        "id": "21vcSPl5rEHa",
        "outputId": "d3217a47-b38a-48b2-f66e-bb54dee0aac8"
      },
      "outputs": [
        {
          "data": {
            "text/html": [
              "<div>\n",
              "<style scoped>\n",
              "    .dataframe tbody tr th:only-of-type {\n",
              "        vertical-align: middle;\n",
              "    }\n",
              "\n",
              "    .dataframe tbody tr th {\n",
              "        vertical-align: top;\n",
              "    }\n",
              "\n",
              "    .dataframe thead th {\n",
              "        text-align: right;\n",
              "    }\n",
              "</style>\n",
              "<table border=\"1\" class=\"dataframe\">\n",
              "  <thead>\n",
              "    <tr style=\"text-align: right;\">\n",
              "      <th></th>\n",
              "      <th>ROW_ID</th>\n",
              "      <th>SUBJECT_ID</th>\n",
              "      <th>HADM_ID</th>\n",
              "      <th>SEQ_NUM</th>\n",
              "      <th>ICD9_CODE</th>\n",
              "      <th>recode</th>\n",
              "      <th>cat</th>\n",
              "    </tr>\n",
              "  </thead>\n",
              "  <tbody>\n",
              "    <tr>\n",
              "      <th>0</th>\n",
              "      <td>1297</td>\n",
              "      <td>109</td>\n",
              "      <td>172335</td>\n",
              "      <td>1.0</td>\n",
              "      <td>40301</td>\n",
              "      <td>6</td>\n",
              "      <td>circulatory</td>\n",
              "    </tr>\n",
              "    <tr>\n",
              "      <th>1</th>\n",
              "      <td>1298</td>\n",
              "      <td>109</td>\n",
              "      <td>172335</td>\n",
              "      <td>2.0</td>\n",
              "      <td>486</td>\n",
              "      <td>7</td>\n",
              "      <td>respiratory</td>\n",
              "    </tr>\n",
              "    <tr>\n",
              "      <th>2</th>\n",
              "      <td>1299</td>\n",
              "      <td>109</td>\n",
              "      <td>172335</td>\n",
              "      <td>3.0</td>\n",
              "      <td>58281</td>\n",
              "      <td>9</td>\n",
              "      <td>genitourinary</td>\n",
              "    </tr>\n",
              "    <tr>\n",
              "      <th>3</th>\n",
              "      <td>1300</td>\n",
              "      <td>109</td>\n",
              "      <td>172335</td>\n",
              "      <td>4.0</td>\n",
              "      <td>5855</td>\n",
              "      <td>9</td>\n",
              "      <td>genitourinary</td>\n",
              "    </tr>\n",
              "    <tr>\n",
              "      <th>4</th>\n",
              "      <td>1301</td>\n",
              "      <td>109</td>\n",
              "      <td>172335</td>\n",
              "      <td>5.0</td>\n",
              "      <td>4254</td>\n",
              "      <td>6</td>\n",
              "      <td>circulatory</td>\n",
              "    </tr>\n",
              "  </tbody>\n",
              "</table>\n",
              "</div>"
            ],
            "text/plain": [
              "   ROW_ID  SUBJECT_ID  HADM_ID  SEQ_NUM ICD9_CODE  recode            cat\n",
              "0    1297         109   172335      1.0     40301       6    circulatory\n",
              "1    1298         109   172335      2.0       486       7    respiratory\n",
              "2    1299         109   172335      3.0     58281       9  genitourinary\n",
              "3    1300         109   172335      4.0      5855       9  genitourinary\n",
              "4    1301         109   172335      5.0      4254       6    circulatory"
            ]
          },
          "execution_count": 52,
          "metadata": {},
          "output_type": "execute_result"
        }
      ],
      "source": [
        "# Verify\n",
        "df_diagcode.head()"
      ]
    },
    {
      "cell_type": "code",
      "execution_count": 53,
      "metadata": {
        "colab": {
          "base_uri": "https://localhost:8080/"
        },
        "id": "qZWWq1IDrJG3",
        "outputId": "4654f156-19e6-48f6-913e-9e0483b58583"
      },
      "outputs": [
        {
          "name": "stderr",
          "output_type": "stream",
          "text": [
            "C:\\Users\\SYYAD\\AppData\\Local\\Temp\\ipykernel_11596\\384778453.py:3: FutureWarning: Downcasting object dtype arrays on .fillna, .ffill, .bfill is deprecated and will change in a future version. Call result.infer_objects(copy=False) instead. To opt-in to the future behavior, set `pd.set_option('future.no_silent_downcasting', True)`\n",
            "  df_diagcode['recode'] = df_diagcode['recode'][~df_diagcode['recode'].str.contains(\"[a-zA-Z]\").fillna(False)]\n",
            "C:\\Users\\SYYAD\\AppData\\Local\\Temp\\ipykernel_11596\\384778453.py:4: FutureWarning: A value is trying to be set on a copy of a DataFrame or Series through chained assignment using an inplace method.\n",
            "The behavior will change in pandas 3.0. This inplace method will never work because the intermediate object on which we are setting values always behaves as a copy.\n",
            "\n",
            "For example, when doing 'df[col].method(value, inplace=True)', try using 'df.method({col: value}, inplace=True)' or df[col] = df[col].method(value) instead, to perform the operation inplace on the original object.\n",
            "\n",
            "\n",
            "  df_diagcode['recode'].fillna(value='999', inplace=True)\n"
          ]
        },
        {
          "name": "stdout",
          "output_type": "stream",
          "text": [
            "   ROW_ID  SUBJECT_ID  HADM_ID  SEQ_NUM ICD9_CODE  recode            cat\n",
            "0    1297         109   172335      1.0     40301       6    circulatory\n",
            "1    1298         109   172335      2.0       486       7    respiratory\n",
            "2    1299         109   172335      3.0     58281       9  genitourinary\n",
            "3    1300         109   172335      4.0      5855       9  genitourinary\n",
            "4    1301         109   172335      5.0      4254       6    circulatory\n"
          ]
        }
      ],
      "source": [
        "# Filter out E and V codes since processing will be done on the numeric first 3 values\n",
        "df_diagcode['recode'] = df_diagcode['ICD9_CODE']\n",
        "df_diagcode['recode'] = df_diagcode['recode'][~df_diagcode['recode'].str.contains(\"[a-zA-Z]\").fillna(False)]\n",
        "df_diagcode['recode'].fillna(value='999', inplace=True)\n",
        "df_diagcode['recode'] = df_diagcode['recode'].str.slice(start=0, stop=3, step=1)\n",
        "df_diagcode['recode'] = df_diagcode['recode'].astype(int)\n",
        "\n",
        "# ICD-9 Main Category ranges\n",
        "icd9_ranges = [(1, 140), (140, 240), (240, 280), (280, 290), (290, 320), (320, 390),\n",
        "               (390, 460), (460, 520), (520, 580), (580, 630), (630, 680), (680, 710),\n",
        "               (710, 740), (740, 760), (760, 780), (780, 800), (800, 1000), (1000, 2000)]\n",
        "\n",
        "# Associated category names\n",
        "diag_dict = {0: 'infectious', 1: 'neoplasms', 2: 'endocrine', 3: 'blood',\n",
        "             4: 'mental', 5: 'nervous', 6: 'circulatory', 7: 'respiratory',\n",
        "             8: 'digestive', 9: 'genitourinary', 10: 'pregnancy', 11: 'skin',\n",
        "             12: 'muscular', 13: 'congenital', 14: 'prenatal', 15: 'misc',\n",
        "             16: 'injury', 17: 'misc'}\n",
        "\n",
        "# Re-code in terms of integer\n",
        "for num, cat_range in enumerate(icd9_ranges):\n",
        "    df_diagcode['recode'] = np.where(df_diagcode['recode'].between(cat_range[0], cat_range[1]),\n",
        "                                     num, df_diagcode['recode'])\n",
        "\n",
        "# Convert integer to category name using diag_dict\n",
        "df_diagcode['recode'] = df_diagcode['recode']\n",
        "df_diagcode['cat'] = df_diagcode['recode'].replace(diag_dict)\n",
        "\n",
        "# Verify\n",
        "print(df_diagcode.head())"
      ]
    },
    {
      "cell_type": "code",
      "execution_count": 54,
      "metadata": {
        "colab": {
          "base_uri": "https://localhost:8080/",
          "height": 206
        },
        "id": "hmPsqGTPrZMw",
        "outputId": "b8d50df8-a103-498a-de48-42f665bf6ec1"
      },
      "outputs": [
        {
          "data": {
            "text/html": [
              "<div>\n",
              "<style scoped>\n",
              "    .dataframe tbody tr th:only-of-type {\n",
              "        vertical-align: middle;\n",
              "    }\n",
              "\n",
              "    .dataframe tbody tr th {\n",
              "        vertical-align: top;\n",
              "    }\n",
              "\n",
              "    .dataframe thead th {\n",
              "        text-align: right;\n",
              "    }\n",
              "</style>\n",
              "<table border=\"1\" class=\"dataframe\">\n",
              "  <thead>\n",
              "    <tr style=\"text-align: right;\">\n",
              "      <th></th>\n",
              "      <th>HADM_ID</th>\n",
              "      <th>cat</th>\n",
              "    </tr>\n",
              "  </thead>\n",
              "  <tbody>\n",
              "    <tr>\n",
              "      <th>0</th>\n",
              "      <td>100001</td>\n",
              "      <td>[endocrine, nervous, genitourinary, digestive,...</td>\n",
              "    </tr>\n",
              "    <tr>\n",
              "      <th>1</th>\n",
              "      <td>100003</td>\n",
              "      <td>[digestive, blood, infectious, digestive, circ...</td>\n",
              "    </tr>\n",
              "    <tr>\n",
              "      <th>2</th>\n",
              "      <td>100006</td>\n",
              "      <td>[respiratory, respiratory, respiratory, neopla...</td>\n",
              "    </tr>\n",
              "    <tr>\n",
              "      <th>3</th>\n",
              "      <td>100007</td>\n",
              "      <td>[digestive, digestive, injury, respiratory, ci...</td>\n",
              "    </tr>\n",
              "    <tr>\n",
              "      <th>4</th>\n",
              "      <td>100009</td>\n",
              "      <td>[circulatory, injury, circulatory, endocrine, ...</td>\n",
              "    </tr>\n",
              "  </tbody>\n",
              "</table>\n",
              "</div>"
            ],
            "text/plain": [
              "   HADM_ID                                                cat\n",
              "0   100001  [endocrine, nervous, genitourinary, digestive,...\n",
              "1   100003  [digestive, blood, infectious, digestive, circ...\n",
              "2   100006  [respiratory, respiratory, respiratory, neopla...\n",
              "3   100007  [digestive, digestive, injury, respiratory, ci...\n",
              "4   100009  [circulatory, injury, circulatory, endocrine, ..."
            ]
          },
          "execution_count": 54,
          "metadata": {},
          "output_type": "execute_result"
        }
      ],
      "source": [
        "# Create list of diagnoses for each admission\n",
        "hadm_list = df_diagcode.groupby('HADM_ID')['cat'].apply(list).reset_index()\n",
        "hadm_list.head()"
      ]
    },
    {
      "cell_type": "code",
      "execution_count": 56,
      "metadata": {
        "colab": {
          "base_uri": "https://localhost:8080/",
          "height": 261
        },
        "id": "lqCNJ8b4reOS",
        "outputId": "be2b2331-daa0-415a-a2c9-6f2543f79c7c"
      },
      "outputs": [
        {
          "data": {
            "text/html": [
              "<div>\n",
              "<style scoped>\n",
              "    .dataframe tbody tr th:only-of-type {\n",
              "        vertical-align: middle;\n",
              "    }\n",
              "\n",
              "    .dataframe tbody tr th {\n",
              "        vertical-align: top;\n",
              "    }\n",
              "\n",
              "    .dataframe thead th {\n",
              "        text-align: right;\n",
              "    }\n",
              "</style>\n",
              "<table border=\"1\" class=\"dataframe\">\n",
              "  <thead>\n",
              "    <tr style=\"text-align: right;\">\n",
              "      <th></th>\n",
              "      <th>blood</th>\n",
              "      <th>circulatory</th>\n",
              "      <th>congenital</th>\n",
              "      <th>digestive</th>\n",
              "      <th>endocrine</th>\n",
              "      <th>genitourinary</th>\n",
              "      <th>infectious</th>\n",
              "      <th>injury</th>\n",
              "      <th>mental</th>\n",
              "      <th>misc</th>\n",
              "      <th>muscular</th>\n",
              "      <th>neoplasms</th>\n",
              "      <th>nervous</th>\n",
              "      <th>pregnancy</th>\n",
              "      <th>prenatal</th>\n",
              "      <th>respiratory</th>\n",
              "      <th>skin</th>\n",
              "    </tr>\n",
              "  </thead>\n",
              "  <tbody>\n",
              "    <tr>\n",
              "      <th>0</th>\n",
              "      <td>0</td>\n",
              "      <td>2</td>\n",
              "      <td>0</td>\n",
              "      <td>2</td>\n",
              "      <td>5</td>\n",
              "      <td>2</td>\n",
              "      <td>0</td>\n",
              "      <td>2</td>\n",
              "      <td>0</td>\n",
              "      <td>0</td>\n",
              "      <td>0</td>\n",
              "      <td>0</td>\n",
              "      <td>2</td>\n",
              "      <td>0</td>\n",
              "      <td>0</td>\n",
              "      <td>0</td>\n",
              "      <td>1</td>\n",
              "    </tr>\n",
              "    <tr>\n",
              "      <th>1</th>\n",
              "      <td>1</td>\n",
              "      <td>2</td>\n",
              "      <td>0</td>\n",
              "      <td>4</td>\n",
              "      <td>0</td>\n",
              "      <td>0</td>\n",
              "      <td>1</td>\n",
              "      <td>0</td>\n",
              "      <td>0</td>\n",
              "      <td>1</td>\n",
              "      <td>0</td>\n",
              "      <td>0</td>\n",
              "      <td>0</td>\n",
              "      <td>0</td>\n",
              "      <td>0</td>\n",
              "      <td>0</td>\n",
              "      <td>0</td>\n",
              "    </tr>\n",
              "    <tr>\n",
              "      <th>2</th>\n",
              "      <td>0</td>\n",
              "      <td>0</td>\n",
              "      <td>0</td>\n",
              "      <td>0</td>\n",
              "      <td>1</td>\n",
              "      <td>0</td>\n",
              "      <td>0</td>\n",
              "      <td>2</td>\n",
              "      <td>1</td>\n",
              "      <td>1</td>\n",
              "      <td>0</td>\n",
              "      <td>1</td>\n",
              "      <td>0</td>\n",
              "      <td>0</td>\n",
              "      <td>0</td>\n",
              "      <td>3</td>\n",
              "      <td>0</td>\n",
              "    </tr>\n",
              "    <tr>\n",
              "      <th>3</th>\n",
              "      <td>0</td>\n",
              "      <td>1</td>\n",
              "      <td>0</td>\n",
              "      <td>2</td>\n",
              "      <td>0</td>\n",
              "      <td>0</td>\n",
              "      <td>0</td>\n",
              "      <td>1</td>\n",
              "      <td>0</td>\n",
              "      <td>0</td>\n",
              "      <td>0</td>\n",
              "      <td>0</td>\n",
              "      <td>0</td>\n",
              "      <td>0</td>\n",
              "      <td>0</td>\n",
              "      <td>1</td>\n",
              "      <td>0</td>\n",
              "    </tr>\n",
              "    <tr>\n",
              "      <th>4</th>\n",
              "      <td>1</td>\n",
              "      <td>7</td>\n",
              "      <td>0</td>\n",
              "      <td>0</td>\n",
              "      <td>3</td>\n",
              "      <td>0</td>\n",
              "      <td>0</td>\n",
              "      <td>7</td>\n",
              "      <td>0</td>\n",
              "      <td>0</td>\n",
              "      <td>0</td>\n",
              "      <td>0</td>\n",
              "      <td>0</td>\n",
              "      <td>0</td>\n",
              "      <td>0</td>\n",
              "      <td>0</td>\n",
              "      <td>0</td>\n",
              "    </tr>\n",
              "  </tbody>\n",
              "</table>\n",
              "</div>"
            ],
            "text/plain": [
              "   blood  circulatory  congenital  digestive  endocrine  genitourinary  \\\n",
              "0      0            2           0          2          5              2   \n",
              "1      1            2           0          4          0              0   \n",
              "2      0            0           0          0          1              0   \n",
              "3      0            1           0          2          0              0   \n",
              "4      1            7           0          0          3              0   \n",
              "\n",
              "   infectious  injury  mental  misc  muscular  neoplasms  nervous  pregnancy  \\\n",
              "0           0       2       0     0         0          0        2          0   \n",
              "1           1       0       0     1         0          0        0          0   \n",
              "2           0       2       1     1         0          1        0          0   \n",
              "3           0       1       0     0         0          0        0          0   \n",
              "4           0       7       0     0         0          0        0          0   \n",
              "\n",
              "   prenatal  respiratory  skin  \n",
              "0         0            0     1  \n",
              "1         0            0     0  \n",
              "2         0            3     0  \n",
              "3         0            1     0  \n",
              "4         0            0     0  "
            ]
          },
          "execution_count": 56,
          "metadata": {},
          "output_type": "execute_result"
        }
      ],
      "source": [
        "# Convert diagnoses list into hospital admission-item matrix\n",
        "hadm_item = pd.get_dummies(hadm_list['cat'].apply(pd.Series).stack()).groupby(level=0).sum()\n",
        "hadm_item.head()"
      ]
    },
    {
      "cell_type": "code",
      "execution_count": 57,
      "metadata": {
        "colab": {
          "base_uri": "https://localhost:8080/",
          "height": 226
        },
        "id": "3KFqg0lzrisc",
        "outputId": "d93014be-7e5d-45cf-eac3-565562f7a04f"
      },
      "outputs": [
        {
          "data": {
            "text/html": [
              "<div>\n",
              "<style scoped>\n",
              "    .dataframe tbody tr th:only-of-type {\n",
              "        vertical-align: middle;\n",
              "    }\n",
              "\n",
              "    .dataframe tbody tr th {\n",
              "        vertical-align: top;\n",
              "    }\n",
              "\n",
              "    .dataframe thead th {\n",
              "        text-align: right;\n",
              "    }\n",
              "</style>\n",
              "<table border=\"1\" class=\"dataframe\">\n",
              "  <thead>\n",
              "    <tr style=\"text-align: right;\">\n",
              "      <th></th>\n",
              "      <th>blood</th>\n",
              "      <th>circulatory</th>\n",
              "      <th>congenital</th>\n",
              "      <th>digestive</th>\n",
              "      <th>endocrine</th>\n",
              "      <th>genitourinary</th>\n",
              "      <th>infectious</th>\n",
              "      <th>injury</th>\n",
              "      <th>mental</th>\n",
              "      <th>misc</th>\n",
              "      <th>muscular</th>\n",
              "      <th>neoplasms</th>\n",
              "      <th>nervous</th>\n",
              "      <th>pregnancy</th>\n",
              "      <th>prenatal</th>\n",
              "      <th>respiratory</th>\n",
              "      <th>skin</th>\n",
              "      <th>HADM_ID</th>\n",
              "    </tr>\n",
              "  </thead>\n",
              "  <tbody>\n",
              "    <tr>\n",
              "      <th>0</th>\n",
              "      <td>0</td>\n",
              "      <td>2</td>\n",
              "      <td>0</td>\n",
              "      <td>2</td>\n",
              "      <td>5</td>\n",
              "      <td>2</td>\n",
              "      <td>0</td>\n",
              "      <td>2</td>\n",
              "      <td>0</td>\n",
              "      <td>0</td>\n",
              "      <td>0</td>\n",
              "      <td>0</td>\n",
              "      <td>2</td>\n",
              "      <td>0</td>\n",
              "      <td>0</td>\n",
              "      <td>0</td>\n",
              "      <td>1</td>\n",
              "      <td>100001</td>\n",
              "    </tr>\n",
              "    <tr>\n",
              "      <th>1</th>\n",
              "      <td>1</td>\n",
              "      <td>2</td>\n",
              "      <td>0</td>\n",
              "      <td>4</td>\n",
              "      <td>0</td>\n",
              "      <td>0</td>\n",
              "      <td>1</td>\n",
              "      <td>0</td>\n",
              "      <td>0</td>\n",
              "      <td>1</td>\n",
              "      <td>0</td>\n",
              "      <td>0</td>\n",
              "      <td>0</td>\n",
              "      <td>0</td>\n",
              "      <td>0</td>\n",
              "      <td>0</td>\n",
              "      <td>0</td>\n",
              "      <td>100003</td>\n",
              "    </tr>\n",
              "    <tr>\n",
              "      <th>2</th>\n",
              "      <td>0</td>\n",
              "      <td>0</td>\n",
              "      <td>0</td>\n",
              "      <td>0</td>\n",
              "      <td>1</td>\n",
              "      <td>0</td>\n",
              "      <td>0</td>\n",
              "      <td>2</td>\n",
              "      <td>1</td>\n",
              "      <td>1</td>\n",
              "      <td>0</td>\n",
              "      <td>1</td>\n",
              "      <td>0</td>\n",
              "      <td>0</td>\n",
              "      <td>0</td>\n",
              "      <td>3</td>\n",
              "      <td>0</td>\n",
              "      <td>100006</td>\n",
              "    </tr>\n",
              "    <tr>\n",
              "      <th>3</th>\n",
              "      <td>0</td>\n",
              "      <td>1</td>\n",
              "      <td>0</td>\n",
              "      <td>2</td>\n",
              "      <td>0</td>\n",
              "      <td>0</td>\n",
              "      <td>0</td>\n",
              "      <td>1</td>\n",
              "      <td>0</td>\n",
              "      <td>0</td>\n",
              "      <td>0</td>\n",
              "      <td>0</td>\n",
              "      <td>0</td>\n",
              "      <td>0</td>\n",
              "      <td>0</td>\n",
              "      <td>1</td>\n",
              "      <td>0</td>\n",
              "      <td>100007</td>\n",
              "    </tr>\n",
              "    <tr>\n",
              "      <th>4</th>\n",
              "      <td>1</td>\n",
              "      <td>7</td>\n",
              "      <td>0</td>\n",
              "      <td>0</td>\n",
              "      <td>3</td>\n",
              "      <td>0</td>\n",
              "      <td>0</td>\n",
              "      <td>7</td>\n",
              "      <td>0</td>\n",
              "      <td>0</td>\n",
              "      <td>0</td>\n",
              "      <td>0</td>\n",
              "      <td>0</td>\n",
              "      <td>0</td>\n",
              "      <td>0</td>\n",
              "      <td>0</td>\n",
              "      <td>0</td>\n",
              "      <td>100009</td>\n",
              "    </tr>\n",
              "  </tbody>\n",
              "</table>\n",
              "</div>"
            ],
            "text/plain": [
              "   blood  circulatory  congenital  digestive  endocrine  genitourinary  \\\n",
              "0      0            2           0          2          5              2   \n",
              "1      1            2           0          4          0              0   \n",
              "2      0            0           0          0          1              0   \n",
              "3      0            1           0          2          0              0   \n",
              "4      1            7           0          0          3              0   \n",
              "\n",
              "   infectious  injury  mental  misc  muscular  neoplasms  nervous  pregnancy  \\\n",
              "0           0       2       0     0         0          0        2          0   \n",
              "1           1       0       0     1         0          0        0          0   \n",
              "2           0       2       1     1         0          1        0          0   \n",
              "3           0       1       0     0         0          0        0          0   \n",
              "4           0       7       0     0         0          0        0          0   \n",
              "\n",
              "   prenatal  respiratory  skin  HADM_ID  \n",
              "0         0            0     1   100001  \n",
              "1         0            0     0   100003  \n",
              "2         0            3     0   100006  \n",
              "3         0            1     0   100007  \n",
              "4         0            0     0   100009  "
            ]
          },
          "execution_count": 57,
          "metadata": {},
          "output_type": "execute_result"
        }
      ],
      "source": [
        "# Join back with HADM_ID, will merge with main admissions DF later\n",
        "hadm_item = hadm_item.join(hadm_list['HADM_ID'], how=\"outer\")\n",
        "hadm_item.head()"
      ]
    },
    {
      "cell_type": "code",
      "execution_count": 58,
      "metadata": {
        "id": "DoDlOa-zroqY"
      },
      "outputs": [],
      "source": [
        "# Merge with main admissions df\n",
        "df = df.merge(hadm_item, how='inner', on='HADM_ID')"
      ]
    },
    {
      "cell_type": "code",
      "execution_count": 59,
      "metadata": {
        "colab": {
          "base_uri": "https://localhost:8080/",
          "height": 429
        },
        "id": "gzOd6BU1ruQY",
        "outputId": "9daaf96b-9abd-4421-f674-bfd0c6eaaf47"
      },
      "outputs": [
        {
          "data": {
            "text/html": [
              "<div>\n",
              "<style scoped>\n",
              "    .dataframe tbody tr th:only-of-type {\n",
              "        vertical-align: middle;\n",
              "    }\n",
              "\n",
              "    .dataframe tbody tr th {\n",
              "        vertical-align: top;\n",
              "    }\n",
              "\n",
              "    .dataframe thead th {\n",
              "        text-align: right;\n",
              "    }\n",
              "</style>\n",
              "<table border=\"1\" class=\"dataframe\">\n",
              "  <thead>\n",
              "    <tr style=\"text-align: right;\">\n",
              "      <th></th>\n",
              "      <th>SUBJECT_ID</th>\n",
              "      <th>HADM_ID</th>\n",
              "      <th>ADMITTIME</th>\n",
              "      <th>DEATHTIME</th>\n",
              "      <th>ADMISSION_TYPE</th>\n",
              "      <th>ADMISSION_LOCATION</th>\n",
              "      <th>DISCHARGE_LOCATION</th>\n",
              "      <th>INSURANCE</th>\n",
              "      <th>LANGUAGE</th>\n",
              "      <th>RELIGION</th>\n",
              "      <th>...</th>\n",
              "      <th>injury</th>\n",
              "      <th>mental</th>\n",
              "      <th>misc</th>\n",
              "      <th>muscular</th>\n",
              "      <th>neoplasms</th>\n",
              "      <th>nervous</th>\n",
              "      <th>pregnancy</th>\n",
              "      <th>prenatal</th>\n",
              "      <th>respiratory</th>\n",
              "      <th>skin</th>\n",
              "    </tr>\n",
              "  </thead>\n",
              "  <tbody>\n",
              "    <tr>\n",
              "      <th>0</th>\n",
              "      <td>22</td>\n",
              "      <td>165315</td>\n",
              "      <td>2196-04-09 12:26:00</td>\n",
              "      <td>NaN</td>\n",
              "      <td>EMERGENCY</td>\n",
              "      <td>EMERGENCY ROOM ADMIT</td>\n",
              "      <td>DISC-TRAN CANCER/CHLDRN H</td>\n",
              "      <td>Private</td>\n",
              "      <td>NaN</td>\n",
              "      <td>UNOBTAINABLE</td>\n",
              "      <td>...</td>\n",
              "      <td>4</td>\n",
              "      <td>1</td>\n",
              "      <td>0</td>\n",
              "      <td>0</td>\n",
              "      <td>0</td>\n",
              "      <td>1</td>\n",
              "      <td>0</td>\n",
              "      <td>0</td>\n",
              "      <td>0</td>\n",
              "      <td>0</td>\n",
              "    </tr>\n",
              "    <tr>\n",
              "      <th>1</th>\n",
              "      <td>23</td>\n",
              "      <td>152223</td>\n",
              "      <td>2153-09-03 07:15:00</td>\n",
              "      <td>NaN</td>\n",
              "      <td>ELECTIVE</td>\n",
              "      <td>PHYS REFERRAL/NORMAL DELI</td>\n",
              "      <td>HOME HEALTH CARE</td>\n",
              "      <td>Medicare</td>\n",
              "      <td>NaN</td>\n",
              "      <td>RELIGIOUS</td>\n",
              "      <td>...</td>\n",
              "      <td>1</td>\n",
              "      <td>0</td>\n",
              "      <td>0</td>\n",
              "      <td>0</td>\n",
              "      <td>0</td>\n",
              "      <td>1</td>\n",
              "      <td>0</td>\n",
              "      <td>0</td>\n",
              "      <td>0</td>\n",
              "      <td>0</td>\n",
              "    </tr>\n",
              "    <tr>\n",
              "      <th>2</th>\n",
              "      <td>23</td>\n",
              "      <td>124321</td>\n",
              "      <td>2157-10-18 19:34:00</td>\n",
              "      <td>NaN</td>\n",
              "      <td>EMERGENCY</td>\n",
              "      <td>TRANSFER FROM HOSP/EXTRAM</td>\n",
              "      <td>HOME HEALTH CARE</td>\n",
              "      <td>Medicare</td>\n",
              "      <td>ENGL</td>\n",
              "      <td>RELIGIOUS</td>\n",
              "      <td>...</td>\n",
              "      <td>3</td>\n",
              "      <td>0</td>\n",
              "      <td>0</td>\n",
              "      <td>0</td>\n",
              "      <td>1</td>\n",
              "      <td>1</td>\n",
              "      <td>0</td>\n",
              "      <td>1</td>\n",
              "      <td>0</td>\n",
              "      <td>0</td>\n",
              "    </tr>\n",
              "    <tr>\n",
              "      <th>3</th>\n",
              "      <td>24</td>\n",
              "      <td>161859</td>\n",
              "      <td>2139-06-06 16:14:00</td>\n",
              "      <td>NaN</td>\n",
              "      <td>EMERGENCY</td>\n",
              "      <td>TRANSFER FROM HOSP/EXTRAM</td>\n",
              "      <td>HOME</td>\n",
              "      <td>Private</td>\n",
              "      <td>NaN</td>\n",
              "      <td>RELIGIOUS</td>\n",
              "      <td>...</td>\n",
              "      <td>0</td>\n",
              "      <td>0</td>\n",
              "      <td>0</td>\n",
              "      <td>0</td>\n",
              "      <td>0</td>\n",
              "      <td>0</td>\n",
              "      <td>0</td>\n",
              "      <td>0</td>\n",
              "      <td>0</td>\n",
              "      <td>0</td>\n",
              "    </tr>\n",
              "    <tr>\n",
              "      <th>4</th>\n",
              "      <td>25</td>\n",
              "      <td>129635</td>\n",
              "      <td>2160-11-02 02:06:00</td>\n",
              "      <td>NaN</td>\n",
              "      <td>EMERGENCY</td>\n",
              "      <td>EMERGENCY ROOM ADMIT</td>\n",
              "      <td>HOME</td>\n",
              "      <td>Private</td>\n",
              "      <td>NaN</td>\n",
              "      <td>UNOBTAINABLE</td>\n",
              "      <td>...</td>\n",
              "      <td>0</td>\n",
              "      <td>0</td>\n",
              "      <td>0</td>\n",
              "      <td>0</td>\n",
              "      <td>0</td>\n",
              "      <td>0</td>\n",
              "      <td>0</td>\n",
              "      <td>0</td>\n",
              "      <td>0</td>\n",
              "      <td>0</td>\n",
              "    </tr>\n",
              "  </tbody>\n",
              "</table>\n",
              "<p>5 rows × 32 columns</p>\n",
              "</div>"
            ],
            "text/plain": [
              "   SUBJECT_ID  HADM_ID           ADMITTIME DEATHTIME ADMISSION_TYPE  \\\n",
              "0          22   165315 2196-04-09 12:26:00       NaN      EMERGENCY   \n",
              "1          23   152223 2153-09-03 07:15:00       NaN       ELECTIVE   \n",
              "2          23   124321 2157-10-18 19:34:00       NaN      EMERGENCY   \n",
              "3          24   161859 2139-06-06 16:14:00       NaN      EMERGENCY   \n",
              "4          25   129635 2160-11-02 02:06:00       NaN      EMERGENCY   \n",
              "\n",
              "          ADMISSION_LOCATION         DISCHARGE_LOCATION INSURANCE LANGUAGE  \\\n",
              "0       EMERGENCY ROOM ADMIT  DISC-TRAN CANCER/CHLDRN H   Private      NaN   \n",
              "1  PHYS REFERRAL/NORMAL DELI           HOME HEALTH CARE  Medicare      NaN   \n",
              "2  TRANSFER FROM HOSP/EXTRAM           HOME HEALTH CARE  Medicare     ENGL   \n",
              "3  TRANSFER FROM HOSP/EXTRAM                       HOME   Private      NaN   \n",
              "4       EMERGENCY ROOM ADMIT                       HOME   Private      NaN   \n",
              "\n",
              "       RELIGION  ... injury mental misc  muscular  neoplasms  nervous  \\\n",
              "0  UNOBTAINABLE  ...      4      1    0         0          0        1   \n",
              "1     RELIGIOUS  ...      1      0    0         0          0        1   \n",
              "2     RELIGIOUS  ...      3      0    0         0          1        1   \n",
              "3     RELIGIOUS  ...      0      0    0         0          0        0   \n",
              "4  UNOBTAINABLE  ...      0      0    0         0          0        0   \n",
              "\n",
              "   pregnancy  prenatal  respiratory  skin  \n",
              "0          0         0            0     0  \n",
              "1          0         0            0     0  \n",
              "2          0         1            0     0  \n",
              "3          0         0            0     0  \n",
              "4          0         0            0     0  \n",
              "\n",
              "[5 rows x 32 columns]"
            ]
          },
          "execution_count": 59,
          "metadata": {},
          "output_type": "execute_result"
        }
      ],
      "source": [
        "# Verify Merge\n",
        "df.head()"
      ]
    },
    {
      "cell_type": "code",
      "execution_count": 60,
      "metadata": {
        "colab": {
          "base_uri": "https://localhost:8080/",
          "height": 513
        },
        "id": "qyiAQDFWr031",
        "outputId": "787d1ee8-a6af-4402-f17a-426a07f6eddb"
      },
      "outputs": [
        {
          "data": {
            "text/plain": [
              "Text(0.5, 1.0, 'Comparison of Diagnoses')"
            ]
          },
          "execution_count": 60,
          "metadata": {},
          "output_type": "execute_result"
        },
        {
          "data": {
            "image/png": "[encoded data removed]",
            "text/plain": [
              "<Figure size 700x500 with 1 Axes>"
            ]
          },
          "metadata": {},
          "output_type": "display_data"
        }
      ],
      "source": [
        "# Look at the median LOS by diagnosis category\n",
        "diag_cat_list = ['skin', 'infectious',  'misc', 'genitourinary', 'neoplasms', 'blood', 'respiratory',\n",
        "                  'congenital','nervous', 'muscular', 'digestive', 'mental', 'endocrine', 'injury',\n",
        "                 'circulatory', 'prenatal',  'pregnancy']\n",
        "\n",
        "results = []\n",
        "for variable in diag_cat_list:\n",
        "    results.append(df[[variable, 'LOS']].groupby(variable).median().reset_index().values[1][1])\n",
        "\n",
        "sns.set(style=\"whitegrid\")\n",
        "#sns.set_style(\"ticks\")\n",
        "fig, ax = plt.subplots(figsize=(7,5))\n",
        "ind = range(len(results))\n",
        "ax.barh(ind, results, align='edge', color = '#55a868', alpha=0.8)\n",
        "ax.set_yticks(ind)\n",
        "ax.set_yticklabels(diag_cat_list)\n",
        "ax.set_xlabel('Median Length of Stay (days)')\n",
        "ax.tick_params(left=False, right=False, top=False)\n",
        "ax.set_title('Comparison of Diagnoses'.format(variable))"
      ]
    },
    {
      "cell_type": "markdown",
      "metadata": {
        "id": "KwJ-cWgwCAOt"
      },
      "source": [
        "**Feature Engineering: Patients Table**"
      ]
    },
    {
      "cell_type": "code",
      "execution_count": 62,
      "metadata": {
        "id": "rr2JeXJrLVaH"
      },
      "outputs": [],
      "source": [
        "df_pat = pd.read_csv(base_path + \"PATIENTS.csv\", low_memory=False)  "
      ]
    },
    {
      "cell_type": "code",
      "execution_count": 63,
      "metadata": {
        "colab": {
          "base_uri": "https://localhost:8080/",
          "height": 206
        },
        "id": "o97auQShr9WT",
        "outputId": "8739c20b-de7e-42a2-9745-23cf198ec95b"
      },
      "outputs": [
        {
          "data": {
            "text/html": [
              "<div>\n",
              "<style scoped>\n",
              "    .dataframe tbody tr th:only-of-type {\n",
              "        vertical-align: middle;\n",
              "    }\n",
              "\n",
              "    .dataframe tbody tr th {\n",
              "        vertical-align: top;\n",
              "    }\n",
              "\n",
              "    .dataframe thead th {\n",
              "        text-align: right;\n",
              "    }\n",
              "</style>\n",
              "<table border=\"1\" class=\"dataframe\">\n",
              "  <thead>\n",
              "    <tr style=\"text-align: right;\">\n",
              "      <th></th>\n",
              "      <th>ROW_ID</th>\n",
              "      <th>SUBJECT_ID</th>\n",
              "      <th>GENDER</th>\n",
              "      <th>DOB</th>\n",
              "      <th>DOD</th>\n",
              "      <th>DOD_HOSP</th>\n",
              "      <th>DOD_SSN</th>\n",
              "      <th>EXPIRE_FLAG</th>\n",
              "    </tr>\n",
              "  </thead>\n",
              "  <tbody>\n",
              "    <tr>\n",
              "      <th>0</th>\n",
              "      <td>234</td>\n",
              "      <td>249</td>\n",
              "      <td>F</td>\n",
              "      <td>2075-03-13 00:00:00</td>\n",
              "      <td>NaN</td>\n",
              "      <td>NaN</td>\n",
              "      <td>NaN</td>\n",
              "      <td>0</td>\n",
              "    </tr>\n",
              "    <tr>\n",
              "      <th>1</th>\n",
              "      <td>235</td>\n",
              "      <td>250</td>\n",
              "      <td>F</td>\n",
              "      <td>2164-12-27 00:00:00</td>\n",
              "      <td>2188-11-22 00:00:00</td>\n",
              "      <td>2188-11-22 00:00:00</td>\n",
              "      <td>NaN</td>\n",
              "      <td>1</td>\n",
              "    </tr>\n",
              "    <tr>\n",
              "      <th>2</th>\n",
              "      <td>236</td>\n",
              "      <td>251</td>\n",
              "      <td>M</td>\n",
              "      <td>2090-03-15 00:00:00</td>\n",
              "      <td>NaN</td>\n",
              "      <td>NaN</td>\n",
              "      <td>NaN</td>\n",
              "      <td>0</td>\n",
              "    </tr>\n",
              "    <tr>\n",
              "      <th>3</th>\n",
              "      <td>237</td>\n",
              "      <td>252</td>\n",
              "      <td>M</td>\n",
              "      <td>2078-03-06 00:00:00</td>\n",
              "      <td>NaN</td>\n",
              "      <td>NaN</td>\n",
              "      <td>NaN</td>\n",
              "      <td>0</td>\n",
              "    </tr>\n",
              "    <tr>\n",
              "      <th>4</th>\n",
              "      <td>238</td>\n",
              "      <td>253</td>\n",
              "      <td>F</td>\n",
              "      <td>2089-11-26 00:00:00</td>\n",
              "      <td>NaN</td>\n",
              "      <td>NaN</td>\n",
              "      <td>NaN</td>\n",
              "      <td>0</td>\n",
              "    </tr>\n",
              "  </tbody>\n",
              "</table>\n",
              "</div>"
            ],
            "text/plain": [
              "   ROW_ID  SUBJECT_ID GENDER                  DOB                  DOD  \\\n",
              "0     234         249      F  2075-03-13 00:00:00                  NaN   \n",
              "1     235         250      F  2164-12-27 00:00:00  2188-11-22 00:00:00   \n",
              "2     236         251      M  2090-03-15 00:00:00                  NaN   \n",
              "3     237         252      M  2078-03-06 00:00:00                  NaN   \n",
              "4     238         253      F  2089-11-26 00:00:00                  NaN   \n",
              "\n",
              "              DOD_HOSP DOD_SSN  EXPIRE_FLAG  \n",
              "0                  NaN     NaN            0  \n",
              "1  2188-11-22 00:00:00     NaN            1  \n",
              "2                  NaN     NaN            0  \n",
              "3                  NaN     NaN            0  \n",
              "4                  NaN     NaN            0  "
            ]
          },
          "execution_count": 63,
          "metadata": {},
          "output_type": "execute_result"
        }
      ],
      "source": [
        "df_pat.head()"
      ]
    },
    {
      "cell_type": "code",
      "execution_count": 64,
      "metadata": {
        "colab": {
          "base_uri": "https://localhost:8080/"
        },
        "id": "NhmasErtsAfV",
        "outputId": "5379405a-c284-4e3c-e7fe-4d7b2700af14"
      },
      "outputs": [
        {
          "data": {
            "text/plain": [
              "GENDER\n",
              "M    26121\n",
              "F    20399\n",
              "Name: count, dtype: int64"
            ]
          },
          "execution_count": 64,
          "metadata": {},
          "output_type": "execute_result"
        }
      ],
      "source": [
        "df_pat['GENDER'].value_counts()"
      ]
    },
    {
      "cell_type": "code",
      "execution_count": 65,
      "metadata": {
        "id": "QSOWrFH0sDJQ"
      },
      "outputs": [],
      "source": [
        "# Convert to datetime type\n",
        "df_pat['DOB'] = pd.to_datetime(df_pat['DOB'])"
      ]
    },
    {
      "cell_type": "code",
      "execution_count": 66,
      "metadata": {
        "colab": {
          "base_uri": "https://localhost:8080/",
          "height": 206
        },
        "id": "t2Gpc5JTsITj",
        "outputId": "5860ac8f-8a96-4934-e6ce-1488d2ca23ea"
      },
      "outputs": [
        {
          "data": {
            "text/html": [
              "<div>\n",
              "<style scoped>\n",
              "    .dataframe tbody tr th:only-of-type {\n",
              "        vertical-align: middle;\n",
              "    }\n",
              "\n",
              "    .dataframe tbody tr th {\n",
              "        vertical-align: top;\n",
              "    }\n",
              "\n",
              "    .dataframe thead th {\n",
              "        text-align: right;\n",
              "    }\n",
              "</style>\n",
              "<table border=\"1\" class=\"dataframe\">\n",
              "  <thead>\n",
              "    <tr style=\"text-align: right;\">\n",
              "      <th></th>\n",
              "      <th>SUBJECT_ID</th>\n",
              "      <th>DOB</th>\n",
              "      <th>GENDER</th>\n",
              "    </tr>\n",
              "  </thead>\n",
              "  <tbody>\n",
              "    <tr>\n",
              "      <th>0</th>\n",
              "      <td>249</td>\n",
              "      <td>2075-03-13</td>\n",
              "      <td>F</td>\n",
              "    </tr>\n",
              "    <tr>\n",
              "      <th>1</th>\n",
              "      <td>250</td>\n",
              "      <td>2164-12-27</td>\n",
              "      <td>F</td>\n",
              "    </tr>\n",
              "    <tr>\n",
              "      <th>2</th>\n",
              "      <td>251</td>\n",
              "      <td>2090-03-15</td>\n",
              "      <td>M</td>\n",
              "    </tr>\n",
              "    <tr>\n",
              "      <th>3</th>\n",
              "      <td>252</td>\n",
              "      <td>2078-03-06</td>\n",
              "      <td>M</td>\n",
              "    </tr>\n",
              "    <tr>\n",
              "      <th>4</th>\n",
              "      <td>253</td>\n",
              "      <td>2089-11-26</td>\n",
              "      <td>F</td>\n",
              "    </tr>\n",
              "  </tbody>\n",
              "</table>\n",
              "</div>"
            ],
            "text/plain": [
              "   SUBJECT_ID        DOB GENDER\n",
              "0         249 2075-03-13      F\n",
              "1         250 2164-12-27      F\n",
              "2         251 2090-03-15      M\n",
              "3         252 2078-03-06      M\n",
              "4         253 2089-11-26      F"
            ]
          },
          "execution_count": 66,
          "metadata": {},
          "output_type": "execute_result"
        }
      ],
      "source": [
        "df_pat = df_pat[['SUBJECT_ID', 'DOB', 'GENDER']]\n",
        "df_pat.head()"
      ]
    },
    {
      "cell_type": "code",
      "execution_count": 67,
      "metadata": {
        "id": "BPzF3IFOsLQy"
      },
      "outputs": [],
      "source": [
        "df = df.merge(df_pat, how='inner', on='SUBJECT_ID')"
      ]
    },
    {
      "cell_type": "code",
      "execution_count": 68,
      "metadata": {
        "colab": {
          "base_uri": "https://localhost:8080/",
          "height": 429
        },
        "id": "-sVsW6GzEB3M",
        "outputId": "8d86644c-ba87-40dd-eb34-eb9161d2d0b0"
      },
      "outputs": [
        {
          "data": {
            "text/html": [
              "<div>\n",
              "<style scoped>\n",
              "    .dataframe tbody tr th:only-of-type {\n",
              "        vertical-align: middle;\n",
              "    }\n",
              "\n",
              "    .dataframe tbody tr th {\n",
              "        vertical-align: top;\n",
              "    }\n",
              "\n",
              "    .dataframe thead th {\n",
              "        text-align: right;\n",
              "    }\n",
              "</style>\n",
              "<table border=\"1\" class=\"dataframe\">\n",
              "  <thead>\n",
              "    <tr style=\"text-align: right;\">\n",
              "      <th></th>\n",
              "      <th>SUBJECT_ID</th>\n",
              "      <th>HADM_ID</th>\n",
              "      <th>ADMITTIME</th>\n",
              "      <th>DEATHTIME</th>\n",
              "      <th>ADMISSION_TYPE</th>\n",
              "      <th>ADMISSION_LOCATION</th>\n",
              "      <th>DISCHARGE_LOCATION</th>\n",
              "      <th>INSURANCE</th>\n",
              "      <th>LANGUAGE</th>\n",
              "      <th>RELIGION</th>\n",
              "      <th>...</th>\n",
              "      <th>misc</th>\n",
              "      <th>muscular</th>\n",
              "      <th>neoplasms</th>\n",
              "      <th>nervous</th>\n",
              "      <th>pregnancy</th>\n",
              "      <th>prenatal</th>\n",
              "      <th>respiratory</th>\n",
              "      <th>skin</th>\n",
              "      <th>DOB</th>\n",
              "      <th>GENDER</th>\n",
              "    </tr>\n",
              "  </thead>\n",
              "  <tbody>\n",
              "    <tr>\n",
              "      <th>0</th>\n",
              "      <td>22</td>\n",
              "      <td>165315</td>\n",
              "      <td>2196-04-09 12:26:00</td>\n",
              "      <td>NaN</td>\n",
              "      <td>EMERGENCY</td>\n",
              "      <td>EMERGENCY ROOM ADMIT</td>\n",
              "      <td>DISC-TRAN CANCER/CHLDRN H</td>\n",
              "      <td>Private</td>\n",
              "      <td>NaN</td>\n",
              "      <td>UNOBTAINABLE</td>\n",
              "      <td>...</td>\n",
              "      <td>0</td>\n",
              "      <td>0</td>\n",
              "      <td>0</td>\n",
              "      <td>1</td>\n",
              "      <td>0</td>\n",
              "      <td>0</td>\n",
              "      <td>0</td>\n",
              "      <td>0</td>\n",
              "      <td>2131-05-07</td>\n",
              "      <td>F</td>\n",
              "    </tr>\n",
              "    <tr>\n",
              "      <th>1</th>\n",
              "      <td>23</td>\n",
              "      <td>152223</td>\n",
              "      <td>2153-09-03 07:15:00</td>\n",
              "      <td>NaN</td>\n",
              "      <td>ELECTIVE</td>\n",
              "      <td>PHYS REFERRAL/NORMAL DELI</td>\n",
              "      <td>HOME HEALTH CARE</td>\n",
              "      <td>Medicare</td>\n",
              "      <td>NaN</td>\n",
              "      <td>RELIGIOUS</td>\n",
              "      <td>...</td>\n",
              "      <td>0</td>\n",
              "      <td>0</td>\n",
              "      <td>0</td>\n",
              "      <td>1</td>\n",
              "      <td>0</td>\n",
              "      <td>0</td>\n",
              "      <td>0</td>\n",
              "      <td>0</td>\n",
              "      <td>2082-07-17</td>\n",
              "      <td>M</td>\n",
              "    </tr>\n",
              "    <tr>\n",
              "      <th>2</th>\n",
              "      <td>23</td>\n",
              "      <td>124321</td>\n",
              "      <td>2157-10-18 19:34:00</td>\n",
              "      <td>NaN</td>\n",
              "      <td>EMERGENCY</td>\n",
              "      <td>TRANSFER FROM HOSP/EXTRAM</td>\n",
              "      <td>HOME HEALTH CARE</td>\n",
              "      <td>Medicare</td>\n",
              "      <td>ENGL</td>\n",
              "      <td>RELIGIOUS</td>\n",
              "      <td>...</td>\n",
              "      <td>0</td>\n",
              "      <td>0</td>\n",
              "      <td>1</td>\n",
              "      <td>1</td>\n",
              "      <td>0</td>\n",
              "      <td>1</td>\n",
              "      <td>0</td>\n",
              "      <td>0</td>\n",
              "      <td>2082-07-17</td>\n",
              "      <td>M</td>\n",
              "    </tr>\n",
              "    <tr>\n",
              "      <th>3</th>\n",
              "      <td>24</td>\n",
              "      <td>161859</td>\n",
              "      <td>2139-06-06 16:14:00</td>\n",
              "      <td>NaN</td>\n",
              "      <td>EMERGENCY</td>\n",
              "      <td>TRANSFER FROM HOSP/EXTRAM</td>\n",
              "      <td>HOME</td>\n",
              "      <td>Private</td>\n",
              "      <td>NaN</td>\n",
              "      <td>RELIGIOUS</td>\n",
              "      <td>...</td>\n",
              "      <td>0</td>\n",
              "      <td>0</td>\n",
              "      <td>0</td>\n",
              "      <td>0</td>\n",
              "      <td>0</td>\n",
              "      <td>0</td>\n",
              "      <td>0</td>\n",
              "      <td>0</td>\n",
              "      <td>2100-05-31</td>\n",
              "      <td>M</td>\n",
              "    </tr>\n",
              "    <tr>\n",
              "      <th>4</th>\n",
              "      <td>25</td>\n",
              "      <td>129635</td>\n",
              "      <td>2160-11-02 02:06:00</td>\n",
              "      <td>NaN</td>\n",
              "      <td>EMERGENCY</td>\n",
              "      <td>EMERGENCY ROOM ADMIT</td>\n",
              "      <td>HOME</td>\n",
              "      <td>Private</td>\n",
              "      <td>NaN</td>\n",
              "      <td>UNOBTAINABLE</td>\n",
              "      <td>...</td>\n",
              "      <td>0</td>\n",
              "      <td>0</td>\n",
              "      <td>0</td>\n",
              "      <td>0</td>\n",
              "      <td>0</td>\n",
              "      <td>0</td>\n",
              "      <td>0</td>\n",
              "      <td>0</td>\n",
              "      <td>2101-11-21</td>\n",
              "      <td>M</td>\n",
              "    </tr>\n",
              "  </tbody>\n",
              "</table>\n",
              "<p>5 rows × 34 columns</p>\n",
              "</div>"
            ],
            "text/plain": [
              "   SUBJECT_ID  HADM_ID           ADMITTIME DEATHTIME ADMISSION_TYPE  \\\n",
              "0          22   165315 2196-04-09 12:26:00       NaN      EMERGENCY   \n",
              "1          23   152223 2153-09-03 07:15:00       NaN       ELECTIVE   \n",
              "2          23   124321 2157-10-18 19:34:00       NaN      EMERGENCY   \n",
              "3          24   161859 2139-06-06 16:14:00       NaN      EMERGENCY   \n",
              "4          25   129635 2160-11-02 02:06:00       NaN      EMERGENCY   \n",
              "\n",
              "          ADMISSION_LOCATION         DISCHARGE_LOCATION INSURANCE LANGUAGE  \\\n",
              "0       EMERGENCY ROOM ADMIT  DISC-TRAN CANCER/CHLDRN H   Private      NaN   \n",
              "1  PHYS REFERRAL/NORMAL DELI           HOME HEALTH CARE  Medicare      NaN   \n",
              "2  TRANSFER FROM HOSP/EXTRAM           HOME HEALTH CARE  Medicare     ENGL   \n",
              "3  TRANSFER FROM HOSP/EXTRAM                       HOME   Private      NaN   \n",
              "4       EMERGENCY ROOM ADMIT                       HOME   Private      NaN   \n",
              "\n",
              "       RELIGION  ... misc muscular neoplasms  nervous  pregnancy  prenatal  \\\n",
              "0  UNOBTAINABLE  ...    0        0         0        1          0         0   \n",
              "1     RELIGIOUS  ...    0        0         0        1          0         0   \n",
              "2     RELIGIOUS  ...    0        0         1        1          0         1   \n",
              "3     RELIGIOUS  ...    0        0         0        0          0         0   \n",
              "4  UNOBTAINABLE  ...    0        0         0        0          0         0   \n",
              "\n",
              "   respiratory  skin        DOB  GENDER  \n",
              "0            0     0 2131-05-07       F  \n",
              "1            0     0 2082-07-17       M  \n",
              "2            0     0 2082-07-17       M  \n",
              "3            0     0 2100-05-31       M  \n",
              "4            0     0 2101-11-21       M  \n",
              "\n",
              "[5 rows x 34 columns]"
            ]
          },
          "execution_count": 68,
          "metadata": {},
          "output_type": "execute_result"
        }
      ],
      "source": [
        "df.head()\n"
      ]
    },
    {
      "cell_type": "code",
      "execution_count": 69,
      "metadata": {
        "colab": {
          "base_uri": "https://localhost:8080/",
          "height": 206
        },
        "id": "4hpo1vf4sO5A",
        "outputId": "4cf9f28f-7311-4aa4-9deb-d3c5b008b3e1"
      },
      "outputs": [
        {
          "data": {
            "text/html": [
              "<div>\n",
              "<style scoped>\n",
              "    .dataframe tbody tr th:only-of-type {\n",
              "        vertical-align: middle;\n",
              "    }\n",
              "\n",
              "    .dataframe tbody tr th {\n",
              "        vertical-align: top;\n",
              "    }\n",
              "\n",
              "    .dataframe thead th {\n",
              "        text-align: right;\n",
              "    }\n",
              "</style>\n",
              "<table border=\"1\" class=\"dataframe\">\n",
              "  <thead>\n",
              "    <tr style=\"text-align: right;\">\n",
              "      <th></th>\n",
              "      <th>SUBJECT_ID</th>\n",
              "      <th>ADMIT_MIN</th>\n",
              "    </tr>\n",
              "  </thead>\n",
              "  <tbody>\n",
              "    <tr>\n",
              "      <th>0</th>\n",
              "      <td>2</td>\n",
              "      <td>2138-07-17 19:04:00</td>\n",
              "    </tr>\n",
              "    <tr>\n",
              "      <th>1</th>\n",
              "      <td>3</td>\n",
              "      <td>2101-10-20 19:08:00</td>\n",
              "    </tr>\n",
              "    <tr>\n",
              "      <th>2</th>\n",
              "      <td>4</td>\n",
              "      <td>2191-03-16 00:28:00</td>\n",
              "    </tr>\n",
              "    <tr>\n",
              "      <th>3</th>\n",
              "      <td>5</td>\n",
              "      <td>2103-02-02 04:31:00</td>\n",
              "    </tr>\n",
              "    <tr>\n",
              "      <th>4</th>\n",
              "      <td>6</td>\n",
              "      <td>2175-05-30 07:15:00</td>\n",
              "    </tr>\n",
              "  </tbody>\n",
              "</table>\n",
              "</div>"
            ],
            "text/plain": [
              "   SUBJECT_ID           ADMIT_MIN\n",
              "0           2 2138-07-17 19:04:00\n",
              "1           3 2101-10-20 19:08:00\n",
              "2           4 2191-03-16 00:28:00\n",
              "3           5 2103-02-02 04:31:00\n",
              "4           6 2175-05-30 07:15:00"
            ]
          },
          "execution_count": 69,
          "metadata": {},
          "output_type": "execute_result"
        }
      ],
      "source": [
        "# Find the first admission time for each patient\n",
        "df_age_min = df[['SUBJECT_ID', 'ADMITTIME']].groupby('SUBJECT_ID').min().reset_index()\n",
        "df_age_min.columns = ['SUBJECT_ID', 'ADMIT_MIN']\n",
        "df_age_min.head()"
      ]
    },
    {
      "cell_type": "code",
      "execution_count": 70,
      "metadata": {
        "id": "1hexXY-XsXUu"
      },
      "outputs": [],
      "source": [
        "df = df.merge(df_age_min, how='outer', on='SUBJECT_ID')"
      ]
    },
    {
      "cell_type": "code",
      "execution_count": 71,
      "metadata": {
        "colab": {
          "base_uri": "https://localhost:8080/",
          "height": 429
        },
        "id": "Amddi6xXscBX",
        "outputId": "1df882e1-c051-43c1-cb36-36471def760f"
      },
      "outputs": [
        {
          "data": {
            "text/html": [
              "<div>\n",
              "<style scoped>\n",
              "    .dataframe tbody tr th:only-of-type {\n",
              "        vertical-align: middle;\n",
              "    }\n",
              "\n",
              "    .dataframe tbody tr th {\n",
              "        vertical-align: top;\n",
              "    }\n",
              "\n",
              "    .dataframe thead th {\n",
              "        text-align: right;\n",
              "    }\n",
              "</style>\n",
              "<table border=\"1\" class=\"dataframe\">\n",
              "  <thead>\n",
              "    <tr style=\"text-align: right;\">\n",
              "      <th></th>\n",
              "      <th>SUBJECT_ID</th>\n",
              "      <th>HADM_ID</th>\n",
              "      <th>ADMITTIME</th>\n",
              "      <th>DEATHTIME</th>\n",
              "      <th>ADMISSION_TYPE</th>\n",
              "      <th>ADMISSION_LOCATION</th>\n",
              "      <th>DISCHARGE_LOCATION</th>\n",
              "      <th>INSURANCE</th>\n",
              "      <th>LANGUAGE</th>\n",
              "      <th>RELIGION</th>\n",
              "      <th>...</th>\n",
              "      <th>muscular</th>\n",
              "      <th>neoplasms</th>\n",
              "      <th>nervous</th>\n",
              "      <th>pregnancy</th>\n",
              "      <th>prenatal</th>\n",
              "      <th>respiratory</th>\n",
              "      <th>skin</th>\n",
              "      <th>DOB</th>\n",
              "      <th>GENDER</th>\n",
              "      <th>ADMIT_MIN</th>\n",
              "    </tr>\n",
              "  </thead>\n",
              "  <tbody>\n",
              "    <tr>\n",
              "      <th>0</th>\n",
              "      <td>2</td>\n",
              "      <td>163353</td>\n",
              "      <td>2138-07-17 19:04:00</td>\n",
              "      <td>NaN</td>\n",
              "      <td>NEWBORN</td>\n",
              "      <td>PHYS REFERRAL/NORMAL DELI</td>\n",
              "      <td>HOME</td>\n",
              "      <td>Private</td>\n",
              "      <td>NaN</td>\n",
              "      <td>NOT SPECIFIED</td>\n",
              "      <td>...</td>\n",
              "      <td>0</td>\n",
              "      <td>0</td>\n",
              "      <td>0</td>\n",
              "      <td>0</td>\n",
              "      <td>0</td>\n",
              "      <td>0</td>\n",
              "      <td>0</td>\n",
              "      <td>2138-07-17</td>\n",
              "      <td>M</td>\n",
              "      <td>2138-07-17 19:04:00</td>\n",
              "    </tr>\n",
              "    <tr>\n",
              "      <th>1</th>\n",
              "      <td>3</td>\n",
              "      <td>145834</td>\n",
              "      <td>2101-10-20 19:08:00</td>\n",
              "      <td>NaN</td>\n",
              "      <td>EMERGENCY</td>\n",
              "      <td>EMERGENCY ROOM ADMIT</td>\n",
              "      <td>SNF</td>\n",
              "      <td>Medicare</td>\n",
              "      <td>NaN</td>\n",
              "      <td>RELIGIOUS</td>\n",
              "      <td>...</td>\n",
              "      <td>0</td>\n",
              "      <td>0</td>\n",
              "      <td>0</td>\n",
              "      <td>0</td>\n",
              "      <td>0</td>\n",
              "      <td>0</td>\n",
              "      <td>1</td>\n",
              "      <td>2025-04-11</td>\n",
              "      <td>M</td>\n",
              "      <td>2101-10-20 19:08:00</td>\n",
              "    </tr>\n",
              "    <tr>\n",
              "      <th>2</th>\n",
              "      <td>4</td>\n",
              "      <td>185777</td>\n",
              "      <td>2191-03-16 00:28:00</td>\n",
              "      <td>NaN</td>\n",
              "      <td>EMERGENCY</td>\n",
              "      <td>EMERGENCY ROOM ADMIT</td>\n",
              "      <td>HOME WITH HOME IV PROVIDR</td>\n",
              "      <td>Private</td>\n",
              "      <td>NaN</td>\n",
              "      <td>RELIGIOUS</td>\n",
              "      <td>...</td>\n",
              "      <td>0</td>\n",
              "      <td>0</td>\n",
              "      <td>0</td>\n",
              "      <td>0</td>\n",
              "      <td>0</td>\n",
              "      <td>0</td>\n",
              "      <td>0</td>\n",
              "      <td>2143-05-12</td>\n",
              "      <td>F</td>\n",
              "      <td>2191-03-16 00:28:00</td>\n",
              "    </tr>\n",
              "    <tr>\n",
              "      <th>3</th>\n",
              "      <td>5</td>\n",
              "      <td>178980</td>\n",
              "      <td>2103-02-02 04:31:00</td>\n",
              "      <td>NaN</td>\n",
              "      <td>NEWBORN</td>\n",
              "      <td>PHYS REFERRAL/NORMAL DELI</td>\n",
              "      <td>HOME</td>\n",
              "      <td>Private</td>\n",
              "      <td>NaN</td>\n",
              "      <td>RELIGIOUS</td>\n",
              "      <td>...</td>\n",
              "      <td>0</td>\n",
              "      <td>0</td>\n",
              "      <td>0</td>\n",
              "      <td>0</td>\n",
              "      <td>0</td>\n",
              "      <td>0</td>\n",
              "      <td>0</td>\n",
              "      <td>2103-02-02</td>\n",
              "      <td>M</td>\n",
              "      <td>2103-02-02 04:31:00</td>\n",
              "    </tr>\n",
              "    <tr>\n",
              "      <th>4</th>\n",
              "      <td>6</td>\n",
              "      <td>107064</td>\n",
              "      <td>2175-05-30 07:15:00</td>\n",
              "      <td>NaN</td>\n",
              "      <td>ELECTIVE</td>\n",
              "      <td>PHYS REFERRAL/NORMAL DELI</td>\n",
              "      <td>HOME HEALTH CARE</td>\n",
              "      <td>Medicare</td>\n",
              "      <td>ENGL</td>\n",
              "      <td>NOT SPECIFIED</td>\n",
              "      <td>...</td>\n",
              "      <td>0</td>\n",
              "      <td>0</td>\n",
              "      <td>0</td>\n",
              "      <td>0</td>\n",
              "      <td>0</td>\n",
              "      <td>0</td>\n",
              "      <td>0</td>\n",
              "      <td>2109-06-21</td>\n",
              "      <td>F</td>\n",
              "      <td>2175-05-30 07:15:00</td>\n",
              "    </tr>\n",
              "  </tbody>\n",
              "</table>\n",
              "<p>5 rows × 35 columns</p>\n",
              "</div>"
            ],
            "text/plain": [
              "   SUBJECT_ID  HADM_ID           ADMITTIME DEATHTIME ADMISSION_TYPE  \\\n",
              "0           2   163353 2138-07-17 19:04:00       NaN        NEWBORN   \n",
              "1           3   145834 2101-10-20 19:08:00       NaN      EMERGENCY   \n",
              "2           4   185777 2191-03-16 00:28:00       NaN      EMERGENCY   \n",
              "3           5   178980 2103-02-02 04:31:00       NaN        NEWBORN   \n",
              "4           6   107064 2175-05-30 07:15:00       NaN       ELECTIVE   \n",
              "\n",
              "          ADMISSION_LOCATION         DISCHARGE_LOCATION INSURANCE LANGUAGE  \\\n",
              "0  PHYS REFERRAL/NORMAL DELI                       HOME   Private      NaN   \n",
              "1       EMERGENCY ROOM ADMIT                        SNF  Medicare      NaN   \n",
              "2       EMERGENCY ROOM ADMIT  HOME WITH HOME IV PROVIDR   Private      NaN   \n",
              "3  PHYS REFERRAL/NORMAL DELI                       HOME   Private      NaN   \n",
              "4  PHYS REFERRAL/NORMAL DELI           HOME HEALTH CARE  Medicare     ENGL   \n",
              "\n",
              "        RELIGION  ... muscular neoplasms nervous  pregnancy  prenatal  \\\n",
              "0  NOT SPECIFIED  ...        0         0       0          0         0   \n",
              "1      RELIGIOUS  ...        0         0       0          0         0   \n",
              "2      RELIGIOUS  ...        0         0       0          0         0   \n",
              "3      RELIGIOUS  ...        0         0       0          0         0   \n",
              "4  NOT SPECIFIED  ...        0         0       0          0         0   \n",
              "\n",
              "   respiratory  skin        DOB  GENDER           ADMIT_MIN  \n",
              "0            0     0 2138-07-17       M 2138-07-17 19:04:00  \n",
              "1            0     1 2025-04-11       M 2101-10-20 19:08:00  \n",
              "2            0     0 2143-05-12       F 2191-03-16 00:28:00  \n",
              "3            0     0 2103-02-02       M 2103-02-02 04:31:00  \n",
              "4            0     0 2109-06-21       F 2175-05-30 07:15:00  \n",
              "\n",
              "[5 rows x 35 columns]"
            ]
          },
          "execution_count": 71,
          "metadata": {},
          "output_type": "execute_result"
        }
      ],
      "source": [
        "# Verify merge\n",
        "df.head()"
      ]
    },
    {
      "cell_type": "code",
      "execution_count": 72,
      "metadata": {
        "colab": {
          "base_uri": "https://localhost:8080/"
        },
        "id": "MT51WUUVsgw0",
        "outputId": "839e6297-df3e-43a0-925f-f31f5bbcd828"
      },
      "outputs": [
        {
          "name": "stdout",
          "output_type": "stream",
          "text": [
            "   SUBJECT_ID  HADM_ID           ADMITTIME DEATHTIME ADMISSION_TYPE  \\\n",
            "0           2   163353 2138-07-17 19:04:00       NaN        NEWBORN   \n",
            "1           3   145834 2101-10-20 19:08:00       NaN      EMERGENCY   \n",
            "2           4   185777 2191-03-16 00:28:00       NaN      EMERGENCY   \n",
            "3           5   178980 2103-02-02 04:31:00       NaN        NEWBORN   \n",
            "4           6   107064 2175-05-30 07:15:00       NaN       ELECTIVE   \n",
            "\n",
            "          ADMISSION_LOCATION         DISCHARGE_LOCATION INSURANCE LANGUAGE  \\\n",
            "0  PHYS REFERRAL/NORMAL DELI                       HOME   Private      NaN   \n",
            "1       EMERGENCY ROOM ADMIT                        SNF  Medicare      NaN   \n",
            "2       EMERGENCY ROOM ADMIT  HOME WITH HOME IV PROVIDR   Private      NaN   \n",
            "3  PHYS REFERRAL/NORMAL DELI                       HOME   Private      NaN   \n",
            "4  PHYS REFERRAL/NORMAL DELI           HOME HEALTH CARE  Medicare     ENGL   \n",
            "\n",
            "        RELIGION  ... neoplasms nervous pregnancy  prenatal  respiratory  \\\n",
            "0  NOT SPECIFIED  ...         0       0         0         0            0   \n",
            "1      RELIGIOUS  ...         0       0         0         0            0   \n",
            "2      RELIGIOUS  ...         0       0         0         0            0   \n",
            "3      RELIGIOUS  ...         0       0         0         0            0   \n",
            "4  NOT SPECIFIED  ...         0       0         0         0            0   \n",
            "\n",
            "   skin         DOB  GENDER   ADMIT_MIN        age  \n",
            "0     0  2138-07-17       M  2138-07-17   0.000000  \n",
            "1     1  2025-04-11       M  2101-10-20  76.575342  \n",
            "2     0  2143-05-12       F  2191-03-16  47.876712  \n",
            "3     0  2103-02-02       M  2103-02-02   0.000000  \n",
            "4     0  2109-06-21       F  2175-05-30  65.983562  \n",
            "\n",
            "[5 rows x 36 columns]\n"
          ]
        }
      ],
      "source": [
        "df['ADMIT_MIN'] = pd.to_datetime(df['ADMIT_MIN']).dt.date\n",
        "df['DOB'] = pd.to_datetime(df['DOB']).dt.date\n",
        "df['age'] = df.apply(lambda e: (e['ADMIT_MIN'] - e['DOB']).days/365, axis=1)\n",
        "\n",
        "#df['ADMIT_MIN'] = pd.to_datetime(df['ADMIT_MIN'])\n",
        "#df['DOB'] = pd.to_datetime(df['DOB'])\n",
        "#df['age'] = (df['ADMIT_MIN'].sub(df['DOB'], axis=0))// np.timedelta64(1, 'Y')\n",
        "print(df.head())\n",
        "#df['age'].isnull().sum()"
      ]
    },
    {
      "cell_type": "code",
      "execution_count": 73,
      "metadata": {
        "colab": {
          "base_uri": "https://localhost:8080/",
          "height": 480
        },
        "id": "iyHsnnQgtChD",
        "outputId": "2f34b6f1-7c59-4027-8519-d1688231010e"
      },
      "outputs": [
        {
          "data": {
            "image/png": "[encoded data removed]",
            "text/plain": [
              "<Figure size 640x480 with 1 Axes>"
            ]
          },
          "metadata": {},
          "output_type": "display_data"
        }
      ],
      "source": [
        "# Note that no ‘middle’ patients show up - this reflects the fact that MIMIC-III does not contain data from pediatric patients.\n",
        "plt.hist(df['age'], bins=20, color='#c44e52')\n",
        "plt.ylabel('Count')\n",
        "plt.xlabel('Age (years)')\n",
        "plt.title('Distribution of Age in MIMIC-III')\n",
        "plt.tick_params(left=False, bottom=False, top=False, right=False)\n",
        "plt.show();"
      ]
    },
    {
      "cell_type": "code",
      "execution_count": 75,
      "metadata": {
        "colab": {
          "base_uri": "https://localhost:8080/",
          "height": 497
        },
        "id": "ltT-aNVdtT6b",
        "outputId": "01411f3c-f6f5-45b3-9c93-7409ac1769f5"
      },
      "outputs": [
        {
          "data": {
            "text/plain": [
              "(1.0, 50.0)"
            ]
          },
          "execution_count": 75,
          "metadata": {},
          "output_type": "execute_result"
        },
        {
          "data": {
            "image/png": "[encoded data removed]",
            "text/plain": [
              "<Figure size 640x480 with 1 Axes>"
            ]
          },
          "metadata": {},
          "output_type": "display_data"
        }
      ],
      "source": [
        "plt.scatter(df['age'], df['LOS'], alpha=0.005)\n",
        "#plt.yscale('sqrt')\n",
        "plt.ylabel('LOS (days)')\n",
        "plt.xlabel('Age (years)')\n",
        "plt.title('Age versus Length-of-stay')\n",
        "plt.ylim(1, 50)"
      ]
    },
    {
      "cell_type": "code",
      "execution_count": 76,
      "metadata": {
        "colab": {
          "base_uri": "https://localhost:8080/"
        },
        "id": "EMMxHHgKtYbj",
        "outputId": "b45f6513-023d-48af-c444-054c89c82b84"
      },
      "outputs": [
        {
          "data": {
            "text/plain": [
              "age\n",
              "senior          32091\n",
              "middle_adult    12077\n",
              "newborn          8101\n",
              "young_adult      3999\n",
              "300.2            2610\n",
              "Name: count, dtype: int64"
            ]
          },
          "execution_count": 76,
          "metadata": {},
          "output_type": "execute_result"
        }
      ],
      "source": [
        "# https://en.wikipedia.org/wiki/List_of_ICD-9_codes\n",
        "age_ranges = [(0, 13), (13, 36), (36, 56), (56, 100)]\n",
        "for num, cat_range in enumerate(age_ranges):\n",
        "    df['age'] = np.where(df['age'].between(cat_range[0],cat_range[1]),\n",
        "            num, df['age'])\n",
        "\n",
        "age_dict = {0: 'newborn', 1: 'young_adult', 2: 'middle_adult', 3: 'senior'}\n",
        "df['age'] = df['age'].replace(age_dict)\n",
        "df.age.value_counts()"
      ]
    },
    {
      "cell_type": "code",
      "execution_count": 77,
      "metadata": {
        "colab": {
          "base_uri": "https://localhost:8080/",
          "height": 401
        },
        "id": "thz45Tbhtcho",
        "outputId": "4e101d5c-316f-463b-b657-640e35341f25"
      },
      "outputs": [
        {
          "name": "stderr",
          "output_type": "stream",
          "text": [
            "C:\\Users\\SYYAD\\AppData\\Local\\Temp\\ipykernel_11596\\1364745201.py:36: MatplotlibDeprecationWarning: Passing the notch parameter of boxplot() positionally is deprecated since Matplotlib 3.9; the parameter will become keyword-only in 3.11.\n",
            "  ax.boxplot(hist_data, 0, '', vert=False)\n"
          ]
        },
        {
          "data": {
            "image/png": "[encoded data removed]",
            "text/plain": [
              "<Figure size 800x400 with 1 Axes>"
            ]
          },
          "metadata": {},
          "output_type": "display_data"
        },
        {
          "name": "stderr",
          "output_type": "stream",
          "text": [
            "C:\\Users\\SYYAD\\AppData\\Local\\Temp\\ipykernel_11596\\1687169820.py:2: FutureWarning: A value is trying to be set on a copy of a DataFrame or Series through chained assignment using an inplace method.\n",
            "The behavior will change in pandas 3.0. This inplace method will never work because the intermediate object on which we are setting values always behaves as a copy.\n",
            "\n",
            "For example, when doing 'df[col].method(value, inplace=True)', try using 'df.method({col: value}, inplace=True)' or df[col] = df[col].method(value) instead, to perform the operation inplace on the original object.\n",
            "\n",
            "\n",
            "  df['GENDER'].replace({'M': 0, 'F':1}, inplace=True)\n",
            "C:\\Users\\SYYAD\\AppData\\Local\\Temp\\ipykernel_11596\\1687169820.py:2: FutureWarning: Downcasting behavior in `replace` is deprecated and will be removed in a future version. To retain the old behavior, explicitly call `result.infer_objects(copy=False)`. To opt-in to the future behavior, set `pd.set_option('future.no_silent_downcasting', True)`\n",
            "  df['GENDER'].replace({'M': 0, 'F':1}, inplace=True)\n"
          ]
        }
      ],
      "source": [
        "boxplot_los_groupby('GENDER', los_range=(0, 30))\n",
        "df['GENDER'].replace({'M': 0, 'F':1}, inplace=True)"
      ]
    },
    {
      "cell_type": "markdown",
      "metadata": {
        "id": "D_PldmrkCJdx"
      },
      "source": [
        "**Feature Engineering: ICUSTAYS Table**"
      ]
    },
    {
      "cell_type": "code",
      "execution_count": 79,
      "metadata": {
        "id": "saNkdWh8O9fU"
      },
      "outputs": [],
      "source": [
        "df_icu = pd.read_csv(base_path + \"ICUSTAYS.csv\", low_memory=False)  "
      ]
    },
    {
      "cell_type": "code",
      "execution_count": 80,
      "metadata": {
        "colab": {
          "base_uri": "https://localhost:8080/"
        },
        "id": "Ghps3jKBt7b0",
        "outputId": "f79ee598-d9e7-4057-8a77-0268657a6bb3"
      },
      "outputs": [
        {
          "name": "stdout",
          "output_type": "stream",
          "text": [
            "<class 'pandas.core.frame.DataFrame'>\n",
            "RangeIndex: 61532 entries, 0 to 61531\n",
            "Data columns (total 12 columns):\n",
            " #   Column          Non-Null Count  Dtype  \n",
            "---  ------          --------------  -----  \n",
            " 0   ROW_ID          61532 non-null  int64  \n",
            " 1   SUBJECT_ID      61532 non-null  int64  \n",
            " 2   HADM_ID         61532 non-null  int64  \n",
            " 3   ICUSTAY_ID      61532 non-null  int64  \n",
            " 4   DBSOURCE        61532 non-null  object \n",
            " 5   FIRST_CAREUNIT  61532 non-null  object \n",
            " 6   LAST_CAREUNIT   61532 non-null  object \n",
            " 7   FIRST_WARDID    61532 non-null  int64  \n",
            " 8   LAST_WARDID     61532 non-null  int64  \n",
            " 9   INTIME          61532 non-null  object \n",
            " 10  OUTTIME         61522 non-null  object \n",
            " 11  LOS             61522 non-null  float64\n",
            "dtypes: float64(1), int64(6), object(5)\n",
            "memory usage: 5.6+ MB\n"
          ]
        }
      ],
      "source": [
        "# Intensive Care Unit (ICU) for each admission to hospital\n",
        "df_icu.info()"
      ]
    },
    {
      "cell_type": "code",
      "execution_count": 81,
      "metadata": {
        "colab": {
          "base_uri": "https://localhost:8080/"
        },
        "id": "MmXbpeRft-cN",
        "outputId": "af1dc476-b95a-4898-cc44-64cd3cf0c470"
      },
      "outputs": [
        {
          "data": {
            "text/plain": [
              "57786"
            ]
          },
          "execution_count": 81,
          "metadata": {},
          "output_type": "execute_result"
        }
      ],
      "source": [
        "df_icu['HADM_ID'].nunique()"
      ]
    },
    {
      "cell_type": "code",
      "execution_count": 83,
      "metadata": {
        "colab": {
          "base_uri": "https://localhost:8080/",
          "height": 324
        },
        "id": "EfNGqfm0uQWE",
        "outputId": "66c48cad-9bce-4774-b232-aaab3a01684e"
      },
      "outputs": [
        {
          "data": {
            "text/html": [
              "<div>\n",
              "<style scoped>\n",
              "    .dataframe tbody tr th:only-of-type {\n",
              "        vertical-align: middle;\n",
              "    }\n",
              "\n",
              "    .dataframe tbody tr th {\n",
              "        vertical-align: top;\n",
              "    }\n",
              "\n",
              "    .dataframe thead th {\n",
              "        text-align: right;\n",
              "    }\n",
              "</style>\n",
              "<table border=\"1\" class=\"dataframe\">\n",
              "  <thead>\n",
              "    <tr style=\"text-align: right;\">\n",
              "      <th></th>\n",
              "      <th>ROW_ID</th>\n",
              "      <th>SUBJECT_ID</th>\n",
              "      <th>HADM_ID</th>\n",
              "      <th>ICUSTAY_ID</th>\n",
              "      <th>FIRST_WARDID</th>\n",
              "      <th>LAST_WARDID</th>\n",
              "      <th>LOS</th>\n",
              "    </tr>\n",
              "    <tr>\n",
              "      <th>FIRST_CAREUNIT</th>\n",
              "      <th></th>\n",
              "      <th></th>\n",
              "      <th></th>\n",
              "      <th></th>\n",
              "      <th></th>\n",
              "      <th></th>\n",
              "      <th></th>\n",
              "    </tr>\n",
              "  </thead>\n",
              "  <tbody>\n",
              "    <tr>\n",
              "      <th>CCU</th>\n",
              "      <td>29091.5</td>\n",
              "      <td>22964.5</td>\n",
              "      <td>150074.5</td>\n",
              "      <td>249373.5</td>\n",
              "      <td>7.0</td>\n",
              "      <td>7.0</td>\n",
              "      <td>2.19775</td>\n",
              "    </tr>\n",
              "    <tr>\n",
              "      <th>CSRU</th>\n",
              "      <td>31002.5</td>\n",
              "      <td>24488.0</td>\n",
              "      <td>150225.0</td>\n",
              "      <td>250492.0</td>\n",
              "      <td>14.0</td>\n",
              "      <td>14.0</td>\n",
              "      <td>2.15290</td>\n",
              "    </tr>\n",
              "    <tr>\n",
              "      <th>MICU</th>\n",
              "      <td>33612.5</td>\n",
              "      <td>26489.5</td>\n",
              "      <td>150368.0</td>\n",
              "      <td>250524.0</td>\n",
              "      <td>50.0</td>\n",
              "      <td>50.0</td>\n",
              "      <td>2.09550</td>\n",
              "    </tr>\n",
              "    <tr>\n",
              "      <th>NICU</th>\n",
              "      <td>19581.5</td>\n",
              "      <td>15456.5</td>\n",
              "      <td>149206.5</td>\n",
              "      <td>249308.0</td>\n",
              "      <td>56.0</td>\n",
              "      <td>56.0</td>\n",
              "      <td>0.80250</td>\n",
              "    </tr>\n",
              "    <tr>\n",
              "      <th>SICU</th>\n",
              "      <td>38089.0</td>\n",
              "      <td>30084.0</td>\n",
              "      <td>149744.0</td>\n",
              "      <td>248649.0</td>\n",
              "      <td>33.0</td>\n",
              "      <td>33.0</td>\n",
              "      <td>2.25220</td>\n",
              "    </tr>\n",
              "    <tr>\n",
              "      <th>TSICU</th>\n",
              "      <td>36382.0</td>\n",
              "      <td>28716.0</td>\n",
              "      <td>148915.0</td>\n",
              "      <td>250685.0</td>\n",
              "      <td>14.0</td>\n",
              "      <td>14.0</td>\n",
              "      <td>2.11150</td>\n",
              "    </tr>\n",
              "  </tbody>\n",
              "</table>\n",
              "</div>"
            ],
            "text/plain": [
              "                 ROW_ID  SUBJECT_ID   HADM_ID  ICUSTAY_ID  FIRST_WARDID  \\\n",
              "FIRST_CAREUNIT                                                            \n",
              "CCU             29091.5     22964.5  150074.5    249373.5           7.0   \n",
              "CSRU            31002.5     24488.0  150225.0    250492.0          14.0   \n",
              "MICU            33612.5     26489.5  150368.0    250524.0          50.0   \n",
              "NICU            19581.5     15456.5  149206.5    249308.0          56.0   \n",
              "SICU            38089.0     30084.0  149744.0    248649.0          33.0   \n",
              "TSICU           36382.0     28716.0  148915.0    250685.0          14.0   \n",
              "\n",
              "                LAST_WARDID      LOS  \n",
              "FIRST_CAREUNIT                        \n",
              "CCU                     7.0  2.19775  \n",
              "CSRU                   14.0  2.15290  \n",
              "MICU                   50.0  2.09550  \n",
              "NICU                   56.0  0.80250  \n",
              "SICU                   33.0  2.25220  \n",
              "TSICU                  14.0  2.11150  "
            ]
          },
          "execution_count": 83,
          "metadata": {},
          "output_type": "execute_result"
        }
      ],
      "source": [
        "df_icu.groupby('FIRST_CAREUNIT').median(numeric_only=True)"
      ]
    },
    {
      "cell_type": "code",
      "execution_count": 84,
      "metadata": {
        "id": "XTBhxq2SuaTW"
      },
      "outputs": [],
      "source": [
        "# Based on above statistics, reduce to just ICU and NICU groups\n",
        "df_icu['FIRST_CAREUNIT'].replace({'CCU': 'ICU', 'CSRU': 'ICU', 'MICU': 'ICU',\n",
        "                                  'SICU': 'ICU', 'TSICU': 'ICU'}, inplace=True)"
      ]
    },
    {
      "cell_type": "code",
      "execution_count": 85,
      "metadata": {
        "colab": {
          "base_uri": "https://localhost:8080/",
          "height": 206
        },
        "id": "QZaf-4gbudbi",
        "outputId": "aec5121b-2c79-42f8-c384-4e1e5b0f854e"
      },
      "outputs": [
        {
          "data": {
            "text/html": [
              "<div>\n",
              "<style scoped>\n",
              "    .dataframe tbody tr th:only-of-type {\n",
              "        vertical-align: middle;\n",
              "    }\n",
              "\n",
              "    .dataframe tbody tr th {\n",
              "        vertical-align: top;\n",
              "    }\n",
              "\n",
              "    .dataframe thead th {\n",
              "        text-align: right;\n",
              "    }\n",
              "</style>\n",
              "<table border=\"1\" class=\"dataframe\">\n",
              "  <thead>\n",
              "    <tr style=\"text-align: right;\">\n",
              "      <th></th>\n",
              "      <th>HADM_ID</th>\n",
              "      <th>cat</th>\n",
              "    </tr>\n",
              "  </thead>\n",
              "  <tbody>\n",
              "    <tr>\n",
              "      <th>0</th>\n",
              "      <td>100001</td>\n",
              "      <td>[ICU]</td>\n",
              "    </tr>\n",
              "    <tr>\n",
              "      <th>1</th>\n",
              "      <td>100003</td>\n",
              "      <td>[ICU]</td>\n",
              "    </tr>\n",
              "    <tr>\n",
              "      <th>2</th>\n",
              "      <td>100006</td>\n",
              "      <td>[ICU]</td>\n",
              "    </tr>\n",
              "    <tr>\n",
              "      <th>3</th>\n",
              "      <td>100007</td>\n",
              "      <td>[ICU]</td>\n",
              "    </tr>\n",
              "    <tr>\n",
              "      <th>4</th>\n",
              "      <td>100009</td>\n",
              "      <td>[ICU]</td>\n",
              "    </tr>\n",
              "  </tbody>\n",
              "</table>\n",
              "</div>"
            ],
            "text/plain": [
              "   HADM_ID    cat\n",
              "0   100001  [ICU]\n",
              "1   100003  [ICU]\n",
              "2   100006  [ICU]\n",
              "3   100007  [ICU]\n",
              "4   100009  [ICU]"
            ]
          },
          "execution_count": 85,
          "metadata": {},
          "output_type": "execute_result"
        }
      ],
      "source": [
        "df_icu['cat'] = df_icu['FIRST_CAREUNIT']\n",
        "icu_list = df_icu.groupby('HADM_ID')['cat'].apply(list).reset_index()\n",
        "icu_list.head()"
      ]
    },
    {
      "cell_type": "code",
      "execution_count": 86,
      "metadata": {
        "colab": {
          "base_uri": "https://localhost:8080/"
        },
        "id": "nWiZ5Z9cumzf",
        "outputId": "13fa2eba-7a64-43d6-b4c8-e8e092bc8140"
      },
      "outputs": [
        {
          "data": {
            "text/plain": [
              "FIRST_CAREUNIT\n",
              "ICU     53432\n",
              "NICU     8100\n",
              "Name: count, dtype: int64"
            ]
          },
          "execution_count": 86,
          "metadata": {},
          "output_type": "execute_result"
        }
      ],
      "source": [
        "df_icu['FIRST_CAREUNIT'].value_counts()"
      ]
    },
    {
      "cell_type": "code",
      "execution_count": 88,
      "metadata": {
        "colab": {
          "base_uri": "https://localhost:8080/",
          "height": 261
        },
        "id": "d0dPa8a2uqfe",
        "outputId": "2db1dd3a-842f-4bd9-c7b2-8483a7f5e636"
      },
      "outputs": [
        {
          "data": {
            "text/html": [
              "<div>\n",
              "<style scoped>\n",
              "    .dataframe tbody tr th:only-of-type {\n",
              "        vertical-align: middle;\n",
              "    }\n",
              "\n",
              "    .dataframe tbody tr th {\n",
              "        vertical-align: top;\n",
              "    }\n",
              "\n",
              "    .dataframe thead th {\n",
              "        text-align: right;\n",
              "    }\n",
              "</style>\n",
              "<table border=\"1\" class=\"dataframe\">\n",
              "  <thead>\n",
              "    <tr style=\"text-align: right;\">\n",
              "      <th></th>\n",
              "      <th>ICU</th>\n",
              "      <th>NICU</th>\n",
              "      <th>HADM_ID</th>\n",
              "    </tr>\n",
              "  </thead>\n",
              "  <tbody>\n",
              "    <tr>\n",
              "      <th>0</th>\n",
              "      <td>1</td>\n",
              "      <td>0</td>\n",
              "      <td>100001</td>\n",
              "    </tr>\n",
              "    <tr>\n",
              "      <th>1</th>\n",
              "      <td>1</td>\n",
              "      <td>0</td>\n",
              "      <td>100003</td>\n",
              "    </tr>\n",
              "    <tr>\n",
              "      <th>2</th>\n",
              "      <td>1</td>\n",
              "      <td>0</td>\n",
              "      <td>100006</td>\n",
              "    </tr>\n",
              "    <tr>\n",
              "      <th>3</th>\n",
              "      <td>1</td>\n",
              "      <td>0</td>\n",
              "      <td>100007</td>\n",
              "    </tr>\n",
              "    <tr>\n",
              "      <th>4</th>\n",
              "      <td>1</td>\n",
              "      <td>0</td>\n",
              "      <td>100009</td>\n",
              "    </tr>\n",
              "  </tbody>\n",
              "</table>\n",
              "</div>"
            ],
            "text/plain": [
              "   ICU  NICU  HADM_ID\n",
              "0    1     0   100001\n",
              "1    1     0   100003\n",
              "2    1     0   100006\n",
              "3    1     0   100007\n",
              "4    1     0   100009"
            ]
          },
          "execution_count": 88,
          "metadata": {},
          "output_type": "execute_result"
        }
      ],
      "source": [
        "# Create admission-ICU matrix\n",
        "icu_item = pd.get_dummies(icu_list['cat'].apply(pd.Series).stack()).groupby(level=0).sum()\n",
        "icu_item[icu_item >= 1] = 1\n",
        "icu_item = icu_item.join(icu_list['HADM_ID'], how=\"outer\")\n",
        "icu_item.head()"
      ]
    },
    {
      "cell_type": "code",
      "execution_count": 89,
      "metadata": {
        "colab": {
          "base_uri": "https://localhost:8080/"
        },
        "id": "uQd1vBctuxYl",
        "outputId": "34881e29-ca81-4a54-85fa-e8dbd143c492"
      },
      "outputs": [
        {
          "name": "stdout",
          "output_type": "stream",
          "text": [
            "Number of admissions to ICU 49794.\n",
            "Number of admissions to NICU 7992.\n"
          ]
        }
      ],
      "source": [
        "\n",
        "print(\"Number of admissions to ICU {}.\".format(icu_item.ICU.sum()))\n",
        "print(\"Number of admissions to NICU {}.\".format(icu_item.NICU.sum()))"
      ]
    },
    {
      "cell_type": "markdown",
      "metadata": {
        "id": "m5tw80YiWGqW"
      },
      "source": []
    },
    {
      "cell_type": "code",
      "execution_count": 90,
      "metadata": {
        "id": "4URFYo30u06A"
      },
      "outputs": [],
      "source": [
        "# Merge ICU data with main dataFrame\n",
        "df = df.merge(icu_item, how='outer', on='HADM_ID')"
      ]
    },
    {
      "cell_type": "code",
      "execution_count": 91,
      "metadata": {
        "colab": {
          "base_uri": "https://localhost:8080/",
          "height": 429
        },
        "id": "OVY0aha6HHNU",
        "outputId": "31302e23-29da-4ad5-b54c-9a7bdf5f4aea"
      },
      "outputs": [
        {
          "data": {
            "text/html": [
              "<div>\n",
              "<style scoped>\n",
              "    .dataframe tbody tr th:only-of-type {\n",
              "        vertical-align: middle;\n",
              "    }\n",
              "\n",
              "    .dataframe tbody tr th {\n",
              "        vertical-align: top;\n",
              "    }\n",
              "\n",
              "    .dataframe thead th {\n",
              "        text-align: right;\n",
              "    }\n",
              "</style>\n",
              "<table border=\"1\" class=\"dataframe\">\n",
              "  <thead>\n",
              "    <tr style=\"text-align: right;\">\n",
              "      <th></th>\n",
              "      <th>SUBJECT_ID</th>\n",
              "      <th>HADM_ID</th>\n",
              "      <th>ADMITTIME</th>\n",
              "      <th>DEATHTIME</th>\n",
              "      <th>ADMISSION_TYPE</th>\n",
              "      <th>ADMISSION_LOCATION</th>\n",
              "      <th>DISCHARGE_LOCATION</th>\n",
              "      <th>INSURANCE</th>\n",
              "      <th>LANGUAGE</th>\n",
              "      <th>RELIGION</th>\n",
              "      <th>...</th>\n",
              "      <th>pregnancy</th>\n",
              "      <th>prenatal</th>\n",
              "      <th>respiratory</th>\n",
              "      <th>skin</th>\n",
              "      <th>DOB</th>\n",
              "      <th>GENDER</th>\n",
              "      <th>ADMIT_MIN</th>\n",
              "      <th>age</th>\n",
              "      <th>ICU</th>\n",
              "      <th>NICU</th>\n",
              "    </tr>\n",
              "  </thead>\n",
              "  <tbody>\n",
              "    <tr>\n",
              "      <th>0</th>\n",
              "      <td>58526.0</td>\n",
              "      <td>100001</td>\n",
              "      <td>2117-09-11 11:46:00</td>\n",
              "      <td>NaN</td>\n",
              "      <td>EMERGENCY</td>\n",
              "      <td>CLINIC REFERRAL/PREMATURE</td>\n",
              "      <td>HOME</td>\n",
              "      <td>Private</td>\n",
              "      <td>ENGL</td>\n",
              "      <td>RELIGIOUS</td>\n",
              "      <td>...</td>\n",
              "      <td>0.0</td>\n",
              "      <td>0.0</td>\n",
              "      <td>0.0</td>\n",
              "      <td>1.0</td>\n",
              "      <td>2082-03-21</td>\n",
              "      <td>1.0</td>\n",
              "      <td>2117-09-11</td>\n",
              "      <td>young_adult</td>\n",
              "      <td>1.0</td>\n",
              "      <td>0.0</td>\n",
              "    </tr>\n",
              "    <tr>\n",
              "      <th>1</th>\n",
              "      <td>54610.0</td>\n",
              "      <td>100003</td>\n",
              "      <td>2150-04-17 15:34:00</td>\n",
              "      <td>NaN</td>\n",
              "      <td>EMERGENCY</td>\n",
              "      <td>EMERGENCY ROOM ADMIT</td>\n",
              "      <td>HOME</td>\n",
              "      <td>Private</td>\n",
              "      <td>ENGL</td>\n",
              "      <td>NOT SPECIFIED</td>\n",
              "      <td>...</td>\n",
              "      <td>0.0</td>\n",
              "      <td>0.0</td>\n",
              "      <td>0.0</td>\n",
              "      <td>0.0</td>\n",
              "      <td>2090-05-19</td>\n",
              "      <td>0.0</td>\n",
              "      <td>2150-04-17</td>\n",
              "      <td>senior</td>\n",
              "      <td>1.0</td>\n",
              "      <td>0.0</td>\n",
              "    </tr>\n",
              "    <tr>\n",
              "      <th>2</th>\n",
              "      <td>9895.0</td>\n",
              "      <td>100006</td>\n",
              "      <td>2108-04-06 15:49:00</td>\n",
              "      <td>NaN</td>\n",
              "      <td>EMERGENCY</td>\n",
              "      <td>EMERGENCY ROOM ADMIT</td>\n",
              "      <td>HOME</td>\n",
              "      <td>Private</td>\n",
              "      <td>NaN</td>\n",
              "      <td>NOT SPECIFIED</td>\n",
              "      <td>...</td>\n",
              "      <td>0.0</td>\n",
              "      <td>0.0</td>\n",
              "      <td>3.0</td>\n",
              "      <td>0.0</td>\n",
              "      <td>2059-05-07</td>\n",
              "      <td>1.0</td>\n",
              "      <td>2108-04-06</td>\n",
              "      <td>middle_adult</td>\n",
              "      <td>1.0</td>\n",
              "      <td>0.0</td>\n",
              "    </tr>\n",
              "    <tr>\n",
              "      <th>3</th>\n",
              "      <td>23018.0</td>\n",
              "      <td>100007</td>\n",
              "      <td>2145-03-31 05:33:00</td>\n",
              "      <td>NaN</td>\n",
              "      <td>EMERGENCY</td>\n",
              "      <td>EMERGENCY ROOM ADMIT</td>\n",
              "      <td>HOME</td>\n",
              "      <td>Private</td>\n",
              "      <td>NaN</td>\n",
              "      <td>RELIGIOUS</td>\n",
              "      <td>...</td>\n",
              "      <td>0.0</td>\n",
              "      <td>0.0</td>\n",
              "      <td>1.0</td>\n",
              "      <td>0.0</td>\n",
              "      <td>2071-06-04</td>\n",
              "      <td>1.0</td>\n",
              "      <td>2145-03-31</td>\n",
              "      <td>senior</td>\n",
              "      <td>1.0</td>\n",
              "      <td>0.0</td>\n",
              "    </tr>\n",
              "    <tr>\n",
              "      <th>4</th>\n",
              "      <td>533.0</td>\n",
              "      <td>100009</td>\n",
              "      <td>2162-05-16 15:56:00</td>\n",
              "      <td>NaN</td>\n",
              "      <td>EMERGENCY</td>\n",
              "      <td>TRANSFER FROM HOSP/EXTRAM</td>\n",
              "      <td>HOME HEALTH CARE</td>\n",
              "      <td>Private</td>\n",
              "      <td>NaN</td>\n",
              "      <td>RELIGIOUS</td>\n",
              "      <td>...</td>\n",
              "      <td>0.0</td>\n",
              "      <td>0.0</td>\n",
              "      <td>0.0</td>\n",
              "      <td>0.0</td>\n",
              "      <td>2101-07-30</td>\n",
              "      <td>0.0</td>\n",
              "      <td>2162-05-16</td>\n",
              "      <td>senior</td>\n",
              "      <td>1.0</td>\n",
              "      <td>0.0</td>\n",
              "    </tr>\n",
              "  </tbody>\n",
              "</table>\n",
              "<p>5 rows × 38 columns</p>\n",
              "</div>"
            ],
            "text/plain": [
              "   SUBJECT_ID  HADM_ID           ADMITTIME DEATHTIME ADMISSION_TYPE  \\\n",
              "0     58526.0   100001 2117-09-11 11:46:00       NaN      EMERGENCY   \n",
              "1     54610.0   100003 2150-04-17 15:34:00       NaN      EMERGENCY   \n",
              "2      9895.0   100006 2108-04-06 15:49:00       NaN      EMERGENCY   \n",
              "3     23018.0   100007 2145-03-31 05:33:00       NaN      EMERGENCY   \n",
              "4       533.0   100009 2162-05-16 15:56:00       NaN      EMERGENCY   \n",
              "\n",
              "          ADMISSION_LOCATION DISCHARGE_LOCATION INSURANCE LANGUAGE  \\\n",
              "0  CLINIC REFERRAL/PREMATURE               HOME   Private     ENGL   \n",
              "1       EMERGENCY ROOM ADMIT               HOME   Private     ENGL   \n",
              "2       EMERGENCY ROOM ADMIT               HOME   Private      NaN   \n",
              "3       EMERGENCY ROOM ADMIT               HOME   Private      NaN   \n",
              "4  TRANSFER FROM HOSP/EXTRAM   HOME HEALTH CARE   Private      NaN   \n",
              "\n",
              "        RELIGION  ... pregnancy prenatal respiratory  skin         DOB  \\\n",
              "0      RELIGIOUS  ...       0.0      0.0         0.0   1.0  2082-03-21   \n",
              "1  NOT SPECIFIED  ...       0.0      0.0         0.0   0.0  2090-05-19   \n",
              "2  NOT SPECIFIED  ...       0.0      0.0         3.0   0.0  2059-05-07   \n",
              "3      RELIGIOUS  ...       0.0      0.0         1.0   0.0  2071-06-04   \n",
              "4      RELIGIOUS  ...       0.0      0.0         0.0   0.0  2101-07-30   \n",
              "\n",
              "   GENDER   ADMIT_MIN           age  ICU  NICU  \n",
              "0     1.0  2117-09-11   young_adult  1.0   0.0  \n",
              "1     0.0  2150-04-17        senior  1.0   0.0  \n",
              "2     1.0  2108-04-06  middle_adult  1.0   0.0  \n",
              "3     1.0  2145-03-31        senior  1.0   0.0  \n",
              "4     0.0  2162-05-16        senior  1.0   0.0  \n",
              "\n",
              "[5 rows x 38 columns]"
            ]
          },
          "execution_count": 91,
          "metadata": {},
          "output_type": "execute_result"
        }
      ],
      "source": [
        "df.head()"
      ]
    },
    {
      "cell_type": "code",
      "execution_count": 92,
      "metadata": {
        "id": "3kcDCXTLu6P2"
      },
      "outputs": [
        {
          "name": "stderr",
          "output_type": "stream",
          "text": [
            "C:\\Users\\SYYAD\\AppData\\Local\\Temp\\ipykernel_11596\\1541659716.py:2: FutureWarning: A value is trying to be set on a copy of a DataFrame or Series through chained assignment using an inplace method.\n",
            "The behavior will change in pandas 3.0. This inplace method will never work because the intermediate object on which we are setting values always behaves as a copy.\n",
            "\n",
            "For example, when doing 'df[col].method(value, inplace=True)', try using 'df.method({col: value}, inplace=True)' or df[col] = df[col].method(value) instead, to perform the operation inplace on the original object.\n",
            "\n",
            "\n",
            "  df['ICU'].fillna(value=0, inplace=True)\n",
            "C:\\Users\\SYYAD\\AppData\\Local\\Temp\\ipykernel_11596\\1541659716.py:3: FutureWarning: A value is trying to be set on a copy of a DataFrame or Series through chained assignment using an inplace method.\n",
            "The behavior will change in pandas 3.0. This inplace method will never work because the intermediate object on which we are setting values always behaves as a copy.\n",
            "\n",
            "For example, when doing 'df[col].method(value, inplace=True)', try using 'df.method({col: value}, inplace=True)' or df[col] = df[col].method(value) instead, to perform the operation inplace on the original object.\n",
            "\n",
            "\n",
            "  df['NICU'].fillna(value=0, inplace=True)\n"
          ]
        }
      ],
      "source": [
        "# Replace NaNs with 0\n",
        "df['ICU'].fillna(value=0, inplace=True)\n",
        "df['NICU'].fillna(value=0, inplace=True)"
      ]
    },
    {
      "cell_type": "code",
      "execution_count": 93,
      "metadata": {
        "colab": {
          "base_uri": "https://localhost:8080/"
        },
        "id": "2ZNbN9Ehu7hJ",
        "outputId": "8bbff24b-156a-46e9-aec7-50d59ca51213"
      },
      "outputs": [
        {
          "name": "stdout",
          "output_type": "stream",
          "text": [
            "ICU\n",
            "1.0    49794\n",
            "0.0     9168\n",
            "Name: count, dtype: int64\n",
            "NICU\n",
            "0.0    50970\n",
            "1.0     7992\n",
            "Name: count, dtype: int64\n"
          ]
        }
      ],
      "source": [
        "\n",
        "# Verify NaN fix\n",
        "print(df.ICU.value_counts(dropna=False))\n",
        "print(df.NICU.value_counts(dropna=False))"
      ]
    },
    {
      "cell_type": "markdown",
      "metadata": {
        "id": "JBG9lGrWCWCC"
      },
      "source": [
        "**Data Cleaning and Data Splitting**"
      ]
    },
    {
      "cell_type": "code",
      "execution_count": 94,
      "metadata": {
        "colab": {
          "base_uri": "https://localhost:8080/"
        },
        "id": "gVROgxJEvJF2",
        "outputId": "b8ad6115-e56e-40b8-84bf-a36ed12b3cb0"
      },
      "outputs": [
        {
          "name": "stdout",
          "output_type": "stream",
          "text": [
            "<class 'pandas.core.frame.DataFrame'>\n",
            "RangeIndex: 58962 entries, 0 to 58961\n",
            "Data columns (total 38 columns):\n",
            " #   Column              Non-Null Count  Dtype         \n",
            "---  ------              --------------  -----         \n",
            " 0   SUBJECT_ID          58878 non-null  float64       \n",
            " 1   HADM_ID             58962 non-null  int64         \n",
            " 2   ADMITTIME           58878 non-null  datetime64[ns]\n",
            " 3   DEATHTIME           5774 non-null   object        \n",
            " 4   ADMISSION_TYPE      58878 non-null  object        \n",
            " 5   ADMISSION_LOCATION  58878 non-null  object        \n",
            " 6   DISCHARGE_LOCATION  58878 non-null  object        \n",
            " 7   INSURANCE           58878 non-null  object        \n",
            " 8   LANGUAGE            33606 non-null  object        \n",
            " 9   RELIGION            58878 non-null  object        \n",
            " 10  MARITAL_STATUS      58878 non-null  object        \n",
            " 11  ETHNICITY           58878 non-null  object        \n",
            " 12  DIAGNOSIS           58853 non-null  object        \n",
            " 13  LOS                 58878 non-null  float64       \n",
            " 14  DECEASED            58878 non-null  float64       \n",
            " 15  blood               58878 non-null  float64       \n",
            " 16  circulatory         58878 non-null  float64       \n",
            " 17  congenital          58878 non-null  float64       \n",
            " 18  digestive           58878 non-null  float64       \n",
            " 19  endocrine           58878 non-null  float64       \n",
            " 20  genitourinary       58878 non-null  float64       \n",
            " 21  infectious          58878 non-null  float64       \n",
            " 22  injury              58878 non-null  float64       \n",
            " 23  mental              58878 non-null  float64       \n",
            " 24  misc                58878 non-null  float64       \n",
            " 25  muscular            58878 non-null  float64       \n",
            " 26  neoplasms           58878 non-null  float64       \n",
            " 27  nervous             58878 non-null  float64       \n",
            " 28  pregnancy           58878 non-null  float64       \n",
            " 29  prenatal            58878 non-null  float64       \n",
            " 30  respiratory         58878 non-null  float64       \n",
            " 31  skin                58878 non-null  float64       \n",
            " 32  DOB                 58878 non-null  object        \n",
            " 33  GENDER              58878 non-null  float64       \n",
            " 34  ADMIT_MIN           58878 non-null  object        \n",
            " 35  age                 58878 non-null  object        \n",
            " 36  ICU                 58962 non-null  float64       \n",
            " 37  NICU                58962 non-null  float64       \n",
            "dtypes: datetime64[ns](1), float64(23), int64(1), object(13)\n",
            "memory usage: 17.1+ MB\n"
          ]
        }
      ],
      "source": [
        "# Look at what is no longer needed in the DataFrame\n",
        "df.info()"
      ]
    },
    {
      "cell_type": "code",
      "execution_count": 95,
      "metadata": {
        "id": "E00ATu3SvP6F"
      },
      "outputs": [],
      "source": [
        "# Remove deceased persons as they will skew LOS result\n",
        "df = df[df['DECEASED'] == 0]\n",
        "\n",
        "# Remove LOS with negative number, likely entry form error\n",
        "df = df[df['LOS'] > 0]"
      ]
    },
    {
      "cell_type": "code",
      "execution_count": 96,
      "metadata": {
        "colab": {
          "base_uri": "https://localhost:8080/"
        },
        "id": "ZNWkFgGVvVo1",
        "outputId": "7e0a4017-610a-4e0b-a226-826ca3fda3f0"
      },
      "outputs": [
        {
          "name": "stdout",
          "output_type": "stream",
          "text": [
            "<class 'pandas.core.frame.DataFrame'>\n",
            "Index: 53104 entries, 0 to 58961\n",
            "Data columns (total 27 columns):\n",
            " #   Column          Non-Null Count  Dtype  \n",
            "---  ------          --------------  -----  \n",
            " 0   ADMISSION_TYPE  53104 non-null  object \n",
            " 1   INSURANCE       53104 non-null  object \n",
            " 2   RELIGION        53104 non-null  object \n",
            " 3   MARITAL_STATUS  53104 non-null  object \n",
            " 4   ETHNICITY       53104 non-null  object \n",
            " 5   LOS             53104 non-null  float64\n",
            " 6   blood           53104 non-null  float64\n",
            " 7   circulatory     53104 non-null  float64\n",
            " 8   congenital      53104 non-null  float64\n",
            " 9   digestive       53104 non-null  float64\n",
            " 10  endocrine       53104 non-null  float64\n",
            " 11  genitourinary   53104 non-null  float64\n",
            " 12  infectious      53104 non-null  float64\n",
            " 13  injury          53104 non-null  float64\n",
            " 14  mental          53104 non-null  float64\n",
            " 15  misc            53104 non-null  float64\n",
            " 16  muscular        53104 non-null  float64\n",
            " 17  neoplasms       53104 non-null  float64\n",
            " 18  nervous         53104 non-null  float64\n",
            " 19  pregnancy       53104 non-null  float64\n",
            " 20  prenatal        53104 non-null  float64\n",
            " 21  respiratory     53104 non-null  float64\n",
            " 22  skin            53104 non-null  float64\n",
            " 23  GENDER          53104 non-null  float64\n",
            " 24  age             53104 non-null  object \n",
            " 25  ICU             53104 non-null  float64\n",
            " 26  NICU            53104 non-null  float64\n",
            "dtypes: float64(21), object(6)\n",
            "memory usage: 11.3+ MB\n"
          ]
        }
      ],
      "source": [
        "# Drop unused or no longer needed columns\n",
        "df.drop(columns=['SUBJECT_ID', 'HADM_ID', 'ADMITTIME', 'ADMISSION_LOCATION',\n",
        "                'DISCHARGE_LOCATION', 'LANGUAGE', 'ADMIT_MIN', 'DOB',\n",
        "                'DIAGNOSIS', 'DECEASED',  'DEATHTIME'], inplace=True)\n",
        "\n",
        "df.info()"
      ]
    },
    {
      "cell_type": "code",
      "execution_count": 97,
      "metadata": {
        "colab": {
          "base_uri": "https://localhost:8080/",
          "height": 256
        },
        "id": "hohdNa5jQni7",
        "outputId": "b35282a9-9f73-47b7-deb1-679cced894ee"
      },
      "outputs": [
        {
          "data": {
            "text/html": [
              "<div>\n",
              "<style scoped>\n",
              "    .dataframe tbody tr th:only-of-type {\n",
              "        vertical-align: middle;\n",
              "    }\n",
              "\n",
              "    .dataframe tbody tr th {\n",
              "        vertical-align: top;\n",
              "    }\n",
              "\n",
              "    .dataframe thead th {\n",
              "        text-align: right;\n",
              "    }\n",
              "</style>\n",
              "<table border=\"1\" class=\"dataframe\">\n",
              "  <thead>\n",
              "    <tr style=\"text-align: right;\">\n",
              "      <th></th>\n",
              "      <th>ADMISSION_TYPE</th>\n",
              "      <th>INSURANCE</th>\n",
              "      <th>RELIGION</th>\n",
              "      <th>MARITAL_STATUS</th>\n",
              "      <th>ETHNICITY</th>\n",
              "      <th>LOS</th>\n",
              "      <th>blood</th>\n",
              "      <th>circulatory</th>\n",
              "      <th>congenital</th>\n",
              "      <th>digestive</th>\n",
              "      <th>...</th>\n",
              "      <th>neoplasms</th>\n",
              "      <th>nervous</th>\n",
              "      <th>pregnancy</th>\n",
              "      <th>prenatal</th>\n",
              "      <th>respiratory</th>\n",
              "      <th>skin</th>\n",
              "      <th>GENDER</th>\n",
              "      <th>age</th>\n",
              "      <th>ICU</th>\n",
              "      <th>NICU</th>\n",
              "    </tr>\n",
              "  </thead>\n",
              "  <tbody>\n",
              "    <tr>\n",
              "      <th>0</th>\n",
              "      <td>EMERGENCY</td>\n",
              "      <td>Private</td>\n",
              "      <td>RELIGIOUS</td>\n",
              "      <td>DIVORCED</td>\n",
              "      <td>WHITE</td>\n",
              "      <td>6.207639</td>\n",
              "      <td>0.0</td>\n",
              "      <td>2.0</td>\n",
              "      <td>0.0</td>\n",
              "      <td>2.0</td>\n",
              "      <td>...</td>\n",
              "      <td>0.0</td>\n",
              "      <td>2.0</td>\n",
              "      <td>0.0</td>\n",
              "      <td>0.0</td>\n",
              "      <td>0.0</td>\n",
              "      <td>1.0</td>\n",
              "      <td>1.0</td>\n",
              "      <td>young_adult</td>\n",
              "      <td>1.0</td>\n",
              "      <td>0.0</td>\n",
              "    </tr>\n",
              "    <tr>\n",
              "      <th>1</th>\n",
              "      <td>EMERGENCY</td>\n",
              "      <td>Private</td>\n",
              "      <td>NOT SPECIFIED</td>\n",
              "      <td>SINGLE</td>\n",
              "      <td>WHITE</td>\n",
              "      <td>4.080556</td>\n",
              "      <td>1.0</td>\n",
              "      <td>2.0</td>\n",
              "      <td>0.0</td>\n",
              "      <td>4.0</td>\n",
              "      <td>...</td>\n",
              "      <td>0.0</td>\n",
              "      <td>0.0</td>\n",
              "      <td>0.0</td>\n",
              "      <td>0.0</td>\n",
              "      <td>0.0</td>\n",
              "      <td>0.0</td>\n",
              "      <td>0.0</td>\n",
              "      <td>senior</td>\n",
              "      <td>1.0</td>\n",
              "      <td>0.0</td>\n",
              "    </tr>\n",
              "    <tr>\n",
              "      <th>2</th>\n",
              "      <td>EMERGENCY</td>\n",
              "      <td>Private</td>\n",
              "      <td>NOT SPECIFIED</td>\n",
              "      <td>SINGLE</td>\n",
              "      <td>BLACK/AFRICAN AMERICAN</td>\n",
              "      <td>12.061806</td>\n",
              "      <td>0.0</td>\n",
              "      <td>0.0</td>\n",
              "      <td>0.0</td>\n",
              "      <td>0.0</td>\n",
              "      <td>...</td>\n",
              "      <td>1.0</td>\n",
              "      <td>0.0</td>\n",
              "      <td>0.0</td>\n",
              "      <td>0.0</td>\n",
              "      <td>3.0</td>\n",
              "      <td>0.0</td>\n",
              "      <td>1.0</td>\n",
              "      <td>middle_adult</td>\n",
              "      <td>1.0</td>\n",
              "      <td>0.0</td>\n",
              "    </tr>\n",
              "    <tr>\n",
              "      <th>3</th>\n",
              "      <td>EMERGENCY</td>\n",
              "      <td>Private</td>\n",
              "      <td>RELIGIOUS</td>\n",
              "      <td>MARRIED</td>\n",
              "      <td>WHITE</td>\n",
              "      <td>7.296528</td>\n",
              "      <td>0.0</td>\n",
              "      <td>1.0</td>\n",
              "      <td>0.0</td>\n",
              "      <td>2.0</td>\n",
              "      <td>...</td>\n",
              "      <td>0.0</td>\n",
              "      <td>0.0</td>\n",
              "      <td>0.0</td>\n",
              "      <td>0.0</td>\n",
              "      <td>1.0</td>\n",
              "      <td>0.0</td>\n",
              "      <td>1.0</td>\n",
              "      <td>senior</td>\n",
              "      <td>1.0</td>\n",
              "      <td>0.0</td>\n",
              "    </tr>\n",
              "    <tr>\n",
              "      <th>4</th>\n",
              "      <td>EMERGENCY</td>\n",
              "      <td>Private</td>\n",
              "      <td>RELIGIOUS</td>\n",
              "      <td>MARRIED</td>\n",
              "      <td>WHITE</td>\n",
              "      <td>4.903472</td>\n",
              "      <td>1.0</td>\n",
              "      <td>7.0</td>\n",
              "      <td>0.0</td>\n",
              "      <td>0.0</td>\n",
              "      <td>...</td>\n",
              "      <td>0.0</td>\n",
              "      <td>0.0</td>\n",
              "      <td>0.0</td>\n",
              "      <td>0.0</td>\n",
              "      <td>0.0</td>\n",
              "      <td>0.0</td>\n",
              "      <td>0.0</td>\n",
              "      <td>senior</td>\n",
              "      <td>1.0</td>\n",
              "      <td>0.0</td>\n",
              "    </tr>\n",
              "  </tbody>\n",
              "</table>\n",
              "<p>5 rows × 27 columns</p>\n",
              "</div>"
            ],
            "text/plain": [
              "  ADMISSION_TYPE INSURANCE       RELIGION MARITAL_STATUS  \\\n",
              "0      EMERGENCY   Private      RELIGIOUS       DIVORCED   \n",
              "1      EMERGENCY   Private  NOT SPECIFIED         SINGLE   \n",
              "2      EMERGENCY   Private  NOT SPECIFIED         SINGLE   \n",
              "3      EMERGENCY   Private      RELIGIOUS        MARRIED   \n",
              "4      EMERGENCY   Private      RELIGIOUS        MARRIED   \n",
              "\n",
              "                ETHNICITY        LOS  blood  circulatory  congenital  \\\n",
              "0                   WHITE   6.207639    0.0          2.0         0.0   \n",
              "1                   WHITE   4.080556    1.0          2.0         0.0   \n",
              "2  BLACK/AFRICAN AMERICAN  12.061806    0.0          0.0         0.0   \n",
              "3                   WHITE   7.296528    0.0          1.0         0.0   \n",
              "4                   WHITE   4.903472    1.0          7.0         0.0   \n",
              "\n",
              "   digestive  ...  neoplasms  nervous  pregnancy  prenatal  respiratory  skin  \\\n",
              "0        2.0  ...        0.0      2.0        0.0       0.0          0.0   1.0   \n",
              "1        4.0  ...        0.0      0.0        0.0       0.0          0.0   0.0   \n",
              "2        0.0  ...        1.0      0.0        0.0       0.0          3.0   0.0   \n",
              "3        2.0  ...        0.0      0.0        0.0       0.0          1.0   0.0   \n",
              "4        0.0  ...        0.0      0.0        0.0       0.0          0.0   0.0   \n",
              "\n",
              "   GENDER           age  ICU  NICU  \n",
              "0     1.0   young_adult  1.0   0.0  \n",
              "1     0.0        senior  1.0   0.0  \n",
              "2     1.0  middle_adult  1.0   0.0  \n",
              "3     1.0        senior  1.0   0.0  \n",
              "4     0.0        senior  1.0   0.0  \n",
              "\n",
              "[5 rows x 27 columns]"
            ]
          },
          "execution_count": 97,
          "metadata": {},
          "output_type": "execute_result"
        }
      ],
      "source": [
        "df.head()"
      ]
    },
    {
      "cell_type": "code",
      "execution_count": 98,
      "metadata": {
        "colab": {
          "base_uri": "https://localhost:8080/"
        },
        "id": "xgkwtTOrvfWy",
        "outputId": "7a525f0c-e5cc-4b2f-bf8c-0d8d8f00e09b"
      },
      "outputs": [
        {
          "name": "stdout",
          "output_type": "stream",
          "text": [
            "<class 'pandas.core.frame.DataFrame'>\n",
            "Index: 53104 entries, 0 to 58961\n",
            "Data columns (total 53 columns):\n",
            " #   Column                      Non-Null Count  Dtype  \n",
            "---  ------                      --------------  -----  \n",
            " 0   LOS                         53104 non-null  float64\n",
            " 1   blood                       53104 non-null  float64\n",
            " 2   circulatory                 53104 non-null  float64\n",
            " 3   congenital                  53104 non-null  float64\n",
            " 4   digestive                   53104 non-null  float64\n",
            " 5   endocrine                   53104 non-null  float64\n",
            " 6   genitourinary               53104 non-null  float64\n",
            " 7   infectious                  53104 non-null  float64\n",
            " 8   injury                      53104 non-null  float64\n",
            " 9   mental                      53104 non-null  float64\n",
            " 10  misc                        53104 non-null  float64\n",
            " 11  muscular                    53104 non-null  float64\n",
            " 12  neoplasms                   53104 non-null  float64\n",
            " 13  nervous                     53104 non-null  float64\n",
            " 14  pregnancy                   53104 non-null  float64\n",
            " 15  prenatal                    53104 non-null  float64\n",
            " 16  respiratory                 53104 non-null  float64\n",
            " 17  skin                        53104 non-null  float64\n",
            " 18  GENDER                      53104 non-null  float64\n",
            " 19  ICU                         53104 non-null  float64\n",
            " 20  NICU                        53104 non-null  float64\n",
            " 21  ADM_ELECTIVE                53104 non-null  bool   \n",
            " 22  ADM_EMERGENCY               53104 non-null  bool   \n",
            " 23  ADM_NEWBORN                 53104 non-null  bool   \n",
            " 24  ADM_URGENT                  53104 non-null  bool   \n",
            " 25  INS_Government              53104 non-null  bool   \n",
            " 26  INS_Medicaid                53104 non-null  bool   \n",
            " 27  INS_Medicare                53104 non-null  bool   \n",
            " 28  INS_Private                 53104 non-null  bool   \n",
            " 29  INS_Self Pay                53104 non-null  bool   \n",
            " 30  REL_NOT SPECIFIED           53104 non-null  bool   \n",
            " 31  REL_RELIGIOUS               53104 non-null  bool   \n",
            " 32  REL_UNOBTAINABLE            53104 non-null  bool   \n",
            " 33  ETH_ASIAN                   53104 non-null  bool   \n",
            " 34  ETH_BLACK/AFRICAN AMERICAN  53104 non-null  bool   \n",
            " 35  ETH_HISPANIC/LATINO         53104 non-null  bool   \n",
            " 36  ETH_OTHER/UNKNOWN           53104 non-null  bool   \n",
            " 37  ETH_WHITE                   53104 non-null  bool   \n",
            " 38  AGE_300.2                   53104 non-null  bool   \n",
            " 39  AGE_middle_adult            53104 non-null  bool   \n",
            " 40  AGE_newborn                 53104 non-null  bool   \n",
            " 41  AGE_senior                  53104 non-null  bool   \n",
            " 42  AGE_young_adult             53104 non-null  bool   \n",
            " 43  MAR_DIVORCED                53104 non-null  bool   \n",
            " 44  MAR_LIFE PARTNER            53104 non-null  bool   \n",
            " 45  MAR_MARRIED                 53104 non-null  bool   \n",
            " 46  MAR_SEPARATED               53104 non-null  bool   \n",
            " 47  MAR_SINGLE                  53104 non-null  bool   \n",
            " 48  MAR_UNKNOWN (DEFAULT)       53104 non-null  bool   \n",
            " 49  MAR_WIDOWED                 53104 non-null  bool   \n",
            " 50  RELIGION_NOT SPECIFIED      53104 non-null  bool   \n",
            " 51  RELIGION_RELIGIOUS          53104 non-null  bool   \n",
            " 52  RELIGION_UNOBTAINABLE       53104 non-null  bool   \n",
            "dtypes: bool(32), float64(21)\n",
            "memory usage: 10.5 MB\n"
          ]
        }
      ],
      "source": [
        "# Create dummy columns for categorical variables\n",
        "prefix_cols = ['ADM', 'INS', 'REL', 'ETH', 'AGE', 'MAR', 'RELIGION']\n",
        "dummy_cols = ['ADMISSION_TYPE', 'INSURANCE', 'RELIGION',\n",
        "             'ETHNICITY', 'age', 'MARITAL_STATUS', 'RELIGION']\n",
        "df = pd.get_dummies(df, prefix=prefix_cols, columns=dummy_cols)\n",
        "df.info()"
      ]
    },
    {
      "cell_type": "code",
      "execution_count": 99,
      "metadata": {
        "colab": {
          "base_uri": "https://localhost:8080/",
          "height": 273
        },
        "id": "kW482IfbvlzG",
        "outputId": "112bf173-bb1d-4b35-9e99-497c051085d3"
      },
      "outputs": [
        {
          "data": {
            "text/html": [
              "<div>\n",
              "<style scoped>\n",
              "    .dataframe tbody tr th:only-of-type {\n",
              "        vertical-align: middle;\n",
              "    }\n",
              "\n",
              "    .dataframe tbody tr th {\n",
              "        vertical-align: top;\n",
              "    }\n",
              "\n",
              "    .dataframe thead th {\n",
              "        text-align: right;\n",
              "    }\n",
              "</style>\n",
              "<table border=\"1\" class=\"dataframe\">\n",
              "  <thead>\n",
              "    <tr style=\"text-align: right;\">\n",
              "      <th></th>\n",
              "      <th>LOS</th>\n",
              "      <th>blood</th>\n",
              "      <th>circulatory</th>\n",
              "      <th>congenital</th>\n",
              "      <th>digestive</th>\n",
              "      <th>endocrine</th>\n",
              "      <th>genitourinary</th>\n",
              "      <th>infectious</th>\n",
              "      <th>injury</th>\n",
              "      <th>mental</th>\n",
              "      <th>...</th>\n",
              "      <th>MAR_DIVORCED</th>\n",
              "      <th>MAR_LIFE PARTNER</th>\n",
              "      <th>MAR_MARRIED</th>\n",
              "      <th>MAR_SEPARATED</th>\n",
              "      <th>MAR_SINGLE</th>\n",
              "      <th>MAR_UNKNOWN (DEFAULT)</th>\n",
              "      <th>MAR_WIDOWED</th>\n",
              "      <th>RELIGION_NOT SPECIFIED</th>\n",
              "      <th>RELIGION_RELIGIOUS</th>\n",
              "      <th>RELIGION_UNOBTAINABLE</th>\n",
              "    </tr>\n",
              "  </thead>\n",
              "  <tbody>\n",
              "    <tr>\n",
              "      <th>0</th>\n",
              "      <td>6.207639</td>\n",
              "      <td>0.0</td>\n",
              "      <td>2.0</td>\n",
              "      <td>0.0</td>\n",
              "      <td>2.0</td>\n",
              "      <td>5.0</td>\n",
              "      <td>2.0</td>\n",
              "      <td>0.0</td>\n",
              "      <td>2.0</td>\n",
              "      <td>0.0</td>\n",
              "      <td>...</td>\n",
              "      <td>True</td>\n",
              "      <td>False</td>\n",
              "      <td>False</td>\n",
              "      <td>False</td>\n",
              "      <td>False</td>\n",
              "      <td>False</td>\n",
              "      <td>False</td>\n",
              "      <td>False</td>\n",
              "      <td>True</td>\n",
              "      <td>False</td>\n",
              "    </tr>\n",
              "    <tr>\n",
              "      <th>1</th>\n",
              "      <td>4.080556</td>\n",
              "      <td>1.0</td>\n",
              "      <td>2.0</td>\n",
              "      <td>0.0</td>\n",
              "      <td>4.0</td>\n",
              "      <td>0.0</td>\n",
              "      <td>0.0</td>\n",
              "      <td>1.0</td>\n",
              "      <td>0.0</td>\n",
              "      <td>0.0</td>\n",
              "      <td>...</td>\n",
              "      <td>False</td>\n",
              "      <td>False</td>\n",
              "      <td>False</td>\n",
              "      <td>False</td>\n",
              "      <td>True</td>\n",
              "      <td>False</td>\n",
              "      <td>False</td>\n",
              "      <td>True</td>\n",
              "      <td>False</td>\n",
              "      <td>False</td>\n",
              "    </tr>\n",
              "    <tr>\n",
              "      <th>2</th>\n",
              "      <td>12.061806</td>\n",
              "      <td>0.0</td>\n",
              "      <td>0.0</td>\n",
              "      <td>0.0</td>\n",
              "      <td>0.0</td>\n",
              "      <td>1.0</td>\n",
              "      <td>0.0</td>\n",
              "      <td>0.0</td>\n",
              "      <td>2.0</td>\n",
              "      <td>1.0</td>\n",
              "      <td>...</td>\n",
              "      <td>False</td>\n",
              "      <td>False</td>\n",
              "      <td>False</td>\n",
              "      <td>False</td>\n",
              "      <td>True</td>\n",
              "      <td>False</td>\n",
              "      <td>False</td>\n",
              "      <td>True</td>\n",
              "      <td>False</td>\n",
              "      <td>False</td>\n",
              "    </tr>\n",
              "    <tr>\n",
              "      <th>3</th>\n",
              "      <td>7.296528</td>\n",
              "      <td>0.0</td>\n",
              "      <td>1.0</td>\n",
              "      <td>0.0</td>\n",
              "      <td>2.0</td>\n",
              "      <td>0.0</td>\n",
              "      <td>0.0</td>\n",
              "      <td>0.0</td>\n",
              "      <td>1.0</td>\n",
              "      <td>0.0</td>\n",
              "      <td>...</td>\n",
              "      <td>False</td>\n",
              "      <td>False</td>\n",
              "      <td>True</td>\n",
              "      <td>False</td>\n",
              "      <td>False</td>\n",
              "      <td>False</td>\n",
              "      <td>False</td>\n",
              "      <td>False</td>\n",
              "      <td>True</td>\n",
              "      <td>False</td>\n",
              "    </tr>\n",
              "    <tr>\n",
              "      <th>4</th>\n",
              "      <td>4.903472</td>\n",
              "      <td>1.0</td>\n",
              "      <td>7.0</td>\n",
              "      <td>0.0</td>\n",
              "      <td>0.0</td>\n",
              "      <td>3.0</td>\n",
              "      <td>0.0</td>\n",
              "      <td>0.0</td>\n",
              "      <td>7.0</td>\n",
              "      <td>0.0</td>\n",
              "      <td>...</td>\n",
              "      <td>False</td>\n",
              "      <td>False</td>\n",
              "      <td>True</td>\n",
              "      <td>False</td>\n",
              "      <td>False</td>\n",
              "      <td>False</td>\n",
              "      <td>False</td>\n",
              "      <td>False</td>\n",
              "      <td>True</td>\n",
              "      <td>False</td>\n",
              "    </tr>\n",
              "  </tbody>\n",
              "</table>\n",
              "<p>5 rows × 53 columns</p>\n",
              "</div>"
            ],
            "text/plain": [
              "         LOS  blood  circulatory  congenital  digestive  endocrine  \\\n",
              "0   6.207639    0.0          2.0         0.0        2.0        5.0   \n",
              "1   4.080556    1.0          2.0         0.0        4.0        0.0   \n",
              "2  12.061806    0.0          0.0         0.0        0.0        1.0   \n",
              "3   7.296528    0.0          1.0         0.0        2.0        0.0   \n",
              "4   4.903472    1.0          7.0         0.0        0.0        3.0   \n",
              "\n",
              "   genitourinary  infectious  injury  mental  ...  MAR_DIVORCED  \\\n",
              "0            2.0         0.0     2.0     0.0  ...          True   \n",
              "1            0.0         1.0     0.0     0.0  ...         False   \n",
              "2            0.0         0.0     2.0     1.0  ...         False   \n",
              "3            0.0         0.0     1.0     0.0  ...         False   \n",
              "4            0.0         0.0     7.0     0.0  ...         False   \n",
              "\n",
              "   MAR_LIFE PARTNER  MAR_MARRIED  MAR_SEPARATED  MAR_SINGLE  \\\n",
              "0             False        False          False       False   \n",
              "1             False        False          False        True   \n",
              "2             False        False          False        True   \n",
              "3             False         True          False       False   \n",
              "4             False         True          False       False   \n",
              "\n",
              "   MAR_UNKNOWN (DEFAULT)  MAR_WIDOWED  RELIGION_NOT SPECIFIED  \\\n",
              "0                  False        False                   False   \n",
              "1                  False        False                    True   \n",
              "2                  False        False                    True   \n",
              "3                  False        False                   False   \n",
              "4                  False        False                   False   \n",
              "\n",
              "   RELIGION_RELIGIOUS  RELIGION_UNOBTAINABLE  \n",
              "0                True                  False  \n",
              "1               False                  False  \n",
              "2               False                  False  \n",
              "3                True                  False  \n",
              "4                True                  False  \n",
              "\n",
              "[5 rows x 53 columns]"
            ]
          },
          "execution_count": 99,
          "metadata": {},
          "output_type": "execute_result"
        }
      ],
      "source": [
        "# Verify\n",
        "df.head()"
      ]
    },
    {
      "cell_type": "code",
      "execution_count": 100,
      "metadata": {
        "id": "-Vr3pgza0Nel"
      },
      "outputs": [],
      "source": [
        "# Target Variable (Length-of-Stay)\n",
        "LOS = df['LOS'].values\n",
        "# Prediction Features\n",
        "features = df.drop(columns=['LOS'])"
      ]
    },
    {
      "cell_type": "code",
      "execution_count": 101,
      "metadata": {
        "colab": {
          "base_uri": "https://localhost:8080/",
          "height": 273
        },
        "id": "KkojKVyBRRkQ",
        "outputId": "be774acb-b4a2-4993-9d3c-a921031d6a60"
      },
      "outputs": [
        {
          "data": {
            "text/html": [
              "<div>\n",
              "<style scoped>\n",
              "    .dataframe tbody tr th:only-of-type {\n",
              "        vertical-align: middle;\n",
              "    }\n",
              "\n",
              "    .dataframe tbody tr th {\n",
              "        vertical-align: top;\n",
              "    }\n",
              "\n",
              "    .dataframe thead th {\n",
              "        text-align: right;\n",
              "    }\n",
              "</style>\n",
              "<table border=\"1\" class=\"dataframe\">\n",
              "  <thead>\n",
              "    <tr style=\"text-align: right;\">\n",
              "      <th></th>\n",
              "      <th>blood</th>\n",
              "      <th>circulatory</th>\n",
              "      <th>congenital</th>\n",
              "      <th>digestive</th>\n",
              "      <th>endocrine</th>\n",
              "      <th>genitourinary</th>\n",
              "      <th>infectious</th>\n",
              "      <th>injury</th>\n",
              "      <th>mental</th>\n",
              "      <th>misc</th>\n",
              "      <th>...</th>\n",
              "      <th>MAR_DIVORCED</th>\n",
              "      <th>MAR_LIFE PARTNER</th>\n",
              "      <th>MAR_MARRIED</th>\n",
              "      <th>MAR_SEPARATED</th>\n",
              "      <th>MAR_SINGLE</th>\n",
              "      <th>MAR_UNKNOWN (DEFAULT)</th>\n",
              "      <th>MAR_WIDOWED</th>\n",
              "      <th>RELIGION_NOT SPECIFIED</th>\n",
              "      <th>RELIGION_RELIGIOUS</th>\n",
              "      <th>RELIGION_UNOBTAINABLE</th>\n",
              "    </tr>\n",
              "  </thead>\n",
              "  <tbody>\n",
              "    <tr>\n",
              "      <th>0</th>\n",
              "      <td>0.0</td>\n",
              "      <td>2.0</td>\n",
              "      <td>0.0</td>\n",
              "      <td>2.0</td>\n",
              "      <td>5.0</td>\n",
              "      <td>2.0</td>\n",
              "      <td>0.0</td>\n",
              "      <td>2.0</td>\n",
              "      <td>0.0</td>\n",
              "      <td>0.0</td>\n",
              "      <td>...</td>\n",
              "      <td>True</td>\n",
              "      <td>False</td>\n",
              "      <td>False</td>\n",
              "      <td>False</td>\n",
              "      <td>False</td>\n",
              "      <td>False</td>\n",
              "      <td>False</td>\n",
              "      <td>False</td>\n",
              "      <td>True</td>\n",
              "      <td>False</td>\n",
              "    </tr>\n",
              "    <tr>\n",
              "      <th>1</th>\n",
              "      <td>1.0</td>\n",
              "      <td>2.0</td>\n",
              "      <td>0.0</td>\n",
              "      <td>4.0</td>\n",
              "      <td>0.0</td>\n",
              "      <td>0.0</td>\n",
              "      <td>1.0</td>\n",
              "      <td>0.0</td>\n",
              "      <td>0.0</td>\n",
              "      <td>1.0</td>\n",
              "      <td>...</td>\n",
              "      <td>False</td>\n",
              "      <td>False</td>\n",
              "      <td>False</td>\n",
              "      <td>False</td>\n",
              "      <td>True</td>\n",
              "      <td>False</td>\n",
              "      <td>False</td>\n",
              "      <td>True</td>\n",
              "      <td>False</td>\n",
              "      <td>False</td>\n",
              "    </tr>\n",
              "    <tr>\n",
              "      <th>2</th>\n",
              "      <td>0.0</td>\n",
              "      <td>0.0</td>\n",
              "      <td>0.0</td>\n",
              "      <td>0.0</td>\n",
              "      <td>1.0</td>\n",
              "      <td>0.0</td>\n",
              "      <td>0.0</td>\n",
              "      <td>2.0</td>\n",
              "      <td>1.0</td>\n",
              "      <td>1.0</td>\n",
              "      <td>...</td>\n",
              "      <td>False</td>\n",
              "      <td>False</td>\n",
              "      <td>False</td>\n",
              "      <td>False</td>\n",
              "      <td>True</td>\n",
              "      <td>False</td>\n",
              "      <td>False</td>\n",
              "      <td>True</td>\n",
              "      <td>False</td>\n",
              "      <td>False</td>\n",
              "    </tr>\n",
              "    <tr>\n",
              "      <th>3</th>\n",
              "      <td>0.0</td>\n",
              "      <td>1.0</td>\n",
              "      <td>0.0</td>\n",
              "      <td>2.0</td>\n",
              "      <td>0.0</td>\n",
              "      <td>0.0</td>\n",
              "      <td>0.0</td>\n",
              "      <td>1.0</td>\n",
              "      <td>0.0</td>\n",
              "      <td>0.0</td>\n",
              "      <td>...</td>\n",
              "      <td>False</td>\n",
              "      <td>False</td>\n",
              "      <td>True</td>\n",
              "      <td>False</td>\n",
              "      <td>False</td>\n",
              "      <td>False</td>\n",
              "      <td>False</td>\n",
              "      <td>False</td>\n",
              "      <td>True</td>\n",
              "      <td>False</td>\n",
              "    </tr>\n",
              "    <tr>\n",
              "      <th>4</th>\n",
              "      <td>1.0</td>\n",
              "      <td>7.0</td>\n",
              "      <td>0.0</td>\n",
              "      <td>0.0</td>\n",
              "      <td>3.0</td>\n",
              "      <td>0.0</td>\n",
              "      <td>0.0</td>\n",
              "      <td>7.0</td>\n",
              "      <td>0.0</td>\n",
              "      <td>0.0</td>\n",
              "      <td>...</td>\n",
              "      <td>False</td>\n",
              "      <td>False</td>\n",
              "      <td>True</td>\n",
              "      <td>False</td>\n",
              "      <td>False</td>\n",
              "      <td>False</td>\n",
              "      <td>False</td>\n",
              "      <td>False</td>\n",
              "      <td>True</td>\n",
              "      <td>False</td>\n",
              "    </tr>\n",
              "  </tbody>\n",
              "</table>\n",
              "<p>5 rows × 52 columns</p>\n",
              "</div>"
            ],
            "text/plain": [
              "   blood  circulatory  congenital  digestive  endocrine  genitourinary  \\\n",
              "0    0.0          2.0         0.0        2.0        5.0            2.0   \n",
              "1    1.0          2.0         0.0        4.0        0.0            0.0   \n",
              "2    0.0          0.0         0.0        0.0        1.0            0.0   \n",
              "3    0.0          1.0         0.0        2.0        0.0            0.0   \n",
              "4    1.0          7.0         0.0        0.0        3.0            0.0   \n",
              "\n",
              "   infectious  injury  mental  misc  ...  MAR_DIVORCED  MAR_LIFE PARTNER  \\\n",
              "0         0.0     2.0     0.0   0.0  ...          True             False   \n",
              "1         1.0     0.0     0.0   1.0  ...         False             False   \n",
              "2         0.0     2.0     1.0   1.0  ...         False             False   \n",
              "3         0.0     1.0     0.0   0.0  ...         False             False   \n",
              "4         0.0     7.0     0.0   0.0  ...         False             False   \n",
              "\n",
              "   MAR_MARRIED  MAR_SEPARATED  MAR_SINGLE  MAR_UNKNOWN (DEFAULT)  MAR_WIDOWED  \\\n",
              "0        False          False       False                  False        False   \n",
              "1        False          False        True                  False        False   \n",
              "2        False          False        True                  False        False   \n",
              "3         True          False       False                  False        False   \n",
              "4         True          False       False                  False        False   \n",
              "\n",
              "   RELIGION_NOT SPECIFIED  RELIGION_RELIGIOUS  RELIGION_UNOBTAINABLE  \n",
              "0                   False                True                  False  \n",
              "1                    True               False                  False  \n",
              "2                    True               False                  False  \n",
              "3                   False                True                  False  \n",
              "4                   False                True                  False  \n",
              "\n",
              "[5 rows x 52 columns]"
            ]
          },
          "execution_count": 101,
          "metadata": {},
          "output_type": "execute_result"
        }
      ],
      "source": [
        "features.head()\n"
      ]
    },
    {
      "cell_type": "code",
      "execution_count": 102,
      "metadata": {
        "colab": {
          "base_uri": "https://localhost:8080/"
        },
        "id": "Pzkzxotq0fGd",
        "outputId": "f4063407-5264-4b62-86b1-1a59df4c3873"
      },
      "outputs": [
        {
          "name": "stdout",
          "output_type": "stream",
          "text": [
            "Training set has 42483 samples.\n",
            "Testing set has 10621 samples.\n"
          ]
        }
      ],
      "source": [
        "# Split into train 80% and test 20%\n",
        "X_train, X_test, y_train, y_test = train_test_split(features,\n",
        "                                                    LOS,\n",
        "                                                    test_size = .20,\n",
        "                                                    random_state = 0)\n",
        "\n",
        "# Show the results of the split\n",
        "print(\"Training set has {} samples.\".format(X_train.shape[0]))\n",
        "print(\"Testing set has {} samples.\".format(X_test.shape[0]))"
      ]
    },
    {
      "cell_type": "markdown",
      "metadata": {
        "id": "6Bd3r4T5Cikr"
      },
      "source": [
        "**Machine Learning Models**"
      ]
    },
    {
      "cell_type": "code",
      "execution_count": 103,
      "metadata": {
        "colab": {
          "base_uri": "https://localhost:8080/"
        },
        "id": "3cwTaxbp0pFF",
        "outputId": "a972806a-0fc7-4658-9648-3fcb4cd61b3b"
      },
      "outputs": [
        {
          "name": "stdout",
          "output_type": "stream",
          "text": [
            "SGDRegressor done.\n",
            "GradientBoostingRegressor done.\n",
            "LinearRegression done.\n",
            "KNeighborsRegressor done.\n",
            "RandomForestRegressor done.\n"
          ]
        }
      ],
      "source": [
        "# Regression models for comparison\n",
        "models = [SGDRegressor(random_state = 0),\n",
        "          GradientBoostingRegressor(random_state = 0),\n",
        "          LinearRegression(),\n",
        "          KNeighborsRegressor(),\n",
        "          RandomForestRegressor(random_state = 0)]\n",
        "\n",
        "results = {}\n",
        "\n",
        "for model in models:\n",
        "\n",
        "    # Instantiate and fit Regressor Model\n",
        "    reg_model = model\n",
        "    reg_model.fit(X_train, y_train)\n",
        "\n",
        "    # Make predictions with model\n",
        "    y_test_preds = reg_model.predict(X_test)\n",
        "\n",
        "    # Grab model name and store results associated with model\n",
        "    name = str(model).split(\"(\")[0]\n",
        "\n",
        "    results[name] = r2_score(y_test, y_test_preds)\n",
        "    print('{} done.'.format(name))"
      ]
    },
    {
      "cell_type": "code",
      "execution_count": 104,
      "metadata": {
        "colab": {
          "base_uri": "https://localhost:8080/",
          "height": 497
        },
        "id": "mYQSgtrD09kF",
        "outputId": "128a5174-1c32-4541-ce63-1439ba6c6fb2"
      },
      "outputs": [
        {
          "data": {
            "text/plain": [
              "Text(0.5, 1.0, 'Comparison of Regression Models')"
            ]
          },
          "execution_count": 104,
          "metadata": {},
          "output_type": "execute_result"
        },
        {
          "data": {
            "image/png": "[encoded data removed]",
            "text/plain": [
              "<Figure size 640x480 with 1 Axes>"
            ]
          },
          "metadata": {},
          "output_type": "display_data"
        }
      ],
      "source": [
        "# R2 score results\n",
        "fig, ax = plt.subplots()\n",
        "ind = range(len(results))\n",
        "ax.barh(ind, list(results.values()), align='center',\n",
        "        color = '#55a868', alpha=0.8)\n",
        "ax.set_yticks(ind)\n",
        "ax.set_yticklabels(results.keys())\n",
        "ax.set_xlabel('R-squared score')\n",
        "ax.tick_params(left=False, top=False, right=False)\n",
        "ax.set_title('Comparison of Regression Models')\n",
        "#fig.savefig('images/compare_models.png', bbox_inches = 'tight')"
      ]
    },
    {
      "cell_type": "code",
      "execution_count": 105,
      "metadata": {
        "colab": {
          "base_uri": "https://localhost:8080/"
        },
        "id": "pB0L6qGH1cNy",
        "outputId": "c7a2f706-1d92-4256-80a1-f3e9a859db2b"
      },
      "outputs": [
        {
          "name": "stdout",
          "output_type": "stream",
          "text": [
            "R2 score is: 0.422946\n"
          ]
        }
      ],
      "source": [
        "# GradientBoostingRegressor will be used as the LOS prediction model\n",
        "reg_model = GradientBoostingRegressor(random_state=0)\n",
        "reg_model.fit(X_train, y_train)\n",
        "y_test_preds = reg_model.predict(X_test)\n",
        "r2_not_refined = r2_score(y_test, y_test_preds)\n",
        "print(\"R2 score is: {:2f}\".format(r2_not_refined))"
      ]
    },
    {
      "cell_type": "markdown",
      "metadata": {
        "id": "g6ImDq8QCpZk"
      },
      "source": [
        "**Model Finetuning**"
      ]
    },
    {
      "cell_type": "code",
      "execution_count": 106,
      "metadata": {
        "colab": {
          "base_uri": "https://localhost:8080/"
        },
        "id": "KwvbPLdb1z8X",
        "outputId": "d58e5f4c-4613-498a-901d-50562041bc52"
      },
      "outputs": [
        {
          "name": "stdout",
          "output_type": "stream",
          "text": [
            "0.40634241008763167\n",
            "GradientBoostingRegressor(max_depth=4, n_estimators=300)\n"
          ]
        }
      ],
      "source": [
        "# Split into train 80% and test 20%\n",
        "X_train, X_test, y_train, y_test = train_test_split(features,\n",
        "                                                    LOS,\n",
        "                                                    test_size = .20,\n",
        "                                                    random_state = 42)\n",
        "\n",
        "# Set the parameters by cross-validation\n",
        "#tuned_parameters = [{'n_estimators': [100, 200, 300],\n",
        "#                     'max_depth' : [2, 3, 4],\n",
        "#                     'loss': ['ls', 'lad', 'huber']}]\n",
        "tuned_parameters = [{'n_estimators': [200, 300],\n",
        "                     'max_depth' : [3, 4],\n",
        "                     'loss': ['squared_error', 'absolute_error']}]\n",
        "\n",
        "# create and fit a ridge regression model, testing each alpha\n",
        "reg_model = GradientBoostingRegressor()\n",
        "grid = GridSearchCV(reg_model, tuned_parameters)\n",
        "grid.fit(X_train, y_train)\n",
        "reg_model_optimized = grid.best_estimator_\n",
        "\n",
        "# summarize the results of the grid search\n",
        "print(grid.best_score_)\n",
        "print(grid.best_estimator_)"
      ]
    },
    {
      "cell_type": "code",
      "execution_count": 107,
      "metadata": {
        "colab": {
          "base_uri": "https://localhost:8080/"
        },
        "id": "j32qkufT4zzG",
        "outputId": "658f4392-ccf6-4108-f456-4387ae71ba65"
      },
      "outputs": [
        {
          "name": "stdout",
          "output_type": "stream",
          "text": [
            "Optimized R2 score is: 0.373599\n"
          ]
        }
      ],
      "source": [
        "#reg_model = GradientBoostingRegressor(n_estimators = 200, max_depth=4, random_state=0)\n",
        "#reg_model.fit(X_train, y_train)\n",
        "y_test_preds = reg_model_optimized.predict(X_test)\n",
        "r2_optimized = r2_score(y_test, y_test_preds)\n",
        "print(\"Optimized R2 score is: {:2f}\".format(r2_optimized))"
      ]
    },
    {
      "cell_type": "code",
      "execution_count": 109,
      "metadata": {
        "colab": {
          "base_uri": "https://localhost:8080/"
        },
        "id": "f9VO0Vuz46YG",
        "outputId": "e89c7416-d647-4ba3-a96e-951c2917785e"
      },
      "outputs": [
        {
          "name": "stdout",
          "output_type": "stream",
          "text": [
            "Model refinement improved R2 score by -0.0493\n"
          ]
        }
      ],
      "source": [
        "\n",
        "print('Model refinement improved R2 score by {:.4f}'.format(r2_optimized-r2_not_refined))"
      ]
    },
    {
      "cell_type": "markdown",
      "metadata": {
        "id": "NDWy2cAfCx_x"
      },
      "source": [
        "**Evaluation**"
      ]
    },
    {
      "cell_type": "code",
      "execution_count": 110,
      "metadata": {
        "colab": {
          "base_uri": "https://localhost:8080/",
          "height": 677
        },
        "id": "nNtRGL0a5KII",
        "outputId": "818cb21f-ee86-4970-d6d3-980e1f76c114"
      },
      "outputs": [
        {
          "data": {
            "text/html": [
              "<div>\n",
              "<style scoped>\n",
              "    .dataframe tbody tr th:only-of-type {\n",
              "        vertical-align: middle;\n",
              "    }\n",
              "\n",
              "    .dataframe tbody tr th {\n",
              "        vertical-align: top;\n",
              "    }\n",
              "\n",
              "    .dataframe thead th {\n",
              "        text-align: right;\n",
              "    }\n",
              "</style>\n",
              "<table border=\"1\" class=\"dataframe\">\n",
              "  <thead>\n",
              "    <tr style=\"text-align: right;\">\n",
              "      <th></th>\n",
              "      <th>importance</th>\n",
              "    </tr>\n",
              "  </thead>\n",
              "  <tbody>\n",
              "    <tr>\n",
              "      <th>prenatal</th>\n",
              "      <td>0.401578</td>\n",
              "    </tr>\n",
              "    <tr>\n",
              "      <th>respiratory</th>\n",
              "      <td>0.111783</td>\n",
              "    </tr>\n",
              "    <tr>\n",
              "      <th>infectious</th>\n",
              "      <td>0.103930</td>\n",
              "    </tr>\n",
              "    <tr>\n",
              "      <th>digestive</th>\n",
              "      <td>0.083298</td>\n",
              "    </tr>\n",
              "    <tr>\n",
              "      <th>nervous</th>\n",
              "      <td>0.081581</td>\n",
              "    </tr>\n",
              "    <tr>\n",
              "      <th>injury</th>\n",
              "      <td>0.035479</td>\n",
              "    </tr>\n",
              "    <tr>\n",
              "      <th>skin</th>\n",
              "      <td>0.020009</td>\n",
              "    </tr>\n",
              "    <tr>\n",
              "      <th>congenital</th>\n",
              "      <td>0.017314</td>\n",
              "    </tr>\n",
              "    <tr>\n",
              "      <th>genitourinary</th>\n",
              "      <td>0.016302</td>\n",
              "    </tr>\n",
              "    <tr>\n",
              "      <th>circulatory</th>\n",
              "      <td>0.016001</td>\n",
              "    </tr>\n",
              "    <tr>\n",
              "      <th>endocrine</th>\n",
              "      <td>0.015979</td>\n",
              "    </tr>\n",
              "    <tr>\n",
              "      <th>misc</th>\n",
              "      <td>0.008182</td>\n",
              "    </tr>\n",
              "    <tr>\n",
              "      <th>blood</th>\n",
              "      <td>0.007908</td>\n",
              "    </tr>\n",
              "    <tr>\n",
              "      <th>mental</th>\n",
              "      <td>0.007899</td>\n",
              "    </tr>\n",
              "    <tr>\n",
              "      <th>ADM_EMERGENCY</th>\n",
              "      <td>0.007488</td>\n",
              "    </tr>\n",
              "    <tr>\n",
              "      <th>ICU</th>\n",
              "      <td>0.005438</td>\n",
              "    </tr>\n",
              "    <tr>\n",
              "      <th>INS_Medicare</th>\n",
              "      <td>0.004472</td>\n",
              "    </tr>\n",
              "    <tr>\n",
              "      <th>neoplasms</th>\n",
              "      <td>0.004031</td>\n",
              "    </tr>\n",
              "    <tr>\n",
              "      <th>muscular</th>\n",
              "      <td>0.003979</td>\n",
              "    </tr>\n",
              "    <tr>\n",
              "      <th>INS_Government</th>\n",
              "      <td>0.003905</td>\n",
              "    </tr>\n",
              "  </tbody>\n",
              "</table>\n",
              "</div>"
            ],
            "text/plain": [
              "                importance\n",
              "prenatal          0.401578\n",
              "respiratory       0.111783\n",
              "infectious        0.103930\n",
              "digestive         0.083298\n",
              "nervous           0.081581\n",
              "injury            0.035479\n",
              "skin              0.020009\n",
              "congenital        0.017314\n",
              "genitourinary     0.016302\n",
              "circulatory       0.016001\n",
              "endocrine         0.015979\n",
              "misc              0.008182\n",
              "blood             0.007908\n",
              "mental            0.007899\n",
              "ADM_EMERGENCY     0.007488\n",
              "ICU               0.005438\n",
              "INS_Medicare      0.004472\n",
              "neoplasms         0.004031\n",
              "muscular          0.003979\n",
              "INS_Government    0.003905"
            ]
          },
          "execution_count": 110,
          "metadata": {},
          "output_type": "execute_result"
        }
      ],
      "source": [
        "# https://towardsdatascience.com/running-random-forests-inspect-the-feature-importances-with-this-code-2b00dd72b92e\n",
        "feature_imp = pd.DataFrame(reg_model_optimized.feature_importances_,\n",
        "                                   index = X_train.columns,\n",
        "                                   columns=['importance']).sort_values('importance', ascending=False)\n",
        "\n",
        "feature_imp.head(20)"
      ]
    },
    {
      "cell_type": "code",
      "execution_count": 111,
      "metadata": {
        "colab": {
          "base_uri": "https://localhost:8080/"
        },
        "id": "xsE1Erp65TJc",
        "outputId": "954b4826-c634-471b-83e4-797b4add8250"
      },
      "outputs": [
        {
          "data": {
            "text/plain": [
              "['prenatal',\n",
              " 'respiratory',\n",
              " 'infectious',\n",
              " 'digestive',\n",
              " 'nervous',\n",
              " 'injury',\n",
              " 'skin',\n",
              " 'congenital',\n",
              " 'genitourinary',\n",
              " 'circulatory']"
            ]
          },
          "execution_count": 111,
          "metadata": {},
          "output_type": "execute_result"
        }
      ],
      "source": [
        "feature_imp.index[0:10].tolist()"
      ]
    },
    {
      "cell_type": "code",
      "execution_count": 112,
      "metadata": {
        "colab": {
          "base_uri": "https://localhost:8080/",
          "height": 516
        },
        "id": "rdvDDssN5X3B",
        "outputId": "a43980aa-d58d-4f57-8f97-2f951128ee5e"
      },
      "outputs": [
        {
          "data": {
            "image/png": "[encoded data removed]",
            "text/plain": [
              "<Figure size 700x500 with 1 Axes>"
            ]
          },
          "metadata": {},
          "output_type": "display_data"
        }
      ],
      "source": [
        "\n",
        "# Plot feature importance\n",
        "fig, ax = plt.subplots(figsize=(7, 5))\n",
        "ind = range(0,10)\n",
        "ax.barh(ind, feature_imp['importance'].values[0:10],\n",
        "        align='center', color='#c44e52', alpha=0.9)\n",
        "ax.set_yticks(ind)\n",
        "ax.set_yticklabels(feature_imp.index[0:10].tolist())\n",
        "ax.tick_params(left=False, top=False, right=False)\n",
        "ax.set_title(\"Top 10 features for predicting LOS\")\n",
        "ax.set_xlabel('Feature Importance Coefficient \\n(GradientBoostingRegressor)')\n",
        "plt.gca().invert_yaxis()\n",
        "#fig.savefig('images/feature_importance.png', bbox_inches = 'tight')"
      ]
    },
    {
      "cell_type": "code",
      "execution_count": 113,
      "metadata": {
        "colab": {
          "base_uri": "https://localhost:8080/",
          "height": 584
        },
        "id": "OceWoWJY6zzM",
        "outputId": "f97145ac-3b66-4c48-f2cb-4f67e4aaa146"
      },
      "outputs": [
        {
          "name": "stdout",
          "output_type": "stream",
          "text": [
            "Prediction Model days 5.5226954970978985\n",
            "Median Model days 6.427673947839196\n",
            "Average Model days 7.235765892517812\n",
            "Prediction Model RMS 0.09300811347839501\n",
            "Median Model RMS 0.12256797714023587\n",
            "Average Model RMS 0.11751550834686907\n"
          ]
        },
        {
          "data": {
            "image/png": "[encoded data removed]",
            "text/plain": [
              "<Figure size 640x480 with 1 Axes>"
            ]
          },
          "metadata": {},
          "output_type": "display_data"
        }
      ],
      "source": [
        "actual_avg_los = df['LOS'].mean()\n",
        "ml_count, md_count, avg_count = 0, 0, 0\n",
        "ml_days, md_days, avg_days = 0, 0, 0\n",
        "ml_days_rms, md_days_rms, avg_days_rms = 0, 0, 0\n",
        "\n",
        "for i in range(y_test_preds.shape[0]):\n",
        "    ml_model = abs(y_test_preds[i] - y_test[i])\n",
        "    median_model = abs(actual_median_los - y_test[i])\n",
        "    average_model = abs(actual_avg_los - y_test[i])\n",
        "\n",
        "    ml_days += ml_model\n",
        "    md_days += median_model\n",
        "    avg_days += average_model\n",
        "\n",
        "    ml_model_rms = (y_test_preds[i] - y_test[i]) ** 2\n",
        "    median_model_rms = (actual_median_los - y_test[i]) ** 2\n",
        "    average_model_rms = (actual_avg_los - y_test[i]) ** 2\n",
        "\n",
        "    ml_days_rms += ml_model_rms\n",
        "    md_days_rms += median_model_rms\n",
        "    avg_days_rms += average_model_rms\n",
        "\n",
        "print(\"Prediction Model days {}\".format(ml_days / y_test_preds.shape[0]))\n",
        "print(\"Median Model days {}\".format(md_days / y_test_preds.shape[0]))\n",
        "print(\"Average Model days {}\".format(avg_days / y_test_preds.shape[0]))\n",
        "\n",
        "print(\"Prediction Model RMS {}\".format((ml_days_rms ** 0.5) / y_test_preds.shape[0]))\n",
        "print(\"Median Model RMS {}\".format((md_days_rms ** 0.5) / y_test_preds.shape[0]))\n",
        "print(\"Average Model RMS {}\".format((avg_days_rms ** 0.5) / y_test_preds.shape[0]))\n",
        "# RMSE plot for writeup\n",
        "data = pd.DataFrame({'RMSE': [(ml_days_rms**0.5)/y_test_preds.shape[0],\n",
        "                             (avg_days_rms**0.5)/y_test_preds.shape[0],\n",
        "                             (md_days_rms**0.5)/y_test_preds.shape[0]],\n",
        "                     'LOS Model Type': ['Predicted LOS', 'Average LOS', 'Median LOS'] })\n",
        "\n",
        "fig, ax = plt.subplots()\n",
        "ax = sns.barplot(x='RMSE', y='LOS Model Type', data=data)\n",
        "ax.set_title('RMSE comparison of Length-of-Stay models')\n",
        "ax.tick_params(top=False, left=False, right=False)\n",
        "\n",
        "plt.show()"
      ]
    }
  ],
  "metadata": {
    "colab": {
      "provenance": []
    },
    "kernelspec": {
      "display_name": "dl_hw",
      "language": "python",
      "name": "python3"
    },
    "language_info": {
      "codemirror_mode": {
        "name": "ipython",
        "version": 3
      },
      "file_extension": ".py",
      "mimetype": "text/x-python",
      "name": "python",
      "nbconvert_exporter": "python",
      "pygments_lexer": "ipython3",
      "version": "3.12.8"
    }
  },
  "nbformat": 4,
  "nbformat_minor": 0
}
